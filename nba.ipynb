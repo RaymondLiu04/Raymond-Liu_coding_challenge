{
 "cells": [
  {
   "cell_type": "code",
   "execution_count": 1,
   "metadata": {},
   "outputs": [
    {
     "name": "stderr",
     "output_type": "stream",
     "text": [
      "c:\\Users\\rliu2\\anaconda3\\lib\\site-packages\\sklearn\\utils\\__init__.py:21: UserWarning: A NumPy version >=1.22.4 and <2.3.0 is required for this version of SciPy (detected version 1.21.6)\n",
      "  from scipy.sparse import issparse\n"
     ]
    },
    {
     "name": "stdout",
     "output_type": "stream",
     "text": [
      "<class 'pandas.core.frame.DataFrame'>\n",
      "RangeIndex: 250 entries, 0 to 249\n",
      "Data columns (total 91 columns):\n",
      " #   Column        Non-Null Count  Dtype  \n",
      "---  ------        --------------  -----  \n",
      " 0   Name          250 non-null    object \n",
      " 1   Age           250 non-null    float64\n",
      " 2   MP            250 non-null    float64\n",
      " 3   GP            250 non-null    float64\n",
      " 4   MPG           250 non-null    float64\n",
      " 5   FGM           250 non-null    float64\n",
      " 6   FGA           250 non-null    float64\n",
      " 7   FG%           250 non-null    float64\n",
      " 8   3PM           250 non-null    float64\n",
      " 9   3PA           250 non-null    float64\n",
      " 10  3P%           250 non-null    float64\n",
      " 11  FTM           250 non-null    float64\n",
      " 12  FTA           250 non-null    float64\n",
      " 13  FT%           250 non-null    float64\n",
      " 14  ORB           250 non-null    float64\n",
      " 15  DRB           250 non-null    float64\n",
      " 16  REB           250 non-null    float64\n",
      " 17  AST           250 non-null    float64\n",
      " 18  STL           250 non-null    float64\n",
      " 19  BLK           250 non-null    float64\n",
      " 20  TOV           250 non-null    float64\n",
      " 21  PTS           250 non-null    float64\n",
      " 22  TS%           250 non-null    float64\n",
      " 23  rTS%          250 non-null    float64\n",
      " 24  SQ            250 non-null    float64\n",
      " 25  3PAr          247 non-null    float64\n",
      " 26  r3PAr         247 non-null    float64\n",
      " 27  FTr           250 non-null    float64\n",
      " 28  ORB%          250 non-null    float64\n",
      " 29  rORB%         250 non-null    float64\n",
      " 30  raORB         250 non-null    float64\n",
      " 31  DRB%          250 non-null    float64\n",
      " 32  rDRB%         250 non-null    float64\n",
      " 33  raDRB         250 non-null    float64\n",
      " 34  STL%          250 non-null    float64\n",
      " 35  raDTOV        250 non-null    float64\n",
      " 36  BLK%          250 non-null    float64\n",
      " 37  TOV%          250 non-null    float64\n",
      " 38  USG%          250 non-null    float64\n",
      " 39  WS            250 non-null    float64\n",
      " 40  cTOV%         250 non-null    float64\n",
      " 41  BC            250 non-null    float64\n",
      " 42  LOAD          250 non-null    float64\n",
      " 43  PR            250 non-null    float64\n",
      " 44  PORT          250 non-null    float64\n",
      " 45  OBPM          250 non-null    float64\n",
      " 46  DBPM          250 non-null    float64\n",
      " 47  BPM           250 non-null    float64\n",
      " 48  VORP          250 non-null    float64\n",
      " 49  ODARKO        249 non-null    float64\n",
      " 50  DDARKO        249 non-null    float64\n",
      " 51  DARKO         249 non-null    float64\n",
      " 52  COPM          250 non-null    float64\n",
      " 53  CDPM          250 non-null    float64\n",
      " 54  CPM           250 non-null    float64\n",
      " 55  ODRIP         248 non-null    float64\n",
      " 56  DDRIP         248 non-null    float64\n",
      " 57  DRIP          248 non-null    float64\n",
      " 58  dPG%          250 non-null    float64\n",
      " 59  dSG%          250 non-null    float64\n",
      " 60  dSF%          250 non-null    float64\n",
      " 61  dPF%          250 non-null    float64\n",
      " 62  dC%           250 non-null    float64\n",
      " 63  VR            250 non-null    float64\n",
      " 64  MD            250 non-null    float64\n",
      " 65  DEFL          250 non-null    float64\n",
      " 66  FREQ          250 non-null    float64\n",
      " 67  LT_06_%       250 non-null    float64\n",
      " 68  PM            250 non-null    float64\n",
      " 69  raDRDB        250 non-null    float64\n",
      " 70  raDTOV.1      250 non-null    float64\n",
      " 71  Handoff%      194 non-null    float64\n",
      " 72  HandoffPPP    194 non-null    float64\n",
      " 73  Cut%          197 non-null    float64\n",
      " 74  CutPPP        197 non-null    float64\n",
      " 75  Iso%          178 non-null    float64\n",
      " 76  IsoPPP        178 non-null    float64\n",
      " 77  Prbh%         202 non-null    float64\n",
      " 78  PrbhPPP       202 non-null    float64\n",
      " 79  Post%         112 non-null    float64\n",
      " 80  PostPPP       112 non-null    float64\n",
      " 81  Pnrr%         169 non-null    float64\n",
      " 82  PnrrPPP       169 non-null    float64\n",
      " 83  OffScreen%    143 non-null    float64\n",
      " 84  OffScreenPPP  143 non-null    float64\n",
      " 85  SpotUp%       200 non-null    float64\n",
      " 86  SpotUpPPP     200 non-null    float64\n",
      " 87  Height        250 non-null    float64\n",
      " 88  Wingspan      250 non-null    float64\n",
      " 89  Weight        250 non-null    float64\n",
      " 90  Length        247 non-null    float64\n",
      "dtypes: float64(90), object(1)\n",
      "memory usage: 177.9+ KB\n"
     ]
    }
   ],
   "source": [
    "from sklearn.preprocessing import StandardScaler\n",
    "import matplotlib.pyplot as plt\n",
    "import numpy as np\n",
    "import pandas as pd\n",
    "from sklearn.cluster import KMeans\n",
    "from sklearn.decomposition import PCA\n",
    "from sklearn.metrics import silhouette_score\n",
    "from sklearn.metrics import calinski_harabasz_score\n",
    "from sklearn.preprocessing import StandardScaler\n",
    "import plotly.express as px\n",
    "import tabulate as tab\n",
    "\n",
    "#Create dataset using pandas\n",
    "df = pd.read_excel(r\"C:\\DS\\NBA_player_data.xlsx\").set_index('Name').astype(float) #Convert all columns except for Name to float type\n",
    "df = df.reset_index() #Reset the index\n",
    "df.info()"
   ]
  },
  {
   "cell_type": "code",
   "execution_count": 2,
   "metadata": {},
   "outputs": [],
   "source": [
    "df.head()\n",
    "#Change the Name feature to not include team and position\n",
    "def edit_string(name):\n",
    "    if name[-1] == 'C':\n",
    "        return name[:-7] #If the player is a Center, the last 7 letters need to be deleted (3 letter team abbreviation + space + vertical line + space + C)\n",
    "    else:\n",
    "        return name[:-8] #If the player isn't a center, their position is two letters, so the last 8 letters need to be deleted\n",
    "\n",
    "df['Name'] = df['Name'].apply(edit_string)\n"
   ]
  },
  {
   "cell_type": "code",
   "execution_count": 3,
   "metadata": {},
   "outputs": [
    {
     "name": "stdout",
     "output_type": "stream",
     "text": [
      "                 Name   Age      MP    GP   MPG  FGM   FGA    FG%  3PM  3PA  \\\n",
      "0       DeMar DeRozan  35.0  2989.0  79.0  37.8  8.2  17.2  0.480  0.9  2.8   \n",
      "1    Domantas Sabonis  28.0  2928.0  82.0  35.7  7.7  13.0  0.594  0.4  1.1   \n",
      "2          Coby White  25.0  2881.0  79.0  36.5  6.8  15.3  0.447  2.6  7.0   \n",
      "3       Mikal Bridges  28.0  2854.0  82.0  34.8  6.9  15.8  0.436  2.7  7.2   \n",
      "4      Paolo Banchero  22.0  2799.0  80.0  35.0  8.0  17.6  0.455  1.5  4.4   \n",
      "..                ...   ...     ...   ...   ...  ...   ...    ...  ...  ...   \n",
      "245     James Wiseman  23.0  1091.0  63.0  17.3  3.0   4.8  0.613  0.0  0.0   \n",
      "246        Dante Exum  29.0  1088.0  55.0  19.8  2.9   5.5  0.533  1.0  2.0   \n",
      "247       Sam Merrill  28.0  1069.0  61.0  17.5  2.6   6.4  0.402  2.3  5.8   \n",
      "248    Shaedon Sharpe  21.0  1059.0  32.0  33.1  5.5  13.6  0.406  1.9  5.6   \n",
      "249      Dennis Smith  27.0  1059.0  56.0  18.9  2.6   6.0  0.435  0.6  1.9   \n",
      "\n",
      "     ...  Pnrr%  PnrrPPP  OffScreen%  OffScreenPPP  SpotUp%  SpotUpPPP  \\\n",
      "0    ...    NaN      NaN        0.03          1.07     0.20       1.00   \n",
      "1    ...   0.17     1.26         NaN           NaN     0.09       1.14   \n",
      "2    ...   0.01     0.63        0.03          0.70     0.33       1.11   \n",
      "3    ...   0.01     0.92        0.05          1.11      NaN        NaN   \n",
      "4    ...   0.05     0.99        0.02          0.96      NaN        NaN   \n",
      "..   ...    ...      ...         ...           ...      ...        ...   \n",
      "245  ...   0.22     1.21         NaN           NaN      NaN        NaN   \n",
      "246  ...    NaN      NaN         NaN           NaN     0.33       1.35   \n",
      "247  ...   0.05     1.41        0.17          0.98     0.35       1.43   \n",
      "248  ...    NaN      NaN        0.09          1.08     0.16       1.18   \n",
      "249  ...    NaN      NaN         NaN           NaN      NaN        NaN   \n",
      "\n",
      "     Height  Wingspan  Weight  Length  \n",
      "0     77.50      81.0   220.0    3.50  \n",
      "1     82.00      83.0   240.0    1.00  \n",
      "2     75.50      77.0   195.0    1.50  \n",
      "3     77.75      85.0   209.0    7.25  \n",
      "4     81.00      84.5   250.0    3.50  \n",
      "..      ...       ...     ...     ...  \n",
      "245   83.50      89.0   240.0    5.50  \n",
      "246   77.00      81.0   214.0    4.00  \n",
      "247   75.50      77.0   205.0    1.50  \n",
      "248   76.25      83.5   198.0    7.25  \n",
      "249   73.25      75.0   205.0    1.75  \n",
      "\n",
      "[217 rows x 91 columns]\n"
     ]
    }
   ],
   "source": [
    "#Print all rows with null values\n",
    "null_df = df[df.isnull().any(axis=1)]\n",
    "print(null_df)"
   ]
  },
  {
   "attachments": {},
   "cell_type": "markdown",
   "metadata": {},
   "source": [
    "There are a lot of null values in the dataset. Therefore, we must first narrow down the important features in determining NBA players that are the most similar to LeBron James before preparing the data for clustering. \n",
    "\n",
    "To determine how similar a player is to Lebron James, I want to look at these nine factors: Physical Attributes, Usage & Playmaking, Shooting Tendencies, Shooting Ability, Portability, Passing Ability, Defense Ability, and Dominance. \n",
    "\n",
    "To evaluate these factors, these are the features I selected, which should provide the most aggregate overview of each factor, and doesn't have repeated information. \n",
    "\n",
    "Physical attributes: Height, Weight, Wingspan  \n",
    "\n",
    "Usage & Playmaking: BC (Box Creation), USG % (Usage Percentage), LOAD (Offensive Load)  \n",
    "\n",
    "Shooting tendencies: Less than 5ft FGA%, 5-9 ft FGA%, 10-14 ft FGA%, 15-19 ft FGA%, 20-25 ft FGA%, 25-29ft FGA%\n",
    "\n",
    "Shooting ability: SQ (Shooting Quality), TS% (True Shooting %)  \n",
    "\n",
    "Portability: PORT(Portability)  \n",
    "\n",
    "Passing ability: PR (Passer rating)  \n",
    "\n",
    "Defense: VR (Defensive Versatility Rating), CDPM (Defensive Crafted Plus Minus)  \n",
    "\n",
    "Dominance: CPM (Crafted Plus Minus)  \n",
    "\n",
    "Playstyle: Handoff%, Cut%, Iso%, Prbh%, Post%, Pnrr%, OffScreen%, SpotUp%  \n",
    "\n"
   ]
  },
  {
   "attachments": {},
   "cell_type": "markdown",
   "metadata": {},
   "source": [
    "To add Shooting tendencies data into the dataframe, we will get the data from a different website (https://www.nba.com/stats/players/shooting?PerMode=Totals&Season=2023-24&SeasonType=Regular%20Season), put it into another dataframe, filter it so it only has the necessary information, then append to the original dataframe. "
   ]
  },
  {
   "cell_type": "code",
   "execution_count": 4,
   "metadata": {},
   "outputs": [
    {
     "name": "stdout",
     "output_type": "stream",
     "text": [
      "<class 'pandas.core.frame.DataFrame'>\n",
      "RangeIndex: 573 entries, 0 to 572\n",
      "Data columns (total 21 columns):\n",
      " #   Column          Non-Null Count  Dtype \n",
      "---  ------          --------------  ----- \n",
      " 0   Unnamed: 0      573 non-null    object\n",
      " 1   Unnamed: 1      573 non-null    object\n",
      " 2   Unnamed: 2      573 non-null    object\n",
      " 3   Less than 5ft.  573 non-null    object\n",
      " 4   Unnamed: 4      573 non-null    object\n",
      " 5   Unnamed: 5      573 non-null    object\n",
      " 6   5-9 ft.         573 non-null    object\n",
      " 7   Unnamed: 7      573 non-null    object\n",
      " 8   Unnamed: 8      573 non-null    object\n",
      " 9   10-14 ft.       573 non-null    object\n",
      " 10  Unnamed: 10     573 non-null    object\n",
      " 11  Unnamed: 11     573 non-null    object\n",
      " 12  15-19 ft.       573 non-null    object\n",
      " 13  Unnamed: 13     573 non-null    object\n",
      " 14  Unnamed: 14     573 non-null    object\n",
      " 15  20-24 ft.       573 non-null    object\n",
      " 16  Unnamed: 16     573 non-null    object\n",
      " 17  Unnamed: 17     573 non-null    object\n",
      " 18  25-29 ft.       573 non-null    object\n",
      " 19  Unnamed: 19     573 non-null    object\n",
      " 20  Unnamed: 20     573 non-null    object\n",
      "dtypes: object(21)\n",
      "memory usage: 94.1+ KB\n"
     ]
    }
   ],
   "source": [
    "df_shot = pd.read_excel(r\"C:\\DS\\NBA_player_ShotSelection_data.xlsx\") #Load the data onto a dataframe\n",
    "df_shot.info()"
   ]
  },
  {
   "cell_type": "markdown",
   "metadata": {},
   "source": [
    "The columns need to be fixed since in the table on the website, there are column names and sub-column names. I will make it so that the columns only have FGA data from each range of distance. "
   ]
  },
  {
   "cell_type": "code",
   "execution_count": 5,
   "metadata": {},
   "outputs": [
    {
     "name": "stdout",
     "output_type": "stream",
     "text": [
      "<class 'pandas.core.frame.DataFrame'>\n",
      "RangeIndex: 572 entries, 1 to 572\n",
      "Data columns (total 7 columns):\n",
      " #   Column             Non-Null Count  Dtype \n",
      "---  ------             --------------  ----- \n",
      " 0   Name               572 non-null    object\n",
      " 1   Less than 5ft FGA  572 non-null    object\n",
      " 2   5-9 ft FGA         572 non-null    object\n",
      " 3   10-14 ft FGA       572 non-null    object\n",
      " 4   15-19 ft FGA       572 non-null    object\n",
      " 5   20-25 ft FGA       572 non-null    object\n",
      " 6   25-29ft FGA        572 non-null    object\n",
      "dtypes: object(7)\n",
      "memory usage: 31.4+ KB\n"
     ]
    }
   ],
   "source": [
    "df_shot = df_shot[['Unnamed: 0', 'Unnamed: 4', 'Unnamed: 7', 'Unnamed: 10', 'Unnamed: 13', 'Unnamed: 16', 'Unnamed: 19']] #Filter the dataframe to only include the FGA data for each distance range\n",
    "df_shot.rename(columns={'Unnamed: 0' : 'Name', 'Unnamed: 4' : 'Less than 5ft FGA', 'Unnamed: 7' : '5-9 ft FGA', 'Unnamed: 10' : '10-14 ft FGA', 'Unnamed: 13' : '15-19 ft FGA', 'Unnamed: 16' : '20-25 ft FGA', 'Unnamed: 19' : '25-29ft FGA'}, inplace=True) #Rename the columns\n",
    "df_shot = df_shot.drop(index=0) #Drop the first row which was originally the distance range labels\n",
    "df_shot.info()"
   ]
  },
  {
   "cell_type": "code",
   "execution_count": 6,
   "metadata": {},
   "outputs": [
    {
     "name": "stdout",
     "output_type": "stream",
     "text": [
      "|     | Name                     | Less than 5ft FGA   | 5-9 ft FGA   | 10-14 ft FGA   | 15-19 ft FGA   | 20-25 ft FGA   |   25-29ft FGA |\n",
      "|----:|:-------------------------|:--------------------|:-------------|:---------------|:---------------|:---------------|--------------:|\n",
      "|   1 | A.J. Lawson              | 59                  | 9            | 1              | 1              | 38             |            13 |\n",
      "|   2 | AJ Green                 | 8                   | 1            | 5              | 11             | 51             |           110 |\n",
      "|   3 | AJ Griffin               | 8                   | 7            | 4              | 4              | 11             |            26 |\n",
      "|   4 | Aaron Gordon             | 489                 | 38           | 33             | 15             | 80             |            58 |\n",
      "|   5 | Aaron Holiday            | 89                  | 33           | 47             | 26             | 72             |           148 |\n",
      "|   6 | Aaron Nesmith            | 219                 | 43           | 27             | 11             | 172            |           161 |\n",
      "|   7 | Aaron Wiggins            | 194                 | 34           | 16             | 4              | 72             |            57 |\n",
      "|   8 | Adam Flagler             | 0                   | 0            | 1              | -              | 0              |             6 |\n",
      "|   9 | Adama Sanogo             | 21                  | 5            | 1              | 0              | 0              |             0 |\n",
      "|  10 | Admiral Schofield        | 6                   | 2            | 0              | 2              | 5              |            11 |\n",
      "|  11 | Al Horford               | 115                 | 27           | 7              | 8              | 126            |           136 |\n",
      "|  12 | Alec Burks               | 80                  | 42           | 64             | 45             | 142            |           192 |\n",
      "|  13 | Aleksej Pokusevski       | 35                  | 18           | 3              | 9              | 20             |            36 |\n",
      "|  14 | Alex Caruso              | 135                 | 44           | 11             | 12             | 185            |           154 |\n",
      "|  15 | Alex Fudge               | 5                   | 3            | 1              | 1              | 3              |             2 |\n",
      "|  16 | Alex Len                 | 56                  | 15           | 5              | 1              | 2              |             2 |\n",
      "|  17 | Alondes Williams         | 2                   | 2            | 0              | 0              | 0              |             4 |\n",
      "|  18 | Alperen Sengun           | 521                 | 196          | 102            | 47             | 14             |            98 |\n",
      "|  19 | Amari Bailey             | 9                   | 0            | 4              | 1              | 3              |             7 |\n",
      "|  20 | Amen Thompson            | 306                 | 37           | 22             | 15             | 31             |            34 |\n",
      "|  21 | Amir Coffey              | 80                  | 29           | 37             | 21             | 112            |            70 |\n",
      "|  22 | Andre Drummond           | 402                 | 65           | 10             | 0              | 0              |             0 |\n",
      "|  23 | Andre Jackson Jr.        | 32                  | 10           | 10             | 1              | 36             |            11 |\n",
      "|  24 | Andrew Funk              | 1                   | 0            | 0              | 0              | 3              |             0 |\n",
      "|  25 | Andrew Nembhard          | 132                 | 75           | 94             | 39             | 72             |           103 |\n",
      "|  26 | Andrew Wiggins           | 260                 | 126          | 49             | 75             | 91             |           176 |\n",
      "|  27 | Anfernee Simons          | 182                 | 88           | 77             | 75             | 84             |           304 |\n",
      "|  28 | Anthony Black            | 101                 | 15           | 15             | 18             | 57             |            41 |\n",
      "|  29 | Anthony Davis            | 645                 | 223          | 163            | 125            | 47             |            77 |\n",
      "|  30 | Anthony Edwards          | 476                 | 178          | 161            | 159            | 218            |           356 |\n",
      "|  31 | Anthony Gill             | 84                  | 27           | 7              | 0              | 19             |            23 |\n",
      "|  32 | Armoni Brooks            | 7                   | 5            | 1              | 0              | 8              |            24 |\n",
      "|  33 | Ashton Hagans            | 31                  | 11           | 4              | 0              | 7              |            17 |\n",
      "|  34 | Ausar Thompson           | 262                 | 55           | 22             | 12             | 89             |            34 |\n",
      "|  35 | Austin Reaves            | 241                 | 108          | 93             | 65             | 108            |           299 |\n",
      "|  36 | Ayo Dosunmu              | 286                 | 72           | 35             | 24             | 188            |           112 |\n",
      "|  37 | Bam Adebayo              | 362                 | 263          | 246            | 102            | 11             |            31 |\n",
      "|  38 | Ben Sheppard             | 56                  | 7            | 7              | 3              | 87             |            69 |\n",
      "|  39 | Ben Simmons              | 56                  | 14           | 4              | 0              | 0              |             0 |\n",
      "|  40 | Bennedict Mathurin       | 265                 | 85           | 52             | 35             | 62             |           162 |\n",
      "|  41 | Bilal Coulibaly          | 178                 | 38           | 13             | 14             | 111            |            78 |\n",
      "|  42 | Bismack Biyombo          | 86                  | 44           | 1              | 0              | 0              |             0 |\n",
      "|  43 | Blake Wesley             | 118                 | 22           | 13             | 2              | 33             |            24 |\n",
      "|  44 | Boban Marjanović         | 18                  | 10           | 2              | 2              | 0              |             2 |\n",
      "|  45 | Bobby Portis             | 258                 | 139          | 149            | 106            | 146            |           120 |\n",
      "|  46 | Bogdan Bogdanović        | 201                 | 98           | 90             | 47             | 230            |           405 |\n",
      "|  47 | Bojan Bogdanović         | 134                 | 69           | 83             | 56             | 146            |           188 |\n",
      "|  48 | Bol Bol                  | 38                  | 31           | 19             | 8              | 41             |            14 |\n",
      "|  49 | Bones Hyland             | 57                  | 28           | 20             | 10             | 27             |           101 |\n",
      "|  50 | Bradley Beal             | 229                 | 82           | 78             | 103            | 109            |           133 |\n",
      "|  51 | Brandin Podziemski       | 190                 | 113          | 39             | 17             | 70             |           162 |\n",
      "|  52 | Brandon Boston Jr.       | 45                  | 15           | 28             | 20             | 19             |            34 |\n",
      "|  53 | Brandon Clarke           | 19                  | 18           | 11             | 4              | 5              |             2 |\n",
      "|  54 | Brandon Ingram           | 202                 | 107          | 224            | 219            | 92             |           168 |\n",
      "|  55 | Brandon Miller           | 207                 | 128          | 144            | 99             | 151            |           327 |\n",
      "|  56 | Brandon Williams         | 23                  | 5            | 3              | 5              | 7              |            11 |\n",
      "|  57 | Braxton Key              | 9                   | 2            | 0              | 1              | 3              |             2 |\n",
      "|  58 | Brice Sensabaugh         | 31                  | 32           | 29             | 10             | 58             |            57 |\n",
      "|  59 | Brook Lopez              | 234                 | 45           | 56             | 14             | 82             |           302 |\n",
      "|  60 | Bruce Brown              | 214                 | 96           | 78             | 19             | 87             |            87 |\n",
      "|  61 | Bruno Fernando           | 145                 | 31           | 6              | 1              | 0              |             4 |\n",
      "|  62 | Bryce McGowens           | 92                  | 18           | 4              | 12             | 46             |            55 |\n",
      "|  63 | Buddy Boeheim            | 1                   | 1            | 1              | 1              | 8              |            16 |\n",
      "|  64 | Buddy Hield              | 186                 | 34           | 23             | 25             | 163            |           414 |\n",
      "|  65 | CJ McCollum              | 183                 | 126          | 111            | 68             | 140            |           422 |\n",
      "|  66 | Cade Cunningham          | 367                 | 160          | 137            | 156            | 94             |           237 |\n",
      "|  67 | Caleb Houstan            | 7                   | 1            | 1              | 3              | 91             |           102 |\n",
      "|  68 | Caleb Martin             | 189                 | 54           | 33             | 28             | 139            |           112 |\n",
      "|  69 | Cam Reddish              | 88                  | 18           | 6              | 9              | 77             |            36 |\n",
      "|  70 | Cam Thomas               | 251                 | 181          | 191            | 143            | 140            |           273 |\n",
      "|  71 | Cam Whitmore             | 184                 | 32           | 12             | 10             | 65             |           159 |\n",
      "|  72 | Cameron Johnson          | 141                 | 42           | 37             | 37             | 157            |           203 |\n",
      "|  73 | Cameron Payne            | 97                  | 54           | 39             | 18             | 59             |           210 |\n",
      "|  74 | Caris LeVert             | 277                 | 113          | 78             | 18             | 118            |           207 |\n",
      "|  75 | Cason Wallace            | 125                 | 29           | 23             | 18             | 164            |            82 |\n",
      "|  76 | Cedi Osman               | 113                 | 30           | 12             | 7              | 77             |           143 |\n",
      "|  77 | Charles Bassey           | 27                  | 3            | 7              | 2              | 0              |             1 |\n",
      "|  78 | Charlie Brown Jr.        | 1                   | 2            | 0              | 0              | 4              |             3 |\n",
      "|  79 | Chet Holmgren            | 371                 | 111          | 77             | 28             | 104            |           260 |\n",
      "|  80 | Chimezie Metu            | 93                  | 36           | 15             | 4              | 48             |            47 |\n",
      "|  81 | Chris Boucher            | 100                 | 17           | 2              | 3              | 56             |            39 |\n",
      "|  82 | Chris Duarte             | 44                  | 13           | 12             | 10             | 59             |            69 |\n",
      "|  83 | Chris Livingston         | 15                  | 2            | 0              | 0              | 3              |             2 |\n",
      "|  84 | Chris Paul               | 26                  | 35           | 91             | 97             | 66             |           143 |\n",
      "|  85 | Christian Braun          | 230                 | 61           | 13             | 7              | 93             |            77 |\n",
      "|  86 | Christian Wood           | 101                 | 27           | 10             | 11             | 48             |            67 |\n",
      "|  87 | Chuma Okeke              | 20                  | 5            | 2              | 1              | 42             |            38 |\n",
      "|  88 | Clint Capela             | 524                 | 83           | 8              | 0              | 2              |             0 |\n",
      "|  89 | Coby White               | 356                 | 134          | 87             | 54             | 182            |           373 |\n",
      "|  90 | Cody Martin              | 65                  | 17           | 17             | 21             | 50             |            45 |\n",
      "|  91 | Cody Zeller              | 48                  | 9            | 1              | 0              | 2              |             2 |\n",
      "|  92 | Colby Jones              | 25                  | 12           | 10             | 2              | 12             |            10 |\n",
      "|  93 | Cole Anthony             | 171                 | 131          | 111            | 68             | 82             |           190 |\n",
      "|  94 | Cole Swider              | 3                   | 2            | 1              | 2              | 9              |            21 |\n",
      "|  95 | Colin Castleton          | 12                  | 2            | 2              | 0              | 0              |             0 |\n",
      "|  96 | Collin Gillespie         | 14                  | 8            | 2              | 7              | 11             |            26 |\n",
      "|  97 | Collin Sexton            | 357                 | 213          | 91             | 47             | 124            |           204 |\n",
      "|  98 | Corey Kispert            | 216                 | 61           | 29             | 7              | 135            |           319 |\n",
      "|  99 | Cory Joseph              | 6                   | 6            | 4              | 6              | 17             |            24 |\n",
      "| 100 | Craig Porter Jr.         | 88                  | 40           | 37             | 23             | 16             |            22 |\n",
      "| 101 | D'Angelo Russell         | 209                 | 131          | 107            | 77             | 117            |           420 |\n",
      "| 102 | D'Moi Hodge              | 2                   | 0            | 0              | 1              | 4              |             8 |\n",
      "| 103 | D.J. Carton              | 2                   | 2            | 0              | 0              | 3              |             1 |\n",
      "| 104 | D.J. Wilson              | 2                   | 2            | 0              | 0              | 1              |             1 |\n",
      "| 105 | DaQuan Jeffries          | 2                   | 2            | 3              | 0              | 4              |             6 |\n",
      "| 106 | Daishen Nix              | 3                   | 4            | 0              | 0              | 6              |            11 |\n",
      "| 107 | Dalano Banton            | 184                 | 66           | 30             | 16             | 52             |           145 |\n",
      "| 108 | Dalen Terry              | 67                  | 13           | 2              | 1              | 40             |            33 |\n",
      "| 109 | Damian Jones             | 41                  | 8            | 5              | 4              | 6              |             8 |\n",
      "| 110 | Damian Lillard           | 350                 | 87           | 87             | 102            | 97             |           495 |\n",
      "| 111 | Daniel Gafford           | 408                 | 57           | 10             | 5              | 0              |             0 |\n",
      "| 112 | Daniel Theis             | 153                 | 36           | 28             | 5              | 28             |            42 |\n",
      "| 113 | Danilo Gallinari         | 37                  | 12           | 27             | 13             | 22             |            76 |\n",
      "| 114 | Danny Green              | 0                   | 0            | 0              | 0              | 2              |             0 |\n",
      "| 115 | Danté Exum               | 141                 | 31           | 13             | 7              | 55             |            53 |\n",
      "| 116 | Danuel House Jr.         | 42                  | 7            | 1              | 2              | 29             |            20 |\n",
      "| 117 | Dario Šarić              | 109                 | 52           | 12             | 11             | 47             |           156 |\n",
      "| 118 | Dariq Whitehead          | 0                   | 2            | 0              | 0              | 1              |             2 |\n",
      "| 119 | Darius Bazley            | 18                  | 2            | 2              | 0              | 6              |             1 |\n",
      "| 120 | Darius Garland           | 206                 | 117          | 83             | 66             | 87             |           255 |\n",
      "| 121 | David Duke Jr.           | 8                   | 1            | 1              | 1              | 3              |             4 |\n",
      "| 122 | David Roddy              | 173                 | 48           | 19             | 1              | 78             |            89 |\n",
      "| 123 | Davion Mitchell          | 85                  | 27           | 24             | 21             | 71             |            94 |\n",
      "| 124 | Davis Bertans            | 19                  | 5            | 0              | 3              | 65             |           130 |\n",
      "| 125 | Day'Ron Sharpe           | 238                 | 36           | 4              | 0              | 9              |             7 |\n",
      "| 126 | De'Aaron Fox             | 338                 | 252          | 236            | 118            | 168            |           427 |\n",
      "| 127 | De'Andre Hunter          | 148                 | 62           | 79             | 51             | 159            |           163 |\n",
      "| 128 | De'Anthony Melton        | 99                  | 21           | 8              | 12             | 66             |           152 |\n",
      "| 129 | DeAndre Jordan           | 85                  | 7            | 1              | 0              | 0              |             0 |\n",
      "| 130 | DeJon Jarreau            | 16                  | 11           | 3              | 5              | 6              |             8 |\n",
      "| 131 | DeMar DeRozan            | 336                 | 144          | 279            | 292            | 174            |           121 |\n",
      "| 132 | Dean Wade                | 18                  | 2            | 4              | 3              | 101            |           104 |\n",
      "| 133 | Deandre Ayton            | 275                 | 147          | 155            | 151            | 15             |             5 |\n",
      "| 134 | Dejounte Murray          | 345                 | 183          | 230            | 143            | 207            |           349 |\n",
      "| 135 | Delon Wright             | 68                  | 32           | 11             | 7              | 24             |            43 |\n",
      "| 136 | Deni Avdija              | 396                 | 111          | 32             | 20             | 86             |           151 |\n",
      "| 137 | Dennis Schröder          | 253                 | 86           | 109            | 103            | 109            |           257 |\n",
      "| 138 | Dennis Smith Jr.         | 163                 | 28           | 12             | 20             | 61             |            53 |\n",
      "| 139 | Dereck Lively II         | 259                 | 31           | 3              | 1              | 2              |             0 |\n",
      "| 140 | Dereon Seabron           | 8                   | 0            | 3              | 0              | 2              |             0 |\n",
      "| 141 | Derrick Jones Jr.        | 209                 | 36           | 8              | 2              | 176            |            62 |\n",
      "| 142 | Derrick Rose             | 57                  | 33           | 18             | 15             | 17             |            24 |\n",
      "| 143 | Derrick White            | 155                 | 102          | 60             | 26             | 143            |           348 |\n",
      "| 144 | Desmond Bane             | 231                 | 66           | 40             | 56             | 120            |           247 |\n",
      "| 145 | Devin Booker             | 257                 | 131          | 258            | 210            | 115            |           320 |\n",
      "| 146 | Devin Vassell            | 215                 | 91           | 135            | 152            | 147            |           307 |\n",
      "| 147 | Devonte' Graham          | 12                  | 1            | 8              | 3              | 23             |            60 |\n",
      "| 148 | Dexter Dennis            | 7                   | 0            | 2              | 2              | 5              |             3 |\n",
      "| 149 | Dillon Brooks            | 215                 | 93           | 58             | 19             | 123            |           254 |\n",
      "| 150 | Dmytro Skapintsev        | 1                   | 0            | 0              | 0              | 0              |             0 |\n",
      "| 151 | Domantas Sabonis         | 697                 | 175          | 61             | 43             | 18             |            74 |\n",
      "| 152 | Dominick Barlow          | 61                  | 13           | 22             | 8              | 8              |             1 |\n",
      "| 153 | Donovan Mitchell         | 293                 | 84           | 84             | 92             | 111            |           395 |\n",
      "| 154 | Donte DiVincenzo         | 209                 | 52           | 23             | 14             | 266            |           427 |\n",
      "| 155 | Dorian Finney-Smith      | 136                 | 28           | 6              | 0              | 165            |           174 |\n",
      "| 156 | Doug McDermott           | 33                  | 7            | 5              | 8              | 77             |           154 |\n",
      "| 157 | Draymond Green           | 169                 | 50           | 19             | 4              | 51             |            78 |\n",
      "| 158 | Drew Eubanks             | 168                 | 62           | 14             | 4              | 5              |             0 |\n",
      "| 159 | Drew Peterson            | 1                   | 0            | 0              | 0              | 2              |             3 |\n",
      "| 160 | Dru Smith                | 11                  | 2            | 1              | 2              | 6              |            11 |\n",
      "| 161 | Duncan Robinson          | 113                 | 67           | 16             | 3              | 162            |           303 |\n",
      "| 162 | Duop Reath               | 170                 | 70           | 10             | 4              | 76             |           169 |\n",
      "| 163 | Dwight Powell            | 98                  | 5            | 0              | 0              | 2              |             1 |\n",
      "| 164 | Dylan Windler            | 2                   | 0            | 1              | 0              | 13             |            14 |\n",
      "| 165 | Dyson Daniels            | 98                  | 48           | 28             | 1              | 63             |            67 |\n",
      "| 166 | E.J. Liddell             | 1                   | 0            | 0              | 0              | 1              |             4 |\n",
      "| 167 | Emoni Bates              | 9                   | 0            | 1              | 5              | 9              |            23 |\n",
      "| 168 | Eric Gordon              | 152                 | 49           | 14             | 5              | 109            |           279 |\n",
      "| 169 | Eugene Omoruyi           | 95                  | 20           | 3              | 3              | 8              |            37 |\n",
      "| 170 | Evan Fournier            | 21                  | 29           | 20             | 15             | 55             |            78 |\n",
      "| 171 | Evan Mobley              | 322                 | 120          | 31             | 19             | 33             |            27 |\n",
      "| 172 | Filip Petrusev           | 0                   | 0            | 2              | 0              | 0              |             0 |\n",
      "| 173 | Frank Ntilikina          | 0                   | 0            | 0              | 0              | 6              |             3 |\n",
      "| 174 | Franz Wagner             | 529                 | 167          | 40             | 18             | 67             |           256 |\n",
      "| 175 | Fred VanVleet            | 155                 | 64           | 60             | 101            | 157            |           451 |\n",
      "| 176 | Furkan Korkmaz           | 18                  | 9            | 4              | 3              | 6              |            32 |\n",
      "| 177 | GG Jackson               | 183                 | 49           | 20             | 12             | 96             |           189 |\n",
      "| 178 | Gabe Vincent             | 9                   | 3            | 2              | 4              | 13             |            18 |\n",
      "| 179 | Garrett Temple           | 32                  | 2            | 1              | 3              | 24             |            15 |\n",
      "| 180 | Garrison Mathews         | 13                  | 4            | 11             | 3              | 92             |           102 |\n",
      "| 181 | Gary Harris              | 55                  | 16           | 10             | 9              | 107            |            96 |\n",
      "| 182 | Gary Payton II           | 106                 | 21           | 1              | 0              | 38             |            17 |\n",
      "| 183 | Gary Trent Jr.           | 128                 | 70           | 76             | 92             | 153            |           321 |\n",
      "| 184 | Georges Niang            | 102                 | 98           | 30             | 3              | 181            |           216 |\n",
      "| 185 | Giannis Antetokounmpo    | 924                 | 128          | 73             | 105            | 33             |           100 |\n",
      "| 186 | Goga Bitadze             | 177                 | 15           | 1              | 2              | 5              |             9 |\n",
      "| 187 | Gordon Hayward           | 114                 | 76           | 57             | 61             | 41             |            54 |\n",
      "| 188 | Gradey Dick              | 108                 | 30           | 24             | 35             | 115            |           126 |\n",
      "| 189 | Grant Williams           | 157                 | 54           | 44             | 12             | 143            |           189 |\n",
      "| 190 | Grayson Allen            | 163                 | 58           | 14             | 2              | 169            |           267 |\n",
      "| 191 | Greg Brown III           | 7                   | 1            | 0              | 0              | 1              |             2 |\n",
      "| 192 | Gui Santos               | 25                  | 3            | 0              | 0              | 9              |            18 |\n",
      "| 193 | Hamidou Diallo           | 2                   | 0            | 0              | -              | 0              |             0 |\n",
      "| 194 | Harrison Barnes          | 173                 | 122          | 36             | 14             | 189            |           197 |\n",
      "| 195 | Harry Giles III          | 24                  | 7            | 2              | 3              | 6              |             8 |\n",
      "| 196 | Haywood Highsmith        | 89                  | 33           | 9              | 4              | 97             |            96 |\n",
      "| 197 | Henri Drell              | 3                   | 1            | 0              | 0              | 3              |             3 |\n",
      "| 198 | Herbert Jones            | 234                 | 44           | 12             | 4              | 196            |            97 |\n",
      "| 199 | Hunter Tyson             | 2                   | 1            | 1              | 2              | 3              |            11 |\n",
      "| 200 | Ibou Badji               | 15                  | 3            | 3              | 1              | 0              |             0 |\n",
      "| 201 | Immanuel Quickley        | 157                 | 144          | 91             | 53             | 140            |           295 |\n",
      "| 202 | Isaac Okoro              | 222                 | 36           | 4              | 3              | 151            |            63 |\n",
      "| 203 | Isaiah Hartenstein       | 269                 | 61           | 28             | 4              | 0              |             3 |\n",
      "| 204 | Isaiah Jackson           | 194                 | 25           | 7              | 3              | 2              |             2 |\n",
      "| 205 | Isaiah Joe               | 53                  | 11           | 26             | 33             | 126            |           230 |\n",
      "| 206 | Isaiah Livers            | 24                  | 4            | 2              | 8              | 36             |            39 |\n",
      "| 207 | Isaiah Mobley            | 10                  | 3            | 1              | 0              | 6              |             4 |\n",
      "| 208 | Isaiah Stewart           | 164                 | 32           | 7              | 3              | 86             |            90 |\n",
      "| 209 | Isaiah Thomas            | 3                   | 2            | 0              | 1              | 2              |             2 |\n",
      "| 210 | Isaiah Wong              | 0                   | 1            | 0              | 1              | 1              |             0 |\n",
      "| 211 | Ish Smith                | 49                  | 30           | 42             | 27             | 3              |             5 |\n",
      "| 212 | Ish Wainright            | 2                   | 1            | 0              | 1              | 6              |            13 |\n",
      "| 213 | Ivica Zubac              | 360                 | 138          | 21             | 0              | 0              |             0 |\n",
      "| 214 | Izaiah Brockington       | 3                   | 0            | 0              | 1              | 0              |             1 |\n",
      "| 215 | JD Davison               | 2                   | 1            | 0              | 2              | 1              |             6 |\n",
      "| 216 | JT Thor                  | 75                  | 8            | 9              | 8              | 50             |            33 |\n",
      "| 217 | Ja Morant                | 67                  | 32           | 14             | 4              | 14             |            37 |\n",
      "| 218 | JaVale McGee             | 90                  | 30           | 3              | 2              | 1              |             6 |\n",
      "| 219 | Jabari Smith Jr.         | 211                 | 64           | 97             | 75             | 121            |           260 |\n",
      "| 220 | Jabari Walker            | 280                 | 55           | 20             | 12             | 75             |            64 |\n",
      "| 221 | Jack White               | 4                   | 1            | 0              | 1              | 3              |             7 |\n",
      "| 222 | Jacob Gilyard            | 8                   | 2            | 2              | 6              | 49             |            81 |\n",
      "| 223 | Jacob Toppin             | 3                   | 1            | 0              | 1              | 1              |             3 |\n",
      "| 224 | Jaden Hardy              | 109                 | 44           | 50             | 43             | 87             |           140 |\n",
      "| 225 | Jaden Ivey               | 327                 | 132          | 95             | 49             | 116            |           244 |\n",
      "| 226 | Jaden McDaniels          | 193                 | 95           | 54             | 25             | 200            |            58 |\n",
      "| 227 | Jaden Springer           | 55                  | 23           | 17             | 4              | 25             |            23 |\n",
      "| 228 | Jae Crowder              | 46                  | 23           | 12             | 14             | 96             |            77 |\n",
      "| 229 | Jae'Sean Tate            | 114                 | 32           | 2              | 2              | 50             |            28 |\n",
      "| 230 | Jahmi'us Ramsey          | 13                  | 2            | 2              | 2              | 7              |            15 |\n",
      "| 231 | Jaime Jaquez Jr.         | 295                 | 140          | 42             | 15             | 121            |            78 |\n",
      "| 232 | Jake LaRavia             | 94                  | 38           | 6              | 5              | 57             |           100 |\n",
      "| 233 | Jakob Pöltl              | 255                 | 83           | 40             | 0              | 0              |             0 |\n",
      "| 234 | Jalen Brunson            | 331                 | 331          | 269            | 170            | 157            |           382 |\n",
      "| 235 | Jalen Crutcher           | 1                   | -            | 0              | -              | 0              |             0 |\n",
      "| 236 | Jalen Duren              | 439                 | 80           | 29             | 11             | 1              |             3 |\n",
      "| 237 | Jalen Green              | 441                 | 69           | 67             | 116            | 151            |           477 |\n",
      "| 238 | Jalen Hood-Schifino      | 12                  | 3            | 3              | 9              | 5              |            13 |\n",
      "| 239 | Jalen Johnson            | 323                 | 106          | 59             | 10             | 86             |           116 |\n",
      "| 240 | Jalen McDaniels          | 61                  | 41           | 10             | 6              | 26             |            45 |\n",
      "| 241 | Jalen Pickett            | 1                   | 2            | 3              | 1              | 13             |            14 |\n",
      "| 242 | Jalen Slawson            | 3                   | 0            | 1              | 0              | 1              |             1 |\n",
      "| 243 | Jalen Smith              | 203                 | 29           | 6              | 8              | 36             |           112 |\n",
      "| 244 | Jalen Suggs              | 201                 | 43           | 43             | 36             | 131            |           256 |\n",
      "| 245 | Jalen Williams           | 350                 | 149          | 149            | 82             | 79             |           182 |\n",
      "| 246 | Jalen Wilson             | 55                  | 31           | 15             | 2              | 40             |            34 |\n",
      "| 247 | Jamal Cain               | 25                  | 12           | 8              | 3              | 20             |            11 |\n",
      "| 248 | Jamal Murray             | 239                 | 91           | 135            | 152            | 114            |           245 |\n",
      "| 249 | Jamaree Bouyea           | 10                  | 7            | 1              | 1              | 2              |             6 |\n",
      "| 250 | James Bouknight          | 7                   | 2            | 1              | 1              | 10             |            20 |\n",
      "| 251 | James Harden             | 162                 | 70           | 72             | 27             | 85             |           399 |\n",
      "| 252 | James Johnson            | 4                   | 2            | 1              | 1              | 0              |             2 |\n",
      "| 253 | James Wiseman            | 204                 | 63           | 24             | 11             | 1              |             1 |\n",
      "| 254 | Jarace Walker            | 25                  | 8            | 7              | 10             | 20             |            39 |\n",
      "| 255 | Jared Butler             | 74                  | 34           | 10             | 5              | 19             |            53 |\n",
      "| 256 | Jared Rhoden             | 12                  | 1            | 11             | 8              | 23             |             9 |\n",
      "| 257 | Jaren Jackson Jr.        | 411                 | 297          | 77             | 7              | 106            |           252 |\n",
      "| 258 | Jarred Vanderbilt        | 78                  | 7            | 2              | 0              | 24             |             2 |\n",
      "| 259 | Jarrett Allen            | 571                 | 160          | 56             | 25             | 3              |             4 |\n",
      "| 260 | Jason Preston            | 3                   | 10           | 3              | 0              | 1              |             2 |\n",
      "| 261 | Javon Freeman-Liberty    | 53                  | 14           | 10             | 4              | 18             |            22 |\n",
      "| 262 | Javonte Green            | 41                  | 6            | 1              | 0              | 22             |             5 |\n",
      "| 263 | Javonte Smart            | -                   | 0            | -              | -              | 0              |             0 |\n",
      "| 264 | Jaxson Hayes             | 142                 | 23           | 0              | 1              | 3              |             5 |\n",
      "| 265 | Jay Huff                 | 5                   | 1            | 0              | 0              | 1              |             8 |\n",
      "| 266 | Jaylen Brown             | 465                 | 143          | 117            | 102            | 143            |           277 |\n",
      "| 267 | Jaylen Nowell            | 13                  | 16           | 9              | 11             | 10             |            18 |\n",
      "| 268 | Jaylin Williams          | 51                  | 17           | 12             | 1              | 63             |            83 |\n",
      "| 269 | Jayson Tatum             | 436                 | 119          | 95             | 134            | 128            |           504 |\n",
      "| 270 | Jeff Dowtin Jr.          | 14                  | 0            | 3              | 0              | 4              |            15 |\n",
      "| 271 | Jeff Green               | 117                 | 51           | 22             | 14             | 91             |            67 |\n",
      "| 272 | Jerami Grant             | 286                 | 113          | 60             | 102            | 147            |           142 |\n",
      "| 273 | Jeremiah Robinson-Earl   | 40                  | 7            | 3              | 6              | 26             |            13 |\n",
      "| 274 | Jeremy Sochan            | 361                 | 96           | 61             | 21             | 104            |           128 |\n",
      "| 275 | Jericho Sims             | 49                  | 5            | 1              | 0              | 0              |             0 |\n",
      "| 276 | Jermaine Samuels Jr.     | 12                  | 0            | 0              | 0              | 2              |             0 |\n",
      "| 277 | Jerome Robinson          | 12                  | 3            | 0              | 1              | 5              |            12 |\n",
      "| 278 | Jett Howard              | 3                   | 0            | 1              | 0              | 7              |            18 |\n",
      "| 279 | Jevon Carter             | 20                  | 26           | 43             | 34             | 99             |           141 |\n",
      "| 280 | Jimmy Butler             | 342                 | 152          | 102            | 43             | 93             |            59 |\n",
      "| 281 | Jock Landale             | 113                 | 21           | 22             | 9              | 8              |            33 |\n",
      "| 282 | Joe Harris               | 7                   | 2            | 0              | 0              | 14             |            15 |\n",
      "| 283 | Joe Ingles               | 38                  | 25           | 2              | 1              | 45             |           112 |\n",
      "| 284 | Joel Embiid              | 268                 | 84           | 171            | 165            | 41             |           116 |\n",
      "| 285 | John Collins             | 337                 | 116          | 27             | 25             | 144            |            97 |\n",
      "| 286 | John Konchar             | 80                  | 6            | 2              | 0              | 70             |            50 |\n",
      "| 287 | Johnny Davis             | 70                  | 17           | 17             | 9              | 22             |            18 |\n",
      "| 288 | Johnny Juzang            | 16                  | 13           | 2              | 1              | 44             |            34 |\n",
      "| 289 | Jonas Valančiūnas        | 345                 | 134          | 68             | 50             | 43             |            79 |\n",
      "| 290 | Jonathan Isaac           | 135                 | 4            | 11             | 22             | 61             |            49 |\n",
      "| 291 | Jonathan Kuminga         | 417                 | 153          | 79             | 44             | 65             |           100 |\n",
      "| 292 | Jontay Porter            | 29                  | 5            | 7              | 3              | 11             |            49 |\n",
      "| 293 | Jordan Clarkson          | 170                 | 198          | 93             | 35             | 97             |           213 |\n",
      "| 294 | Jordan Ford              | 1                   | 0            | 2              | 0              | 3              |             1 |\n",
      "| 295 | Jordan Goodwin           | 111                 | 49           | 47             | 19             | 74             |            81 |\n",
      "| 296 | Jordan Hawkins           | 50                  | 25           | 29             | 47             | 111            |           192 |\n",
      "| 297 | Jordan McLaughlin        | 39                  | 9            | 4              | 2              | 58             |            31 |\n",
      "| 298 | Jordan Miller            | 5                   | 0            | 1              | 1              | 2              |             0 |\n",
      "| 299 | Jordan Nwora             | 104                 | 35           | 18             | 8              | 49             |            81 |\n",
      "| 300 | Jordan Poole             | 281                 | 117          | 112            | 89             | 124            |           408 |\n",
      "| 301 | Jordan Walsh             | 6                   | 0            | 0              | 0              | 4              |             5 |\n",
      "| 302 | Jose Alvarado            | 69                  | 43           | 21             | 4              | 85             |           120 |\n",
      "| 303 | Josh Giddey              | 363                 | 162          | 51             | 16             | 145            |           109 |\n",
      "| 304 | Josh Green               | 129                 | 29           | 17             | 11             | 134            |            52 |\n",
      "| 305 | Josh Hart                | 261                 | 73           | 60             | 22             | 109            |           152 |\n",
      "| 306 | Josh Minott              | 20                  | 6            | 0              | 0              | 5              |             5 |\n",
      "| 307 | Josh Okogie              | 90                  | 15           | 6              | 1              | 67             |            27 |\n",
      "| 308 | Josh Richardson          | 62                  | 33           | 30             | 27             | 71             |           122 |\n",
      "| 309 | Joshua Primo             | 1                   | 0            | 0              | 0              | 1              |             1 |\n",
      "| 310 | Jrue Holiday             | 178                 | 85           | 59             | 31             | 125            |           209 |\n",
      "| 311 | Juan Toscano-Anderson    | 7                   | 1            | 0              | 0              | 3              |             1 |\n",
      "| 312 | Jules Bernard            | 30                  | 2            | 1              | 1              | 8              |            21 |\n",
      "| 313 | Julian Champagnie        | 94                  | 20           | 4              | 4              | 135            |           145 |\n",
      "| 314 | Julian Phillips          | 35                  | 1            | 1              | 0              | 28             |            12 |\n",
      "| 315 | Julian Strawther         | 39                  | 22           | 18             | 4              | 35             |           103 |\n",
      "| 316 | Julius Randle            | 316                 | 151          | 87             | 34             | 80             |           167 |\n",
      "| 317 | Justin Champagnie        | 28                  | 4            | 0              | 1              | 23             |            20 |\n",
      "| 318 | Justin Holiday           | 31                  | 1            | 3              | 19             | 95             |            44 |\n",
      "| 319 | Justin Jackson           | -                   | -            | -              | -              | 0              |             0 |\n",
      "| 320 | Justin Minaya            | 23                  | 1            | 1              | 0              | 20             |            29 |\n",
      "| 321 | Jusuf Nurkić             | 427                 | 83           | 20             | 6              | 18             |            72 |\n",
      "| 322 | KJ Martin                | 132                 | 20           | 0              | 1              | 20             |             8 |\n",
      "| 323 | Kaiser Gates             | 2                   | 0            | 0              | 0              | 1              |             1 |\n",
      "| 324 | Karl-Anthony Towns       | 354                 | 168          | 51             | 31             | 102            |           242 |\n",
      "| 325 | Kawhi Leonard            | 265                 | 163          | 245            | 135            | 116            |           235 |\n",
      "| 326 | Keegan Murray            | 200                 | 79           | 89             | 81             | 185            |           337 |\n",
      "| 327 | Keita Bates-Diop         | 74                  | 13           | 10             | 0              | 47             |            21 |\n",
      "| 328 | Keldon Johnson           | 324                 | 122          | 27             | 14             | 166            |           205 |\n",
      "| 329 | Kelly Olynyk             | 225                 | 58           | 28             | 20             | 60             |           101 |\n",
      "| 330 | Kelly Oubre Jr.          | 367                 | 111          | 57             | 14             | 124            |           203 |\n",
      "| 331 | Kendall Brown            | 10                  | 1            | 2              | 0              | 1              |             1 |\n",
      "| 332 | Kenneth Lofton Jr.       | 26                  | 9            | 7              | 11             | 7              |            17 |\n",
      "| 333 | Kenrich Williams         | 97                  | 15           | 8              | 14             | 66             |            77 |\n",
      "| 334 | Kentavious Caldwell-Pope | 138                 | 16           | 41             | 78             | 171            |           141 |\n",
      "| 335 | Keon Ellis               | 35                  | 10           | 8              | 8              | 79             |            89 |\n",
      "| 336 | Keon Johnson             | 5                   | 1            | 1              | 2              | 3              |             9 |\n",
      "| 337 | Kessler Edwards          | 20                  | 4            | 1              | 3              | 29             |            24 |\n",
      "| 338 | Kevin Durant             | 240                 | 161          | 336            | 265            | 137            |           295 |\n",
      "| 339 | Kevin Huerter            | 118                 | 49           | 37             | 14             | 84             |           255 |\n",
      "| 340 | Kevin Knox II            | 57                  | 14           | 13             | 6              | 48             |            47 |\n",
      "| 341 | Kevin Love               | 71                  | 30           | 4              | 7              | 72             |           173 |\n",
      "| 342 | Kevon Harris             | 1                   | 0            | 1              | 0              | 1              |             0 |\n",
      "| 343 | Kevon Looney             | 178                 | 33           | 11             | 10             | 0              |             0 |\n",
      "| 344 | Keyontae Johnson         | 11                  | 1            | 1              | 0              | 1              |             2 |\n",
      "| 345 | Keyonte George           | 127                 | 119          | 76             | 38             | 134            |           314 |\n",
      "| 346 | Khris Middleton          | 89                  | 79           | 96             | 106            | 94             |           177 |\n",
      "| 347 | Killian Hayes            | 29                  | 52           | 79             | 42             | 42             |            38 |\n",
      "| 348 | Kira Lewis Jr.           | 34                  | 13           | 6              | 4              | 13             |            21 |\n",
      "| 349 | Klay Thompson            | 124                 | 57           | 103            | 119            | 188            |           530 |\n",
      "| 350 | Kobe Brown               | 33                  | 3            | 4              | 2              | 18             |            30 |\n",
      "| 351 | Kobe Bufkin              | 14                  | 8            | 10             | 16             | 19             |            24 |\n",
      "| 352 | Kobi Simmons             | 7                   | 3            | 2              | 1              | 5              |             3 |\n",
      "| 353 | Kris Dunn                | 93                  | 88           | 18             | 2              | 53             |            58 |\n",
      "| 354 | Kris Murray              | 139                 | 32           | 11             | 1              | 112            |            68 |\n",
      "| 355 | Kristaps Porziņģis       | 235                 | 86           | 87             | 45             | 28             |           262 |\n",
      "| 356 | Kyle Anderson            | 128                 | 162          | 80             | 8              | 45             |             8 |\n",
      "| 357 | Kyle Kuzma               | 386                 | 243          | 129            | 79             | 159            |           294 |\n",
      "| 358 | Kyle Lowry               | 57                  | 28           | 24             | 15             | 83             |           163 |\n",
      "| 359 | Kyrie Irving             | 248                 | 169          | 170            | 102            | 134            |           297 |\n",
      "| 360 | LaMelo Ball              | 134                 | 59           | 20             | 12             | 41             |           139 |\n",
      "| 361 | Lamar Stevens            | 93                  | 37           | 45             | 13             | 38             |            13 |\n",
      "| 362 | Landry Shamet            | 59                  | 20           | 18             | 18             | 59             |            98 |\n",
      "| 363 | Larry Nance Jr.          | 131                 | 27           | 14             | 4              | 41             |            21 |\n",
      "| 364 | Lauri Markkanen          | 251                 | 118          | 50             | 26             | 124            |           315 |\n",
      "| 365 | LeBron James             | 602                 | 112          | 88             | 69             | 97             |           285 |\n",
      "| 366 | Leaky Black              | 24                  | 3            | 2              | 3              | 12             |             8 |\n",
      "| 367 | Leonard Miller           | 11                  | 0            | 2              | 0              | 4              |             3 |\n",
      "| 368 | Lester Quinones          | 31                  | 8            | 10             | 4              | 22             |            60 |\n",
      "| 369 | Lindell Wigginton        | 3                   | 0            | 0              | 0              | 0              |             2 |\n",
      "| 370 | Lindy Waters III         | 9                   | 2            | 1              | 2              | 41             |            49 |\n",
      "| 371 | Lonnie Walker IV         | 117                 | 25           | 24             | 42             | 99             |           183 |\n",
      "| 372 | Luguentz Dort            | 172                 | 30           | 23             | 34             | 167            |           230 |\n",
      "| 373 | Luka Dončić              | 302                 | 222          | 208            | 154            | 112            |           615 |\n",
      "| 374 | Luka Garza               | 25                  | 15           | 3              | 0              | 11             |            21 |\n",
      "| 375 | Luka Samanic             | 65                  | 28           | 0              | 1              | 31             |            33 |\n",
      "| 376 | Luke Kennard             | 25                  | 11           | 22             | 16             | 63             |           175 |\n",
      "| 377 | Luke Kornet              | 188                 | 12           | 2              | 0              | 0              |             1 |\n",
      "| 378 | Malachi Flynn            | 74                  | 28           | 28             | 24             | 47             |           122 |\n",
      "| 379 | Malaki Branham           | 157                 | 78           | 72             | 48             | 112            |           161 |\n",
      "| 380 | Malcolm Brogdon          | 140                 | 38           | 49             | 60             | 62             |           139 |\n",
      "| 381 | Malcolm Cazalon          | 0                   | 0            | 0              | -              | -              |             0 |\n",
      "| 382 | Malik Beasley            | 80                  | 45           | 27             | 25             | 257            |           286 |\n",
      "| 383 | Malik Monk               | 223                 | 97           | 82             | 57             | 122            |           308 |\n",
      "| 384 | Malik Williams           | 19                  | 5            | 3              | 2              | 3              |             2 |\n",
      "| 385 | Mamadi Diakite           | 3                   | 2            | 0              | 0              | 0              |             1 |\n",
      "| 386 | MarJon Beauchamp         | 56                  | 11           | 7              | 12             | 48             |            31 |\n",
      "| 387 | Marcus Morris Sr.        | 29                  | 22           | 39             | 39             | 65             |            68 |\n",
      "| 388 | Marcus Sasser            | 66                  | 63           | 70             | 59             | 84             |           167 |\n",
      "| 389 | Marcus Smart             | 38                  | 29           | 24             | 10             | 51             |            81 |\n",
      "| 390 | Mark Williams            | 131                 | 18           | 2              | 0              | 0              |             0 |\n",
      "| 391 | Markelle Fultz           | 161                 | 69           | 50             | 26             | 17             |             2 |\n",
      "| 392 | Markieff Morris          | 6                   | 4            | 7              | 5              | 17             |            28 |\n",
      "| 393 | Markquis Nowell          | 0                   | 1            | 0              | 0              | 0              |             0 |\n",
      "| 394 | Marques Bolden           | 15                  | 4            | 5              | 0              | 0              |             1 |\n",
      "| 395 | Marvin Bagley III        | 292                 | 49           | 34             | 9              | 9              |            15 |\n",
      "| 396 | Mason Jones              | 0                   | 0            | 1              | 0              | 2              |             4 |\n",
      "| 397 | Mason Plumlee            | 120                 | 24           | 3              | 0              | 4              |             2 |\n",
      "| 398 | Matisse Thybulle         | 59                  | 21           | 4              | 1              | 120            |           111 |\n",
      "| 399 | Matt Hurt                | 4                   | 3            | 1              | 2              | 11             |            13 |\n",
      "| 400 | Matt Ryan                | 4                   | 3            | 7              | 7              | 42             |            48 |\n",
      "| 401 | Max Christie             | 57                  | 21           | 29             | 14             | 64             |            52 |\n",
      "| 402 | Max Strus                | 201                 | 28           | 8              | 11             | 160            |           293 |\n",
      "| 403 | Maxi Kleber              | 30                  | 7            | 11             | 4              | 45             |            49 |\n",
      "| 404 | Maxwell Lewis            | 7                   | 2            | 1              | 2              | 4              |             5 |\n",
      "| 405 | Micah Potter             | 14                  | 5            | 0              | 0              | 16             |             5 |\n",
      "| 406 | Michael Porter Jr.       | 230                 | 61           | 59             | 104            | 298            |           323 |\n",
      "| 407 | Mikal Bridges            | 282                 | 142          | 180            | 90             | 292            |           299 |\n",
      "| 408 | Mike Conley              | 87                  | 72           | 53             | 11             | 207            |           213 |\n",
      "| 409 | Mike Muscala             | 37                  | 5            | 7              | 10             | 37             |            60 |\n",
      "| 410 | Miles Bridges            | 453                 | 139          | 62             | 74             | 163            |           300 |\n",
      "| 411 | Miles McBride            | 90                  | 26           | 36             | 29             | 152            |           118 |\n",
      "| 412 | Mitchell Robinson        | 123                 | 4            | 0              | 0              | 0              |             0 |\n",
      "| 413 | Mo Bamba                 | 107                 | 16           | 3              | 5              | 16             |            50 |\n",
      "| 414 | Monté Morris             | 22                  | 10           | 27             | 20             | 38             |            33 |\n",
      "| 415 | Moritz Wagner            | 387                 | 42           | 2              | 5              | 51             |            63 |\n",
      "| 416 | Moses Brown              | 54                  | 8            | 2              | 1              | 0              |             0 |\n",
      "| 417 | Moses Moody              | 133                 | 43           | 25             | 11             | 75             |           133 |\n",
      "| 418 | Mouhamadou Gueye         | 22                  | 11           | 1              | 0              | 1              |             3 |\n",
      "| 419 | Mouhamed Gueye           | 11                  | 2            | 1              | 0              | 5              |             4 |\n",
      "| 420 | Moussa Diabaté           | 15                  | 3            | 1              | 0              | 0              |             0 |\n",
      "| 421 | Myles Turner             | 341                 | 114          | 66             | 44             | 79             |           264 |\n",
      "| 422 | Mãozinha Pereira         | 19                  | 3            | 0              | 0              | 9              |             3 |\n",
      "| 423 | Naji Marshall            | 113                 | 60           | 26             | 10             | 99             |            49 |\n",
      "| 424 | Nassir Little            | 35                  | 11           | 3              | 5              | 33             |            37 |\n",
      "| 425 | Nate Hinton              | 10                  | 0            | 0              | 2              | 3              |            11 |\n",
      "| 426 | Nate Williams            | 34                  | 8            | 2              | 0              | 5              |             1 |\n",
      "| 427 | Nathan Mensah            | 18                  | 10           | 0              | 0              | 0              |             0 |\n",
      "| 428 | Naz Reid                 | 279                 | 132          | 30             | 2              | 175            |           229 |\n",
      "| 429 | Neemias Queta            | 83                  | 15           | 5              | 0              | 1              |             0 |\n",
      "| 430 | Nic Claxton              | 432                 | 112          | 28             | 4              | 5              |             1 |\n",
      "| 431 | Nick Richards            | 305                 | 44           | 20             | 6              | 0              |             1 |\n",
      "| 432 | Nick Smith Jr.           | 33                  | 33           | 36             | 31             | 51             |            98 |\n",
      "| 433 | Nickeil Alexander-Walker | 127                 | 31           | 20             | 20             | 220            |           115 |\n",
      "| 434 | Nicolas Batum            | 54                  | 6            | 6              | 4              | 111            |            74 |\n",
      "| 435 | Nikola Jokić             | 588                 | 347          | 134            | 97             | 60             |           169 |\n",
      "| 436 | Nikola Jović             | 75                  | 30           | 8              | 3              | 64             |           100 |\n",
      "| 437 | Nikola Vučević           | 365                 | 274          | 129            | 113            | 84             |           244 |\n",
      "| 438 | Noah Clowney             | 50                  | 9            | 1              | 0              | 22             |            11 |\n",
      "| 439 | Norman Powell            | 190                 | 84           | 56             | 42             | 169            |           224 |\n",
      "| 440 | OG Anunoby               | 215                 | 34           | 32             | 23             | 164            |           109 |\n",
      "| 441 | Obi Toppin               | 278                 | 32           | 14             | 2              | 119            |           130 |\n",
      "| 442 | Ochai Agbaji             | 173                 | 28           | 14             | 6              | 112            |            99 |\n",
      "| 443 | Olivier Sarr             | 12                  | 1            | 0              | 0              | 3              |             3 |\n",
      "| 444 | Olivier-Maxence Prosper  | 45                  | 6            | 4              | 4              | 27             |            18 |\n",
      "| 445 | Omer Yurtseven           | 92                  | 56           | 8              | 4              | 11             |            13 |\n",
      "| 446 | Onuralp Bitim            | 21                  | 8            | 6              | 1              | 26             |            22 |\n",
      "| 447 | Onyeka Okongwu           | 243                 | 46           | 5              | 0              | 56             |            14 |\n",
      "| 448 | Orlando Robinson         | 37                  | 14           | 3              | 2              | 6              |            10 |\n",
      "| 449 | Oscar Tshiebwe           | 13                  | 5            | 0              | 2              | 0              |             0 |\n",
      "| 450 | Oshae Brissett           | 79                  | 13           | 2              | 3              | 30             |            26 |\n",
      "| 451 | Otto Porter Jr.          | 7                   | 0            | 2              | 1              | 12             |            11 |\n",
      "| 452 | Ousmane Dieng            | 27                  | 10           | 3              | 4              | 31             |            40 |\n",
      "| 453 | P.J. Tucker              | 9                   | 3            | 1              | 0              | 37             |             0 |\n",
      "| 454 | P.J. Washington          | 220                 | 136          | 31             | 8              | 161            |           252 |\n",
      "| 455 | Paolo Banchero           | 472                 | 173          | 217            | 177            | 77             |           285 |\n",
      "| 456 | Pascal Siakam            | 539                 | 243          | 147            | 86             | 102            |           154 |\n",
      "| 457 | Pat Connaughton          | 92                  | 15           | 1              | 1              | 108            |           127 |\n",
      "| 458 | Pat Spencer              | 1                   | 1            | 0              | 0              | 0              |             2 |\n",
      "| 459 | Patrick Baldwin Jr.      | 41                  | 8            | 4              | 2              | 28             |            69 |\n",
      "| 460 | Patrick Beverley         | 90                  | 79           | 25             | 4              | 71             |           109 |\n",
      "| 461 | Patrick Williams         | 111                 | 31           | 30             | 31             | 74             |            79 |\n",
      "| 462 | Patty Mills              | 16                  | 6            | 5              | 15             | 38             |            51 |\n",
      "| 463 | Paul George              | 221                 | 91           | 115            | 176            | 188            |           439 |\n",
      "| 464 | Paul Reed                | 285                 | 70           | 41             | 22             | 25             |            37 |\n",
      "| 465 | Payton Pritchard         | 125                 | 32           | 47             | 33             | 137            |           240 |\n",
      "| 466 | Pete Nance               | 2                   | 1            | 2              | 0              | 0              |             1 |\n",
      "| 467 | Peyton Watson            | 192                 | 52           | 34             | 14             | 94             |            55 |\n",
      "| 468 | Precious Achiuwa         | 292                 | 53           | 20             | 6              | 53             |            45 |\n",
      "| 469 | Quentin Grimes           | 66                  | 5            | 5              | 10             | 128            |           114 |\n",
      "| 470 | Quenton Jackson          | 1                   | 0            | 0              | 0              | 0              |             0 |\n",
      "| 471 | R.J. Hampton             | 4                   | 0            | 2              | 0              | 3              |             5 |\n",
      "| 472 | RJ Barrett               | 413                 | 149          | 45             | 19             | 130            |           123 |\n",
      "| 473 | RaiQuan Gray             | 7                   | 3            | 0              | 0              | 3              |             4 |\n",
      "| 474 | Rayan Rupert             | 43                  | 24           | 12             | 3              | 37             |            42 |\n",
      "| 475 | Reggie Bullock Jr.       | 5                   | 2            | 4              | 3              | 35             |            33 |\n",
      "| 476 | Reggie Jackson           | 215                 | 115          | 58             | 59             | 128            |           172 |\n",
      "| 477 | Richaun Holmes           | 107                 | 31           | 6              | 0              | 2              |             1 |\n",
      "| 478 | Ricky Council IV         | 54                  | 18           | 5              | 2              | 11             |            20 |\n",
      "| 479 | Robert Covington         | 31                  | 7            | 2              | 2              | 18             |            37 |\n",
      "| 480 | Robert Williams III      | 17                  | 3            | 1              | 4              | 1              |             0 |\n",
      "| 481 | Robin Lopez              | 2                   | 9            | 0              | 0              | 5              |             3 |\n",
      "| 482 | Ron Harper Jr.           | 0                   | 0            | 0              | 0              | 0              |             0 |\n",
      "| 483 | Royce O'Neale            | 77                  | 27           | 11             | 1              | 113            |           285 |\n",
      "| 484 | Rudy Gobert              | 532                 | 53           | 18             | 7              | 1              |             2 |\n",
      "| 485 | Rui Hachimura            | 265                 | 70           | 49             | 51             | 136            |           104 |\n",
      "| 486 | Russell Westbrook        | 353                 | 81           | 38             | 34             | 75             |            81 |\n",
      "| 487 | Ryan Arcidiacono         | 0                   | 0            | 0              | 0              | 1              |             5 |\n",
      "| 488 | Ryan Rollins             | 13                  | 4            | 5              | 1              | 1              |             3 |\n",
      "| 489 | Saben Lee                | 34                  | 4            | 0              | 1              | 10             |             6 |\n",
      "| 490 | Saddiq Bey               | 258                 | 49           | 23             | 9              | 203            |           150 |\n",
      "| 491 | Sam Hauser               | 53                  | 15           | 12             | 8              | 158            |           300 |\n",
      "| 492 | Sam Merrill              | 22                  | 9            | 5              | 3              | 115            |           232 |\n",
      "| 493 | Sandro Mamukelashvili    | 61                  | 22           | 6              | 2              | 25             |            36 |\n",
      "| 494 | Santi Aldama             | 160                 | 67           | 26             | 10             | 121            |           181 |\n",
      "| 495 | Sasha Vezenkov           | 44                  | 21           | 4              | 0              | 52             |            67 |\n",
      "| 496 | Scoot Henderson          | 250                 | 81           | 109            | 75             | 74             |           199 |\n",
      "| 497 | Scottie Barnes           | 339                 | 169          | 65             | 55             | 92             |           215 |\n",
      "| 498 | Scotty Pippen Jr.        | 83                  | 19           | 18             | 11             | 14             |            58 |\n",
      "| 499 | Seth Curry               | 19                  | 14           | 10             | 39             | 66             |            53 |\n",
      "| 500 | Seth Lundy               | 2                   | 1            | 0              | 1              | 6              |             6 |\n",
      "| 501 | Shaedon Sharpe           | 145                 | 30           | 33             | 42             | 64             |           114 |\n",
      "| 502 | Shai Gilgeous-Alexander  | 498                 | 211          | 326            | 167            | 80             |           201 |\n",
      "| 503 | Shake Milton             | 60                  | 26           | 34             | 10             | 33             |            30 |\n",
      "| 504 | Shaquille Harrison       | 2                   | 0            | 0              | 0              | 0              |             0 |\n",
      "| 505 | Sidy Cissoko             | 16                  | 5            | 0              | 0              | 7              |             5 |\n",
      "| 506 | Simone Fontecchio        | 145                 | 45           | 14             | 9              | 177            |           154 |\n",
      "| 507 | Skylar Mays              | 53                  | 21           | 19             | 11             | 17             |            38 |\n",
      "| 508 | Spencer Dinwiddie        | 149                 | 68           | 38             | 12             | 142            |           221 |\n",
      "| 509 | Stanley Umude            | 15                  | 9            | 3              | 4              | 29             |            23 |\n",
      "| 510 | Stephen Curry            | 232                 | 126          | 76             | 109            | 162            |           670 |\n",
      "| 511 | Svi Mykhailiuk           | 18                  | 2            | 7              | 1              | 38             |            70 |\n",
      "| 512 | T.J. McConnell           | 225                 | 156          | 145            | 22             | 14             |            28 |\n",
      "| 513 | T.J. Warren              | 9                   | 5            | 10             | 4              | 9              |             4 |\n",
      "| 514 | Taj Gibson               | 18                  | 3            | 2              | 4              | 8              |             2 |\n",
      "| 515 | Talen Horton-Tucker      | 155                 | 75           | 32             | 19             | 67             |           111 |\n",
      "| 516 | Tari Eason               | 102                 | 15           | 11             | 8              | 26             |            27 |\n",
      "| 517 | Taurean Prince           | 125                 | 44           | 29             | 15             | 200            |           154 |\n",
      "| 518 | Taylor Hendricks         | 63                  | 22           | 8              | 5              | 87             |            54 |\n",
      "| 519 | Tazé Moore               | 9                   | 2            | 0              | 1              | 3              |             4 |\n",
      "| 520 | Terance Mann             | 197                 | 43           | 35             | 12             | 124            |            81 |\n",
      "| 521 | Terquavion Smith         | 8                   | 1            | 1              | 1              | 7              |            28 |\n",
      "| 522 | Terry Rozier             | 258                 | 126          | 93             | 76             | 215            |           224 |\n",
      "| 523 | Terry Taylor             | 25                  | 4            | 1              | 0              | 7              |             2 |\n",
      "| 524 | Thaddeus Young           | 80                  | 13           | 7              | 1              | 4              |             2 |\n",
      "| 525 | Thanasis Antetokounmpo   | 25                  | 3            | 0              | 0              | 2              |             0 |\n",
      "| 526 | Theo Maledon             | 20                  | 11           | 5              | 4              | 11             |            16 |\n",
      "| 527 | Thomas Bryant            | 93                  | 18           | 8              | 8              | 7              |            15 |\n",
      "| 528 | Tim Hardaway Jr.         | 121                 | 55           | 79             | 102            | 235            |           372 |\n",
      "| 529 | Timmy Allen              | 3                   | 4            | 6              | 2              | 6              |             2 |\n",
      "| 530 | Tobias Harris            | 342                 | 152          | 117            | 69             | 106            |           165 |\n",
      "| 531 | Torrey Craig             | 66                  | 20           | 4              | 5              | 89             |            66 |\n",
      "| 532 | Tosan Evbuomwan          | 31                  | 8            | 0              | 0              | 26             |             6 |\n",
      "| 533 | Toumani Camara           | 214                 | 38           | 10             | 3              | 104            |            69 |\n",
      "| 534 | Trae Young               | 174                 | 139          | 146            | 49             | 84             |           339 |\n",
      "| 535 | Trayce Jackson-Davis     | 304                 | 25           | 2              | 0              | 0              |             0 |\n",
      "| 536 | Tre Jones                | 245                 | 95           | 60             | 7              | 100            |            90 |\n",
      "| 537 | Tre Mann                 | 106                 | 36           | 31             | 12             | 39             |            83 |\n",
      "| 538 | Trendon Watford          | 140                 | 76           | 20             | 5              | 36             |            34 |\n",
      "| 539 | Trent Forrest            | 34                  | 30           | 16             | 0              | 4              |             4 |\n",
      "| 540 | Trevelin Queen           | 15                  | 2            | 1              | 3              | 8              |             9 |\n",
      "| 541 | Trey Jemison             | 88                  | 30           | 16             | 2              | 0              |             0 |\n",
      "| 542 | Trey Lyles               | 76                  | 13           | 7              | 5              | 103            |           113 |\n",
      "| 543 | Trey Murphy III          | 106                 | 44           | 14             | 9              | 122            |           297 |\n",
      "| 544 | Tristan Thompson         | 93                  | 21           | 4              | 0              | 0              |             0 |\n",
      "| 545 | Tristan Vukcevic         | 21                  | 4            | 4              | 2              | 4              |            30 |\n",
      "| 546 | Troy Brown Jr.           | 49                  | 12           | 6              | 11             | 72             |            73 |\n",
      "| 547 | Ty Jerome                | 2                   | 0            | 1              | 0              | 0              |             1 |\n",
      "| 548 | TyTy Washington Jr.      | 1                   | 4            | 2              | 4              | 5              |             4 |\n",
      "| 549 | Tyler Herro              | 101                 | 108          | 112            | 69             | 88             |           253 |\n",
      "| 550 | Tyrese Haliburton        | 245                 | 96           | 81             | 70             | 101            |           408 |\n",
      "| 551 | Tyrese Maxey             | 442                 | 199          | 117            | 71             | 83             |           479 |\n",
      "| 552 | Tyus Jones               | 126                 | 146          | 103            | 26             | 94             |           171 |\n",
      "| 553 | Udoka Azubuike           | 19                  | 3            | 1              | 0              | 0              |             0 |\n",
      "| 554 | Usman Garuba             | 4                   | 1            | 0              | 0              | 0              |             1 |\n",
      "| 555 | Vasilije Micić           | 132                 | 23           | 29             | 26             | 35             |           124 |\n",
      "| 556 | Victor Wembanyama        | 444                 | 145          | 94             | 85             | 83             |           324 |\n",
      "| 557 | Vince Williams Jr.       | 110                 | 37           | 15             | 7              | 100            |           108 |\n",
      "| 558 | Vít Krejčí               | 21                  | 6            | 6              | 1              | 28             |            39 |\n",
      "| 559 | Walker Kessler           | 304                 | 24           | 1              | 1              | 20             |             0 |\n",
      "| 560 | Wendell Carter Jr.       | 181                 | 41           | 20             | 12             | 84             |            87 |\n",
      "| 561 | Wendell Moore Jr.        | 5                   | 2            | 4              | 1              | 3              |             3 |\n",
      "| 562 | Wenyen Gabriel           | 14                  | 0            | 2              | 0              | 4              |             2 |\n",
      "| 563 | Wesley Matthews          | 14                  | 5            | 8              | 1              | 31             |            35 |\n",
      "| 564 | Xavier Moon              | 8                   | 5            | 10             | 6              | 5              |            11 |\n",
      "| 565 | Xavier Tillman           | 127                 | 49           | 17             | 2              | 60             |            23 |\n",
      "| 566 | Yuta Watanabe            | 15                  | 8            | 5              | 3              | 44             |            40 |\n",
      "| 567 | Zach Collins             | 236                 | 121          | 46             | 29             | 53             |           131 |\n",
      "| 568 | Zach LaVine              | 129                 | 11           | 18             | 33             | 63             |           118 |\n",
      "| 569 | Zavier Simpson           | 15                  | 12           | 4              | 5              | 7              |            10 |\n",
      "| 570 | Zeke Nnaji               | 112                 | 9            | 3              | 1              | 13             |            11 |\n",
      "| 571 | Ziaire Williams          | 106                 | 25           | 25             | 29             | 103            |            85 |\n",
      "| 572 | Zion Williamson          | 821                 | 219          | 32             | 4              | 4              |            14 |\n"
     ]
    }
   ],
   "source": [
    "print(df_shot.to_markdown())"
   ]
  },
  {
   "cell_type": "code",
   "execution_count": 7,
   "metadata": {},
   "outputs": [
    {
     "name": "stdout",
     "output_type": "stream",
     "text": [
      "<class 'pandas.core.frame.DataFrame'>\n",
      "RangeIndex: 572 entries, 1 to 572\n",
      "Data columns (total 14 columns):\n",
      " #   Column               Non-Null Count  Dtype  \n",
      "---  ------               --------------  -----  \n",
      " 0   Name                 572 non-null    object \n",
      " 1   Less than 5ft FGA    570 non-null    float64\n",
      " 2   5-9 ft FGA           570 non-null    float64\n",
      " 3   10-14 ft FGA         570 non-null    float64\n",
      " 4   15-19 ft FGA         566 non-null    float64\n",
      " 5   20-25 ft FGA         571 non-null    float64\n",
      " 6   25-29ft FGA          572 non-null    int64  \n",
      " 7   TFGA                 572 non-null    float64\n",
      " 8   Less than 5ft FGA %  568 non-null    float64\n",
      " 9   5-9 ft FGA %         567 non-null    float64\n",
      " 10  10-14 ft FGA %       568 non-null    float64\n",
      " 11  15-19 ft FGA %       565 non-null    float64\n",
      " 12  20-25 ft FGA %       568 non-null    float64\n",
      " 13  25-29ft FGA %        568 non-null    float64\n",
      "dtypes: float64(12), int64(1), object(1)\n",
      "memory usage: 62.7+ KB\n"
     ]
    }
   ],
   "source": [
    "df_shot['Name'] = df_shot['Name'].astype(str) #Change the variable type of Name to string\n",
    "columns = ['Less than 5ft FGA', '5-9 ft FGA', '10-14 ft FGA', '15-19 ft FGA', '20-25 ft FGA', '25-29ft FGA']\n",
    "\n",
    "# Convert the selected columns to float, handling non-numeric values\n",
    "df_shot[columns] = df_shot[columns].apply(pd.to_numeric, errors='coerce')\n",
    "df_shot.iloc[:, 1:] = df_shot.iloc[:, 1:].apply(pd.to_numeric) #Change the variable type of all other columns to float\n",
    "df_shot['TFGA'] = df_shot[columns].sum(axis = 1) #calculate total FGA to add FGA % \n",
    "new_columns = df_shot.columns[1:-1]\n",
    "for col in new_columns: #Add FGA% for each distance range\n",
    "    df_shot[f'{col} %'] = (df_shot[col] / df_shot['TFGA'])\n",
    "\n",
    "df_shot.info()"
   ]
  },
  {
   "cell_type": "code",
   "execution_count": 8,
   "metadata": {},
   "outputs": [
    {
     "data": {
      "text/plain": [
       "Name                     0\n",
       "Height                   0\n",
       "Weight                   0\n",
       "Wingspan                 0\n",
       "BC                       0\n",
       "USG%                     0\n",
       "LOAD                     0\n",
       "SQ                       0\n",
       "TS%                      0\n",
       "PORT                     0\n",
       "PR                       0\n",
       "VR                       0\n",
       "CDPM                     0\n",
       "CPM                      0\n",
       "Handoff%                56\n",
       "Cut%                    53\n",
       "Iso%                    72\n",
       "Prbh%                   48\n",
       "Post%                  138\n",
       "Pnrr%                   81\n",
       "OffScreen%             107\n",
       "SpotUp%                 50\n",
       "Less than 5ft FGA %     16\n",
       "5-9 ft FGA %            16\n",
       "10-14 ft FGA %          16\n",
       "15-19 ft FGA %          16\n",
       "20-25 ft FGA %          16\n",
       "25-29ft FGA %           16\n",
       "dtype: int64"
      ]
     },
     "execution_count": 8,
     "metadata": {},
     "output_type": "execute_result"
    }
   ],
   "source": [
    "#Delete inrelevant columns from df_new and add the df_shot data\n",
    "df_new = df[['Name', 'Height', 'Weight', 'Wingspan', 'BC', 'USG%', 'LOAD', 'SQ', 'TS%', 'PORT', 'PR', 'VR', 'CDPM', 'CPM', 'Handoff%', 'Cut%', 'Iso%', 'Prbh%', 'Post%', 'Pnrr%', 'OffScreen%', 'SpotUp%']]\n",
    "\n",
    "df_new = df_new.sort_values(by='Name').reset_index(drop=True)\n",
    "df_shot = df_shot.sort_values(by='Name').reset_index(drop=True)\n",
    "\n",
    "columns = df_shot.columns[-6:] #We are only adding the FGA% data from each distance range, since that's what we will be using to determine shot selection for a player\n",
    "df_shot = df_shot[['Name'] + list(columns)]\n",
    "\n",
    "df_new = pd.merge(df_new, df_shot, on='Name', how='left') #Merge the data into df_new\n",
    "\n",
    "df_new.isnull().sum()"
   ]
  },
  {
   "cell_type": "code",
   "execution_count": 9,
   "metadata": {},
   "outputs": [
    {
     "name": "stdout",
     "output_type": "stream",
     "text": [
      "                   Name  Height  Weight  Wingspan    BC  USG%  LOAD    SQ  \\\n",
      "24    Bogdan Bogdanovic   77.50   225.0     83.00   4.7  22.3  35.4  81.0   \n",
      "25     Bojan Bogdanovic   79.75   226.0     83.00   4.0  24.6  33.2  79.3   \n",
      "41               Cedi O   79.00   230.0     83.00   2.7  15.1  25.1  57.3   \n",
      "53           Dante Exum   77.00   214.0     81.00   5.1  15.0  30.3  79.6   \n",
      "54          Dario Saric   81.50   225.0     82.00   5.2  19.5  33.7  69.4   \n",
      "65      Dennis Schroder   73.00   172.0     79.75   7.4  20.3  42.1  65.8   \n",
      "66         Dennis Smith   73.25   205.0     75.00   5.2  17.7  37.3  40.7   \n",
      "92           Gordon Hay   78.75   225.0     79.75   4.3  18.4  31.8  68.0   \n",
      "111        Jakob Poeltl   84.25   245.0     86.75   1.9  16.2  24.9  16.4   \n",
      "133       Jonas Valanci   83.00   265.0     89.00   3.8  20.8  31.0  54.0   \n",
      "145        Jusuf Nurkic   83.50   290.0     86.00   3.8  19.1  32.5  26.3   \n",
      "161  Kristaps Porzingis   86.50   240.0     90.00   4.7  25.1  35.2  71.8   \n",
      "170         Luka Doncic   78.50   230.0     83.00  18.4  36.0  70.1  65.1   \n",
      "192        Nikola Jokic   83.50   284.0     87.00  15.4  29.3  62.5  64.6   \n",
      "193      Nikola Vucevic   82.25   260.0     88.50   4.2  23.3  35.8  50.4   \n",
      "243      Vasilije Micic   76.00   188.0     79.00   6.1  18.8  40.2  42.3   \n",
      "\n",
      "      TS%  PORT  ...  Post%  Pnrr%  OffScreen%  SpotUp%  Less than 5ft FGA %  \\\n",
      "24   56.9   8.3  ...    NaN   0.02        0.14     0.29                  NaN   \n",
      "25   58.1   5.2  ...    NaN    NaN        0.16     0.31                  NaN   \n",
      "41   60.1   5.1  ...    NaN   0.02         NaN     0.45                  NaN   \n",
      "53   64.5   9.4  ...    NaN    NaN         NaN     0.33                  NaN   \n",
      "54   60.0   9.2  ...   0.14   0.20         NaN     0.28                  NaN   \n",
      "65   55.0   4.0  ...    NaN    NaN         NaN     0.23                  NaN   \n",
      "66   50.8   1.4  ...    NaN    NaN         NaN      NaN                  NaN   \n",
      "92   54.8   5.2  ...   0.05    NaN        0.09     0.19                  NaN   \n",
      "111  65.3   3.1  ...   0.08   0.22         NaN     0.02                  NaN   \n",
      "133  61.9   6.5  ...   0.23   0.18         NaN     0.11                  NaN   \n",
      "145  55.9   4.5  ...   0.20   0.19         NaN     0.08                  NaN   \n",
      "161  64.7   8.4  ...   0.18   0.21        0.03     0.19                  NaN   \n",
      "170  61.7   8.2  ...   0.07    NaN        0.02     0.07                  NaN   \n",
      "192  65.0   9.5  ...   0.26   0.13        0.05     0.10                  NaN   \n",
      "193  54.0   4.4  ...   0.17   0.38         NaN     0.15                  NaN   \n",
      "243  52.4   1.1  ...    NaN    NaN         NaN     0.19                  NaN   \n",
      "\n",
      "     5-9 ft FGA %  10-14 ft FGA %  15-19 ft FGA %  20-25 ft FGA %  \\\n",
      "24            NaN             NaN             NaN             NaN   \n",
      "25            NaN             NaN             NaN             NaN   \n",
      "41            NaN             NaN             NaN             NaN   \n",
      "53            NaN             NaN             NaN             NaN   \n",
      "54            NaN             NaN             NaN             NaN   \n",
      "65            NaN             NaN             NaN             NaN   \n",
      "66            NaN             NaN             NaN             NaN   \n",
      "92            NaN             NaN             NaN             NaN   \n",
      "111           NaN             NaN             NaN             NaN   \n",
      "133           NaN             NaN             NaN             NaN   \n",
      "145           NaN             NaN             NaN             NaN   \n",
      "161           NaN             NaN             NaN             NaN   \n",
      "170           NaN             NaN             NaN             NaN   \n",
      "192           NaN             NaN             NaN             NaN   \n",
      "193           NaN             NaN             NaN             NaN   \n",
      "243           NaN             NaN             NaN             NaN   \n",
      "\n",
      "     25-29ft FGA %  \n",
      "24             NaN  \n",
      "25             NaN  \n",
      "41             NaN  \n",
      "53             NaN  \n",
      "54             NaN  \n",
      "65             NaN  \n",
      "66             NaN  \n",
      "92             NaN  \n",
      "111            NaN  \n",
      "133            NaN  \n",
      "145            NaN  \n",
      "161            NaN  \n",
      "170            NaN  \n",
      "192            NaN  \n",
      "193            NaN  \n",
      "243            NaN  \n",
      "\n",
      "[16 rows x 28 columns]\n"
     ]
    }
   ],
   "source": [
    "null_rows = df_new[df_new['Less than 5ft FGA %'].isnull()] #Check which players have null values for shot selection data to determine how to handle them\n",
    "print(null_rows)"
   ]
  },
  {
   "attachments": {},
   "cell_type": "markdown",
   "metadata": {},
   "source": [
    "Although only 16 players have null values in the shot selection data (FGA%), many of the players are star players who are comparable to LeBron in many ways. Therefore, we will keep those rows and fill it with the median value of the dataframe. The Playstyle features also have a lot of null values. To account for this, we will find out the frequency of the play type most utilized by LeBron and put them in descending order to determine which play types are the most important to keep.  "
   ]
  },
  {
   "cell_type": "code",
   "execution_count": 10,
   "metadata": {},
   "outputs": [
    {
     "name": "stdout",
     "output_type": "stream",
     "text": [
      "Prbh%         0.19\n",
      "Iso%          0.14\n",
      "Post%         0.10\n",
      "SpotUp%       0.10\n",
      "Pnrr%         0.06\n",
      "Cut%          0.05\n",
      "Handoff%      0.04\n",
      "OffScreen%    0.04\n",
      "Name: 168, dtype: float64\n"
     ]
    }
   ],
   "source": [
    "LeBron_playstyle = df_new.loc[df_new['Name'] == 'LeBron James', ['Handoff%', 'Cut%', 'Iso%', 'Prbh%', 'Post%', 'Pnrr%', 'OffScreen%', 'SpotUp%']]\n",
    "sorted = LeBron_playstyle.iloc[0].sort_values(ascending=False) #Sort LeBron's playstyle features in descending order\n",
    "print(sorted)\n"
   ]
  },
  {
   "attachments": {},
   "cell_type": "markdown",
   "metadata": {},
   "source": [
    "We will ignore Pnrr%, Cut%, Handoff%, and OffScreen%, since these play types make up a small proportion of LeBron's playstyle. To account for the null values in the rest of the Playstyle feature columns and the shot selection feature columns, we will use a flag and fill method. "
   ]
  },
  {
   "cell_type": "code",
   "execution_count": 11,
   "metadata": {},
   "outputs": [],
   "source": [
    "df_new = df_new.drop(['Pnrr%', 'Cut%', 'Handoff%', 'OffScreen%'], axis=1) #Drop the playstyle features we don't want to keep\n",
    "df_new['Prbh%_null'] = df_new['Prbh%'].isnull() #Create new column that shows if a player's playstyle feature values was filled in\n",
    "df_new['Prbh%'].fillna(df_new['Prbh%'].median(), inplace=True) #Fill in null values using the median of the dataset\n",
    "\n",
    "df_new['Iso%_null'] = df_new['Iso%'].isnull()\n",
    "df_new['Iso%'].fillna(df_new['Iso%'].median(), inplace=True)\n",
    "\n",
    "df_new['Post%_null'] = df_new['Post%'].isnull()\n",
    "df_new['Post%'].fillna(df_new['Post%'].median(), inplace=True)\n",
    "\n",
    "df_new['SpotUp%_null'] = df_new['SpotUp%'].isnull()\n",
    "df_new['SpotUp%'].fillna(df_new['SpotUp%'].median(), inplace=True)"
   ]
  },
  {
   "cell_type": "code",
   "execution_count": 12,
   "metadata": {},
   "outputs": [],
   "source": [
    "df_new['Less than 5ft FGA %_null'] = df_new['Less than 5ft FGA %'].isnull()#Create new column that shows if a player's shot selection feature values was filled in\n",
    "df_new['Less than 5ft FGA %'].fillna(df_new['Less than 5ft FGA %'].median(), inplace=True)#Fill in null values using the median of the dataset\n",
    "\n",
    "df_new['5-9 ft FGA %_null'] = df_new['5-9 ft FGA %'].isnull()\n",
    "df_new['5-9 ft FGA %'].fillna(df_new['5-9 ft FGA %'].median(), inplace=True)\n",
    "\n",
    "df_new['10-14 ft FGA %_null'] = df_new['10-14 ft FGA %'].isnull()\n",
    "df_new['10-14 ft FGA %'].fillna(df_new['10-14 ft FGA %'].median(), inplace=True)\n",
    "\n",
    "df_new['15-19 ft FGA %_null'] = df_new['15-19 ft FGA %'].isnull()\n",
    "df_new['15-19 ft FGA %'].fillna(df_new['15-19 ft FGA %'].median(), inplace=True)\n",
    "\n",
    "df_new['20-25 ft FGA %_null'] = df_new['20-25 ft FGA %'].isnull()\n",
    "df_new['20-25 ft FGA %'].fillna(df_new['20-25 ft FGA %'].median(), inplace=True)\n",
    "\n",
    "df_new['25-29ft FGA %_null'] = df_new['25-29ft FGA %'].isnull()\n",
    "df_new['25-29ft FGA %'].fillna(df_new['25-29ft FGA %'].median(), inplace=True)\n"
   ]
  },
  {
   "cell_type": "code",
   "execution_count": 13,
   "metadata": {},
   "outputs": [
    {
     "data": {
      "text/plain": [
       "Name                        0\n",
       "Height                      0\n",
       "Weight                      0\n",
       "Wingspan                    0\n",
       "BC                          0\n",
       "USG%                        0\n",
       "LOAD                        0\n",
       "SQ                          0\n",
       "TS%                         0\n",
       "PORT                        0\n",
       "PR                          0\n",
       "VR                          0\n",
       "CDPM                        0\n",
       "CPM                         0\n",
       "Iso%                        0\n",
       "Prbh%                       0\n",
       "Post%                       0\n",
       "SpotUp%                     0\n",
       "Less than 5ft FGA %         0\n",
       "5-9 ft FGA %                0\n",
       "10-14 ft FGA %              0\n",
       "15-19 ft FGA %              0\n",
       "20-25 ft FGA %              0\n",
       "25-29ft FGA %               0\n",
       "Prbh%_null                  0\n",
       "Iso%_null                   0\n",
       "Post%_null                  0\n",
       "SpotUp%_null                0\n",
       "Less than 5ft FGA %_null    0\n",
       "5-9 ft FGA %_null           0\n",
       "10-14 ft FGA %_null         0\n",
       "15-19 ft FGA %_null         0\n",
       "20-25 ft FGA %_null         0\n",
       "25-29ft FGA %_null          0\n",
       "dtype: int64"
      ]
     },
     "execution_count": 13,
     "metadata": {},
     "output_type": "execute_result"
    }
   ],
   "source": [
    "#Check that there are no more null values in the dataset\n",
    "df_new.isnull().sum()"
   ]
  },
  {
   "cell_type": "code",
   "execution_count": 14,
   "metadata": {},
   "outputs": [
    {
     "data": {
      "text/html": [
       "<div>\n",
       "<style scoped>\n",
       "    .dataframe tbody tr th:only-of-type {\n",
       "        vertical-align: middle;\n",
       "    }\n",
       "\n",
       "    .dataframe tbody tr th {\n",
       "        vertical-align: top;\n",
       "    }\n",
       "\n",
       "    .dataframe thead th {\n",
       "        text-align: right;\n",
       "    }\n",
       "</style>\n",
       "<table border=\"1\" class=\"dataframe\">\n",
       "  <thead>\n",
       "    <tr style=\"text-align: right;\">\n",
       "      <th></th>\n",
       "      <th>Height</th>\n",
       "      <th>Weight</th>\n",
       "      <th>Wingspan</th>\n",
       "      <th>BC</th>\n",
       "      <th>USG%</th>\n",
       "      <th>LOAD</th>\n",
       "      <th>SQ</th>\n",
       "      <th>TS%</th>\n",
       "      <th>PORT</th>\n",
       "      <th>PR</th>\n",
       "      <th>...</th>\n",
       "      <th>Iso%</th>\n",
       "      <th>Prbh%</th>\n",
       "      <th>Post%</th>\n",
       "      <th>SpotUp%</th>\n",
       "      <th>Less than 5ft FGA %</th>\n",
       "      <th>5-9 ft FGA %</th>\n",
       "      <th>10-14 ft FGA %</th>\n",
       "      <th>15-19 ft FGA %</th>\n",
       "      <th>20-25 ft FGA %</th>\n",
       "      <th>25-29ft FGA %</th>\n",
       "    </tr>\n",
       "    <tr>\n",
       "      <th>Name</th>\n",
       "      <th></th>\n",
       "      <th></th>\n",
       "      <th></th>\n",
       "      <th></th>\n",
       "      <th></th>\n",
       "      <th></th>\n",
       "      <th></th>\n",
       "      <th></th>\n",
       "      <th></th>\n",
       "      <th></th>\n",
       "      <th></th>\n",
       "      <th></th>\n",
       "      <th></th>\n",
       "      <th></th>\n",
       "      <th></th>\n",
       "      <th></th>\n",
       "      <th></th>\n",
       "      <th></th>\n",
       "      <th></th>\n",
       "      <th></th>\n",
       "      <th></th>\n",
       "    </tr>\n",
       "  </thead>\n",
       "  <tbody>\n",
       "    <tr>\n",
       "      <th>Aaron Gordon</th>\n",
       "      <td>0.481760</td>\n",
       "      <td>0.797691</td>\n",
       "      <td>0.322004</td>\n",
       "      <td>-0.316933</td>\n",
       "      <td>-0.407697</td>\n",
       "      <td>-0.231490</td>\n",
       "      <td>-1.112334</td>\n",
       "      <td>0.495230</td>\n",
       "      <td>-0.171976</td>\n",
       "      <td>0.546056</td>\n",
       "      <td>...</td>\n",
       "      <td>0.415043</td>\n",
       "      <td>-1.060549</td>\n",
       "      <td>1.182026</td>\n",
       "      <td>-1.444358</td>\n",
       "      <td>2.021567</td>\n",
       "      <td>-1.223091</td>\n",
       "      <td>-0.597432</td>\n",
       "      <td>-0.670465</td>\n",
       "      <td>-0.581247</td>\n",
       "      <td>-1.293850</td>\n",
       "    </tr>\n",
       "    <tr>\n",
       "      <th>Aaron Holiday</th>\n",
       "      <td>-1.961721</td>\n",
       "      <td>-1.375144</td>\n",
       "      <td>-0.809003</td>\n",
       "      <td>-0.316933</td>\n",
       "      <td>-0.597789</td>\n",
       "      <td>-0.363158</td>\n",
       "      <td>0.863711</td>\n",
       "      <td>-0.186322</td>\n",
       "      <td>0.031594</td>\n",
       "      <td>0.211814</td>\n",
       "      <td>...</td>\n",
       "      <td>-0.266100</td>\n",
       "      <td>0.969210</td>\n",
       "      <td>-0.133675</td>\n",
       "      <td>-0.068187</td>\n",
       "      <td>-0.751793</td>\n",
       "      <td>-0.717563</td>\n",
       "      <td>0.778666</td>\n",
       "      <td>0.278741</td>\n",
       "      <td>0.072924</td>\n",
       "      <td>0.901980</td>\n",
       "    </tr>\n",
       "    <tr>\n",
       "      <th>Aaron Nesmith</th>\n",
       "      <td>-0.306460</td>\n",
       "      <td>-0.071443</td>\n",
       "      <td>-0.143704</td>\n",
       "      <td>-0.819909</td>\n",
       "      <td>-0.718757</td>\n",
       "      <td>-0.951276</td>\n",
       "      <td>0.417508</td>\n",
       "      <td>1.059273</td>\n",
       "      <td>0.194450</td>\n",
       "      <td>-0.981907</td>\n",
       "      <td>...</td>\n",
       "      <td>-0.266100</td>\n",
       "      <td>-0.975976</td>\n",
       "      <td>-0.133675</td>\n",
       "      <td>1.130414</td>\n",
       "      <td>0.021973</td>\n",
       "      <td>-0.940956</td>\n",
       "      <td>-0.672006</td>\n",
       "      <td>-0.753958</td>\n",
       "      <td>1.121311</td>\n",
       "      <td>0.086105</td>\n",
       "    </tr>\n",
       "    <tr>\n",
       "      <th>Aaron Wiggins</th>\n",
       "      <td>-0.464104</td>\n",
       "      <td>-1.157860</td>\n",
       "      <td>-0.210234</td>\n",
       "      <td>-0.553628</td>\n",
       "      <td>-0.649633</td>\n",
       "      <td>-0.802052</td>\n",
       "      <td>0.179919</td>\n",
       "      <td>1.834831</td>\n",
       "      <td>0.153736</td>\n",
       "      <td>-0.695414</td>\n",
       "      <td>...</td>\n",
       "      <td>-0.266100</td>\n",
       "      <td>-1.060549</td>\n",
       "      <td>-0.133675</td>\n",
       "      <td>0.686487</td>\n",
       "      <td>1.014038</td>\n",
       "      <td>-0.511905</td>\n",
       "      <td>-0.676398</td>\n",
       "      <td>-0.908327</td>\n",
       "      <td>0.259567</td>\n",
       "      <td>-0.736699</td>\n",
       "    </tr>\n",
       "    <tr>\n",
       "      <th>Al Horford</th>\n",
       "      <td>0.639404</td>\n",
       "      <td>1.014974</td>\n",
       "      <td>0.588124</td>\n",
       "      <td>-0.671975</td>\n",
       "      <td>-1.410003</td>\n",
       "      <td>-0.942499</td>\n",
       "      <td>0.226277</td>\n",
       "      <td>1.505806</td>\n",
       "      <td>1.700870</td>\n",
       "      <td>0.928046</td>\n",
       "      <td>...</td>\n",
       "      <td>-0.266100</td>\n",
       "      <td>-0.214816</td>\n",
       "      <td>0.392605</td>\n",
       "      <td>1.219199</td>\n",
       "      <td>-0.398750</td>\n",
       "      <td>-1.008265</td>\n",
       "      <td>-1.205179</td>\n",
       "      <td>-0.714826</td>\n",
       "      <td>1.430765</td>\n",
       "      <td>0.646373</td>\n",
       "    </tr>\n",
       "    <tr>\n",
       "      <th>Alec Burks</th>\n",
       "      <td>-0.306460</td>\n",
       "      <td>-0.114899</td>\n",
       "      <td>-0.143704</td>\n",
       "      <td>-0.287347</td>\n",
       "      <td>0.732859</td>\n",
       "      <td>0.128403</td>\n",
       "      <td>0.631917</td>\n",
       "      <td>-1.173397</td>\n",
       "      <td>-0.864115</td>\n",
       "      <td>-0.790912</td>\n",
       "      <td>...</td>\n",
       "      <td>-0.266100</td>\n",
       "      <td>1.476650</td>\n",
       "      <td>-0.133675</td>\n",
       "      <td>0.597702</td>\n",
       "      <td>-1.180495</td>\n",
       "      <td>-0.817461</td>\n",
       "      <td>0.779104</td>\n",
       "      <td>0.666414</td>\n",
       "      <td>0.903640</td>\n",
       "      <td>0.767943</td>\n",
       "    </tr>\n",
       "    <tr>\n",
       "      <th>Alex Caruso</th>\n",
       "      <td>-0.621748</td>\n",
       "      <td>-1.331687</td>\n",
       "      <td>-1.208182</td>\n",
       "      <td>-0.257760</td>\n",
       "      <td>-0.943412</td>\n",
       "      <td>-0.503605</td>\n",
       "      <td>0.035047</td>\n",
       "      <td>0.636240</td>\n",
       "      <td>0.886589</td>\n",
       "      <td>0.593804</td>\n",
       "      <td>...</td>\n",
       "      <td>-1.174290</td>\n",
       "      <td>-0.045670</td>\n",
       "      <td>-0.133675</td>\n",
       "      <td>-0.068187</td>\n",
       "      <td>-0.545398</td>\n",
       "      <td>-0.682614</td>\n",
       "      <td>-1.130666</td>\n",
       "      <td>-0.644386</td>\n",
       "      <td>1.870955</td>\n",
       "      <td>0.327908</td>\n",
       "    </tr>\n",
       "    <tr>\n",
       "      <th>Alperen Sengun</th>\n",
       "      <td>1.269979</td>\n",
       "      <td>1.145345</td>\n",
       "      <td>0.521594</td>\n",
       "      <td>0.659430</td>\n",
       "      <td>1.182168</td>\n",
       "      <td>1.023747</td>\n",
       "      <td>-1.176077</td>\n",
       "      <td>-0.021810</td>\n",
       "      <td>-0.212690</td>\n",
       "      <td>0.546056</td>\n",
       "      <td>...</td>\n",
       "      <td>0.869138</td>\n",
       "      <td>-1.398843</td>\n",
       "      <td>2.497727</td>\n",
       "      <td>-1.533144</td>\n",
       "      <td>1.120712</td>\n",
       "      <td>1.613054</td>\n",
       "      <td>0.594585</td>\n",
       "      <td>-0.054140</td>\n",
       "      <td>-1.625995</td>\n",
       "      <td>-1.143425</td>\n",
       "    </tr>\n",
       "    <tr>\n",
       "      <th>Amen Thompson</th>\n",
       "      <td>-0.069994</td>\n",
       "      <td>-0.114899</td>\n",
       "      <td>0.388534</td>\n",
       "      <td>-0.553628</td>\n",
       "      <td>-0.286729</td>\n",
       "      <td>-0.284158</td>\n",
       "      <td>-2.972482</td>\n",
       "      <td>-0.233326</td>\n",
       "      <td>-1.678396</td>\n",
       "      <td>0.164065</td>\n",
       "      <td>...</td>\n",
       "      <td>-0.039052</td>\n",
       "      <td>-0.214816</td>\n",
       "      <td>-0.133675</td>\n",
       "      <td>-1.444358</td>\n",
       "      <td>2.032192</td>\n",
       "      <td>-0.647620</td>\n",
       "      <td>-0.532605</td>\n",
       "      <td>-0.381456</td>\n",
       "      <td>-1.035266</td>\n",
       "      <td>-1.333271</td>\n",
       "    </tr>\n",
       "    <tr>\n",
       "      <th>Amir Coffey</th>\n",
       "      <td>0.245294</td>\n",
       "      <td>-0.288726</td>\n",
       "      <td>-0.875533</td>\n",
       "      <td>-1.086189</td>\n",
       "      <td>-1.323597</td>\n",
       "      <td>-1.311170</td>\n",
       "      <td>0.857917</td>\n",
       "      <td>0.424724</td>\n",
       "      <td>1.171587</td>\n",
       "      <td>-0.552168</td>\n",
       "      <td>...</td>\n",
       "      <td>-0.266100</td>\n",
       "      <td>-1.060549</td>\n",
       "      <td>-0.133675</td>\n",
       "      <td>2.195837</td>\n",
       "      <td>-0.664901</td>\n",
       "      <td>-0.648613</td>\n",
       "      <td>0.629984</td>\n",
       "      <td>0.222201</td>\n",
       "      <td>1.646369</td>\n",
       "      <td>-0.342814</td>\n",
       "    </tr>\n",
       "  </tbody>\n",
       "</table>\n",
       "<p>10 rows × 23 columns</p>\n",
       "</div>"
      ],
      "text/plain": [
       "                  Height    Weight  Wingspan        BC      USG%      LOAD  \\\n",
       "Name                                                                         \n",
       "Aaron Gordon    0.481760  0.797691  0.322004 -0.316933 -0.407697 -0.231490   \n",
       "Aaron Holiday  -1.961721 -1.375144 -0.809003 -0.316933 -0.597789 -0.363158   \n",
       "Aaron Nesmith  -0.306460 -0.071443 -0.143704 -0.819909 -0.718757 -0.951276   \n",
       "Aaron Wiggins  -0.464104 -1.157860 -0.210234 -0.553628 -0.649633 -0.802052   \n",
       "Al Horford      0.639404  1.014974  0.588124 -0.671975 -1.410003 -0.942499   \n",
       "Alec Burks     -0.306460 -0.114899 -0.143704 -0.287347  0.732859  0.128403   \n",
       "Alex Caruso    -0.621748 -1.331687 -1.208182 -0.257760 -0.943412 -0.503605   \n",
       "Alperen Sengun  1.269979  1.145345  0.521594  0.659430  1.182168  1.023747   \n",
       "Amen Thompson  -0.069994 -0.114899  0.388534 -0.553628 -0.286729 -0.284158   \n",
       "Amir Coffey     0.245294 -0.288726 -0.875533 -1.086189 -1.323597 -1.311170   \n",
       "\n",
       "                      SQ       TS%      PORT        PR  ...      Iso%  \\\n",
       "Name                                                    ...             \n",
       "Aaron Gordon   -1.112334  0.495230 -0.171976  0.546056  ...  0.415043   \n",
       "Aaron Holiday   0.863711 -0.186322  0.031594  0.211814  ... -0.266100   \n",
       "Aaron Nesmith   0.417508  1.059273  0.194450 -0.981907  ... -0.266100   \n",
       "Aaron Wiggins   0.179919  1.834831  0.153736 -0.695414  ... -0.266100   \n",
       "Al Horford      0.226277  1.505806  1.700870  0.928046  ... -0.266100   \n",
       "Alec Burks      0.631917 -1.173397 -0.864115 -0.790912  ... -0.266100   \n",
       "Alex Caruso     0.035047  0.636240  0.886589  0.593804  ... -1.174290   \n",
       "Alperen Sengun -1.176077 -0.021810 -0.212690  0.546056  ...  0.869138   \n",
       "Amen Thompson  -2.972482 -0.233326 -1.678396  0.164065  ... -0.039052   \n",
       "Amir Coffey     0.857917  0.424724  1.171587 -0.552168  ... -0.266100   \n",
       "\n",
       "                   Prbh%     Post%   SpotUp%  Less than 5ft FGA %  \\\n",
       "Name                                                                \n",
       "Aaron Gordon   -1.060549  1.182026 -1.444358             2.021567   \n",
       "Aaron Holiday   0.969210 -0.133675 -0.068187            -0.751793   \n",
       "Aaron Nesmith  -0.975976 -0.133675  1.130414             0.021973   \n",
       "Aaron Wiggins  -1.060549 -0.133675  0.686487             1.014038   \n",
       "Al Horford     -0.214816  0.392605  1.219199            -0.398750   \n",
       "Alec Burks      1.476650 -0.133675  0.597702            -1.180495   \n",
       "Alex Caruso    -0.045670 -0.133675 -0.068187            -0.545398   \n",
       "Alperen Sengun -1.398843  2.497727 -1.533144             1.120712   \n",
       "Amen Thompson  -0.214816 -0.133675 -1.444358             2.032192   \n",
       "Amir Coffey    -1.060549 -0.133675  2.195837            -0.664901   \n",
       "\n",
       "                5-9 ft FGA %  10-14 ft FGA %  15-19 ft FGA %  20-25 ft FGA %  \\\n",
       "Name                                                                           \n",
       "Aaron Gordon       -1.223091       -0.597432       -0.670465       -0.581247   \n",
       "Aaron Holiday      -0.717563        0.778666        0.278741        0.072924   \n",
       "Aaron Nesmith      -0.940956       -0.672006       -0.753958        1.121311   \n",
       "Aaron Wiggins      -0.511905       -0.676398       -0.908327        0.259567   \n",
       "Al Horford         -1.008265       -1.205179       -0.714826        1.430765   \n",
       "Alec Burks         -0.817461        0.779104        0.666414        0.903640   \n",
       "Alex Caruso        -0.682614       -1.130666       -0.644386        1.870955   \n",
       "Alperen Sengun      1.613054        0.594585       -0.054140       -1.625995   \n",
       "Amen Thompson      -0.647620       -0.532605       -0.381456       -1.035266   \n",
       "Amir Coffey        -0.648613        0.629984        0.222201        1.646369   \n",
       "\n",
       "                25-29ft FGA %  \n",
       "Name                           \n",
       "Aaron Gordon        -1.293850  \n",
       "Aaron Holiday        0.901980  \n",
       "Aaron Nesmith        0.086105  \n",
       "Aaron Wiggins       -0.736699  \n",
       "Al Horford           0.646373  \n",
       "Alec Burks           0.767943  \n",
       "Alex Caruso          0.327908  \n",
       "Alperen Sengun      -1.143425  \n",
       "Amen Thompson       -1.333271  \n",
       "Amir Coffey         -0.342814  \n",
       "\n",
       "[10 rows x 23 columns]"
      ]
     },
     "execution_count": 14,
     "metadata": {},
     "output_type": "execute_result"
    }
   ],
   "source": [
    "scaler = StandardScaler() #Create a standard scaler\n",
    "df_new.set_index('Name', inplace=True) #Set name as index so its string values doesn't affect the standard scaler\n",
    "columns_to_scale = ['Height', 'Weight', 'Wingspan', 'BC', 'USG%', 'LOAD', 'SQ', 'TS%', 'PORT', 'PR', 'VR', 'CDPM', 'CPM', 'Iso%', 'Prbh%', 'Post%', 'SpotUp%', 'Less than 5ft FGA %', '5-9 ft FGA %', '10-14 ft FGA %', '15-19 ft FGA %', '20-25 ft FGA %', '25-29ft FGA %']\n",
    "scaled_data = scaler.fit_transform(df_new[columns_to_scale]) #Apply the standard scaler to the columns of the dataset we will be using in our clustering\n",
    "\n",
    "scaled_df = pd.DataFrame(scaled_data, columns=columns_to_scale, index=df_new.index) #Add the standardized data to a new dataframe, which will be used in clustering\n",
    "\n",
    "scaled_df.head(10)"
   ]
  },
  {
   "cell_type": "markdown",
   "metadata": {},
   "source": [
    "Before we run the clustering algorithm, we need to determine how many clusters to create. To do this, we will create an elbow plot using the inertia attribute of sklearn's kmeans algorithm"
   ]
  },
  {
   "cell_type": "code",
   "execution_count": 15,
   "metadata": {},
   "outputs": [
    {
     "data": {
      "image/png": "[encoded data removed]",
      "text/plain": [
       "<Figure size 720x360 with 1 Axes>"
      ]
     },
     "metadata": {
      "needs_background": "light"
     },
     "output_type": "display_data"
    }
   ],
   "source": [
    "def optimize_kmeans(data, maxK): #Create a function for creating the elbow plot so that if we want to create another one in the future, we only need a function call\n",
    "    num_cluster = []\n",
    "    inertia = []\n",
    "\n",
    "    for k in range(1, maxK):\n",
    "        kmeans = KMeans(n_clusters=k)\n",
    "        kmeans.fit(data) #Fit the data into the kmeans model with k clusters\n",
    "\n",
    "        num_cluster.append(k) #Add the number of clusters (k) to a list for graphing later\n",
    "        inertia.append(kmeans.inertia_) #Add the inertia value to a list for graphing later\n",
    "\n",
    "    #Graph the elbow plot, with inertia value as y-axis and number of clusters as x-axis\n",
    "    fig = plt.subplots(figsize = (10, 5))\n",
    "    plt.plot(num_cluster, inertia, 'o-')\n",
    "    plt.xlabel('# of Clusters')\n",
    "    plt.ylabel('Inertia')\n",
    "    plt.grid(True)\n",
    "    plt.show()\n",
    "\n",
    "optimize_kmeans(scaled_df, 20) #Run the function on scaled_df and check the inertia value of 1-20 clusters"
   ]
  },
  {
   "cell_type": "markdown",
   "metadata": {},
   "source": [
    "Based on the elbow plot, it seems like 6 clusters is where the elbow is. However, six clusters is too little for 250 NBA players and won't separate them enough based on all the features we are including. My reasoning is that if you simply cluster players by their position (PG, SG, SF, PF, C), that is already five clusters. Therefore, we need a lot more than 5 to properly separate the players using the 9 factors we are considering. I decided to use 10 as the number of clusters, since there is another slight elbow after 10. "
   ]
  },
  {
   "cell_type": "code",
   "execution_count": 16,
   "metadata": {},
   "outputs": [],
   "source": [
    "#Run the kmeans algorithm with 10 clusters, and random state = 1 so that we get consistent results which will allow us to compare different models\n",
    "kmeans = KMeans(n_clusters = 10, random_state=1)\n",
    "kmeans.fit(scaled_df)\n",
    "y_kmeans = kmeans.predict(scaled_df)\n"
   ]
  },
  {
   "cell_type": "code",
   "execution_count": 17,
   "metadata": {},
   "outputs": [
    {
     "name": "stdout",
     "output_type": "stream",
     "text": [
      "|     | name                     |   Cluster |\n",
      "|----:|:-------------------------|----------:|\n",
      "| 111 | Jakob Poeltl             |         0 |\n",
      "|  52 | Daniel Gafford           |         0 |\n",
      "| 206 | Paul Reed                |         0 |\n",
      "| 198 | Onyeka Okongwu           |         0 |\n",
      "|  67 | Dereck Lively II         |         0 |\n",
      "|  79 | Drew Eubanks             |         0 |\n",
      "|  84 | Evan Mobley              |         0 |\n",
      "| 189 | Nick Richards            |         0 |\n",
      "| 188 | Nic Claxton              |         0 |\n",
      "| 101 | Isaiah Hartenstein       |         0 |\n",
      "| 104 | Ivica Zubac              |         0 |\n",
      "| 235 | Trayce Jackson-Davis     |         0 |\n",
      "|  45 | Clint Capela             |         0 |\n",
      "| 113 | Jalen Duren              |         0 |\n",
      "| 183 | Moritz Wagner            |         0 |\n",
      "| 213 | Rudy Gobert              |         0 |\n",
      "| 155 | Kevon Looney             |         0 |\n",
      "| 120 | James Wiseman            |         0 |\n",
      "| 122 | Jarrett Allen            |         0 |\n",
      "|  10 | Andre Drummond           |         0 |\n",
      "| 166 | Larry Nance Jr.          |         0 |\n",
      "|   8 | Amen Thompson            |         0 |\n",
      "| 246 | Walker Kessler           |         0 |\n",
      "| 182 | Miles McBride            |         1 |\n",
      "|  53 | Dante Exum               |         1 |\n",
      "|  54 | Dario Saric              |         1 |\n",
      "| 207 | Payton Pritchard         |         1 |\n",
      "| 158 | Klay Thompson            |         1 |\n",
      "| 142 | Jrue Holiday             |         1 |\n",
      "| 141 | Josh Richardson          |         1 |\n",
      "|  69 | Derrick White            |         1 |\n",
      "| 136 | Jordan Hawkins           |         1 |\n",
      "| 164 | Kyle Lowry               |         1 |\n",
      "|  80 | Duncan Robinson          |         1 |\n",
      "| 180 | Mike Conley              |         1 |\n",
      "|  89 | Gary Trent Jr.           |         1 |\n",
      "| 102 | Isaiah Joe               |         1 |\n",
      "| 129 | Joe Ingles               |         1 |\n",
      "| 177 | Max Strus                |         1 |\n",
      "| 116 | Jalen Suggs              |         1 |\n",
      "| 154 | Kevin Huerter            |         1 |\n",
      "|  76 | Donte DiVincenzo         |         1 |\n",
      "| 152 | Kentavious Caldwell-Pope |         1 |\n",
      "|  32 | Buddy Hield              |         1 |\n",
      "| 238 | Trey Murphy III          |         1 |\n",
      "|   1 | Aaron Holiday            |         1 |\n",
      "| 218 | Sam Merrill              |         1 |\n",
      "|  37 | Cameron Johnson          |         1 |\n",
      "| 231 | Tim Hardaway Jr.         |         1 |\n",
      "|  24 | Bogdan Bogdanovic        |         1 |\n",
      "|  87 | GG Jackson               |         2 |\n",
      "| 194 | Norman Powell            |         2 |\n",
      "|  73 | Dillon Brooks            |         2 |\n",
      "| 110 | Jaime Jaquez Jr.         |         2 |\n",
      "| 184 | Moses Moody              |         2 |\n",
      "| 186 | Naji Marshall            |         2 |\n",
      "|  93 | Gradey Dick              |         2 |\n",
      "| 105 | Jabari Smith Jr.         |         2 |\n",
      "| 167 | Lauri Markkanen          |         2 |\n",
      "| 103 | Isaiah Stewart           |         2 |\n",
      "| 187 | Naz Reid                 |         2 |\n",
      "|  25 | Bojan Bogdanovic         |         2 |\n",
      "|   3 | Aaron Wiggins            |         2 |\n",
      "|  90 | Georges Niang            |         2 |\n",
      "| 229 | Terance Mann             |         2 |\n",
      "| 214 | Rui Hachimura            |         2 |\n",
      "| 131 | John Collins             |         2 |\n",
      "|  81 | Duop Reath               |         2 |\n",
      "|  94 | Grant Williams           |         2 |\n",
      "| 125 | Jeff Green               |         2 |\n",
      "|  96 | Harrison Barnes          |         2 |\n",
      "| 148 | Keegan Murray            |         2 |\n",
      "|  49 | Corey Kispert            |         2 |\n",
      "| 196 | Obi Toppin               |         2 |\n",
      "| 178 | Michael Porter Jr.       |         2 |\n",
      "|  59 | De'Andre Hunter          |         2 |\n",
      "| 210 | RJ Barrett               |         2 |\n",
      "| 216 | Saddiq Bey               |         2 |\n",
      "| 204 | Patrick Williams         |         2 |\n",
      "| 149 | Keldon Johnson           |         2 |\n",
      "| 150 | Kelly Olynyk             |         2 |\n",
      "|  64 | Deni Avdija              |         2 |\n",
      "| 199 | P.J. Washington          |         2 |\n",
      "|  19 | Ayo Dosunmu              |         2 |\n",
      "|  41 | Cedi O                   |         2 |\n",
      "| 115 | Jalen Johnson            |         2 |\n",
      "| 241 | Tyrese Maxey             |         3 |\n",
      "| 174 | Malik Monk               |         3 |\n",
      "|  99 | Immanuel Quickley        |         3 |\n",
      "| 239 | Tyler Herro              |         3 |\n",
      "| 234 | Trae Young               |         3 |\n",
      "| 172 | Malcolm Brogdon          |         3 |\n",
      "|  18 | Austin Reaves            |         3 |\n",
      "| 112 | Jalen Brunson            |         3 |\n",
      "| 240 | Tyrese Haliburton        |         3 |\n",
      "| 118 | Jamal Murray             |         3 |\n",
      "|  43 | Chris Paul               |         3 |\n",
      "|  26 | Bradley Beal             |         3 |\n",
      "|  70 | Desmond Bane             |         3 |\n",
      "| 157 | Khris Middleton          |         3 |\n",
      "|  75 | Donovan Mitchell         |         3 |\n",
      "| 226 | Stephen Curry            |         3 |\n",
      "|  58 | De'Aaron Fox             |         3 |\n",
      "|  33 | CJ McCollum              |         3 |\n",
      "|  55 | Darius Garland           |         3 |\n",
      "|  51 | Damian Lillard           |         3 |\n",
      "|  50 | D'Angelo Russell         |         3 |\n",
      "| 165 | Kyrie Irving             |         3 |\n",
      "|  48 | Collin Sexton            |         3 |\n",
      "|  13 | Anfernee Simons          |         3 |\n",
      "|  86 | Fred VanVleet            |         3 |\n",
      "| 227 | T.J. McConnell           |         3 |\n",
      "|  34 | Cade Cunningham          |         3 |\n",
      "|   2 | Aaron Nesmith            |         4 |\n",
      "|   4 | Al Horford               |         4 |\n",
      "| 132 | John Konchar             |         4 |\n",
      "| 173 | Malik Beasley            |         4 |\n",
      "| 140 | Josh Hart                |         4 |\n",
      "| 139 | Josh Green               |         4 |\n",
      "|   6 | Alex Caruso              |         4 |\n",
      "| 245 | Vince Williams Jr.       |         4 |\n",
      "| 169 | Luguentz Dort            |         4 |\n",
      "| 143 | Julian Champagnie        |         4 |\n",
      "|   9 | Amir Coffey              |         4 |\n",
      "|  97 | Haywood Highsmith        |         4 |\n",
      "|  83 | Eric Gordon              |         4 |\n",
      "| 195 | OG Anunoby               |         4 |\n",
      "| 224 | Simone Fontecchio        |         4 |\n",
      "|  77 | Dorian Finney-Smith      |         4 |\n",
      "| 191 | Nicolas Batum            |         4 |\n",
      "| 176 | Matisse Thybulle         |         4 |\n",
      "| 217 | Sam Hauser               |         4 |\n",
      "| 228 | Taurean Prince           |         4 |\n",
      "| 190 | Nickeil Alexander-Walker |         4 |\n",
      "| 202 | Pat Connaughton          |         4 |\n",
      "|  88 | Gary Harris              |         4 |\n",
      "|  95 | Grayson Allen            |         4 |\n",
      "|  98 | Herbert Jones            |         4 |\n",
      "| 100 | Isaac Okoro              |         4 |\n",
      "| 212 | Royce O'Neale            |         4 |\n",
      "|  40 | Cason Wallace            |         4 |\n",
      "| 109 | Jae Crowder              |         4 |\n",
      "| 237 | Trey Lyles               |         4 |\n",
      "|  61 | Dean Wade                |         4 |\n",
      "| 244 | Victor Wembanyama        |         5 |\n",
      "| 162 | Kyle Anderson            |         5 |\n",
      "| 201 | Pascal Siakam            |         5 |\n",
      "| 193 | Nikola Vucevic           |         5 |\n",
      "| 247 | Wendell Carter Jr.       |         5 |\n",
      "| 232 | Tobias Harris            |         5 |\n",
      "| 185 | Myles Turner             |         5 |\n",
      "| 161 | Kristaps Porzingis       |         5 |\n",
      "|   0 | Aaron Gordon             |         5 |\n",
      "| 249 | Zion Williamson          |         5 |\n",
      "|  62 | Deandre Ayton            |         5 |\n",
      "|  23 | Bobby Portis             |         5 |\n",
      "|  20 | Bam Adebayo              |         5 |\n",
      "|  30 | Brook Lopez              |         5 |\n",
      "| 133 | Jonas Valanci            |         5 |\n",
      "| 134 | Jonathan Kuminga         |         5 |\n",
      "| 248 | Zach Collins             |         5 |\n",
      "|  15 | Anthony Davis            |         5 |\n",
      "|  85 | Franz Wagner             |         5 |\n",
      "| 121 | Jaren Jackson Jr.        |         5 |\n",
      "| 144 | Julius Randle            |         5 |\n",
      "|  78 | Draymond Green           |         5 |\n",
      "|   7 | Alperen Sengun           |         5 |\n",
      "| 145 | Jusuf Nurkic             |         5 |\n",
      "| 146 | Karl-Anthony Towns       |         5 |\n",
      "|  42 | Chet Holmgren            |         5 |\n",
      "|  74 | Domantas Sabonis         |         5 |\n",
      "|  28 | Brandon Ingram           |         6 |\n",
      "| 117 | Jalen Williams           |         6 |\n",
      "| 200 | Paolo Banchero           |         6 |\n",
      "| 119 | James Harden             |         6 |\n",
      "| 153 | Kevin Durant             |         6 |\n",
      "| 223 | Shai Gilgeous-Alexander  |         6 |\n",
      "|  91 | Giannis Antetokounmpo    |         6 |\n",
      "| 124 | Jayson Tatum             |         6 |\n",
      "| 221 | Scottie Barnes           |         6 |\n",
      "| 147 | Kawhi Leonard            |         6 |\n",
      "| 205 | Paul George              |         6 |\n",
      "|  60 | DeMar DeRozan            |         6 |\n",
      "|  16 | Anthony Edwards          |         6 |\n",
      "| 123 | Jaylen Brown             |         6 |\n",
      "|  71 | Devin Booker             |         6 |\n",
      "| 170 | Luka Doncic              |         6 |\n",
      "| 128 | Jimmy Butler             |         6 |\n",
      "| 168 | LeBron James             |         6 |\n",
      "| 130 | Joel Embiid              |         7 |\n",
      "| 192 | Nikola Jokic             |         7 |\n",
      "|  36 | Cam Thomas               |         8 |\n",
      "|  38 | Cameron Payne            |         8 |\n",
      "| 215 | Russell Westbrook        |         8 |\n",
      "|  39 | Caris LeVert             |         8 |\n",
      "| 220 | Scoot Henderson          |         8 |\n",
      "| 230 | Terry Rozier             |         8 |\n",
      "| 225 | Spencer Dinwiddie        |         8 |\n",
      "|  31 | Bruce Brown              |         8 |\n",
      "|  29 | Brandon Miller           |         8 |\n",
      "|  46 | Coby White               |         8 |\n",
      "|  27 | Brandin Podziemski       |         8 |\n",
      "|  21 | Bennedict Mathurin       |         8 |\n",
      "| 236 | Tre Jones                |         8 |\n",
      "| 242 | Tyus Jones               |         8 |\n",
      "| 243 | Vasilije Micic           |         8 |\n",
      "|  11 | Andrew Nembhard          |         8 |\n",
      "|   5 | Alec Burks               |         8 |\n",
      "| 222 | Shaedon Sharpe           |         8 |\n",
      "| 211 | Reggie Jackson           |         8 |\n",
      "|  63 | Dejounte Murray          |         8 |\n",
      "| 181 | Miles Bridges            |         8 |\n",
      "| 171 | Malaki Branham           |         8 |\n",
      "| 175 | Marcus Sasser            |         8 |\n",
      "| 179 | Mikal Bridges            |         8 |\n",
      "|  47 | Cole Anthony             |         8 |\n",
      "| 114 | Jalen Green              |         8 |\n",
      "| 107 | Jaden Ivey               |         8 |\n",
      "| 135 | Jordan Clarkson          |         8 |\n",
      "|  92 | Gordon Hay               |         8 |\n",
      "| 137 | Jordan Poole             |         8 |\n",
      "|  72 | Devin Vassell            |         8 |\n",
      "| 126 | Jerami Grant             |         8 |\n",
      "| 138 | Josh Giddey              |         8 |\n",
      "|  66 | Dennis Smith             |         8 |\n",
      "|  65 | Dennis Schroder          |         8 |\n",
      "| 203 | Patrick Beverley         |         8 |\n",
      "|  57 | Davion Mitchell          |         8 |\n",
      "| 159 | Kris Dunn                |         8 |\n",
      "| 156 | Keyonte George           |         8 |\n",
      "| 163 | Kyle Kuzma               |         8 |\n",
      "| 127 | Jeremy Sochan            |         9 |\n",
      "|  12 | Andrew Wiggins           |         9 |\n",
      "|  17 | Ausar Thompson           |         9 |\n",
      "| 160 | Kris Murray              |         9 |\n",
      "|  14 | Anthony Black            |         9 |\n",
      "| 209 | Precious Achiuwa         |         9 |\n",
      "| 233 | Toumani Camara           |         9 |\n",
      "| 108 | Jaden McDaniels          |         9 |\n",
      "| 106 | Jabari Walker            |         9 |\n",
      "|  35 | Caleb Martin             |         9 |\n",
      "|  82 | Dyson Daniels            |         9 |\n",
      "|  68 | Derrick Jones Jr.        |         9 |\n",
      "| 197 | Ochai Agbaji             |         9 |\n",
      "| 219 | Santi Aldama             |         9 |\n",
      "|  56 | David Roddy              |         9 |\n",
      "|  44 | Christian Braun          |         9 |\n",
      "| 208 | Peyton Watson            |         9 |\n",
      "|  22 | Bilal Coulibaly          |         9 |\n",
      "| 151 | Kelly Oubre Jr.          |         9 |\n"
     ]
    }
   ],
   "source": [
    "#Create a new dataframe to see what cluster each player was put in\n",
    "df_cluster = pd.DataFrame()\n",
    "dfPlayerCol = scaled_df.reset_index()\n",
    "df_cluster['name'] = dfPlayerCol['Name']\n",
    "df_cluster['Cluster'] = y_kmeans\n",
    "cluster_sorted= df_cluster.sort_values(by='Cluster', ascending=True)\n",
    "\n",
    "#View the dataframe as a markdown file\n",
    "print(cluster_sorted.to_markdown())"
   ]
  },
  {
   "attachments": {},
   "cell_type": "markdown",
   "metadata": {},
   "source": [
    "To improve the model, we will use Principle Component Analysis to reduce the dimensionality of the model so we can visualize it in a scatterplot. "
   ]
  },
  {
   "cell_type": "code",
   "execution_count": 18,
   "metadata": {},
   "outputs": [
    {
     "data": {
      "application/vnd.plotly.v1+json": {
       "config": {
        "plotlyServerURL": "https://plot.ly"
       },
       "data": [
        {
         "customdata": [
          [
           "Aaron Gordon"
          ],
          [
           "Aaron Holiday"
          ],
          [
           "Aaron Nesmith"
          ],
          [
           "Aaron Wiggins"
          ],
          [
           "Al Horford"
          ],
          [
           "Alec Burks"
          ],
          [
           "Alex Caruso"
          ],
          [
           "Alperen Sengun"
          ],
          [
           "Amen Thompson"
          ],
          [
           "Amir Coffey"
          ],
          [
           "Andre Drummond"
          ],
          [
           "Andrew Nembhard"
          ],
          [
           "Andrew Wiggins"
          ],
          [
           "Anfernee Simons"
          ],
          [
           "Anthony Black"
          ],
          [
           "Anthony Davis"
          ],
          [
           "Anthony Edwards"
          ],
          [
           "Ausar Thompson"
          ],
          [
           "Austin Reaves"
          ],
          [
           "Ayo Dosunmu"
          ],
          [
           "Bam Adebayo"
          ],
          [
           "Bennedict Mathurin"
          ],
          [
           "Bilal Coulibaly"
          ],
          [
           "Bobby Portis"
          ],
          [
           "Bogdan Bogdanovic"
          ],
          [
           "Bojan Bogdanovic"
          ],
          [
           "Bradley Beal"
          ],
          [
           "Brandin Podziemski"
          ],
          [
           "Brandon Ingram"
          ],
          [
           "Brandon Miller"
          ],
          [
           "Brook Lopez"
          ],
          [
           "Bruce Brown"
          ],
          [
           "Buddy Hield"
          ],
          [
           "CJ McCollum"
          ],
          [
           "Cade Cunningham"
          ],
          [
           "Caleb Martin"
          ],
          [
           "Cam Thomas"
          ],
          [
           "Cameron Johnson"
          ],
          [
           "Cameron Payne"
          ],
          [
           "Caris LeVert"
          ],
          [
           "Cason Wallace"
          ],
          [
           "Cedi O"
          ],
          [
           "Chet Holmgren"
          ],
          [
           "Chris Paul"
          ],
          [
           "Christian Braun"
          ],
          [
           "Clint Capela"
          ],
          [
           "Coby White"
          ],
          [
           "Cole Anthony"
          ],
          [
           "Collin Sexton"
          ],
          [
           "Corey Kispert"
          ],
          [
           "D'Angelo Russell"
          ],
          [
           "Damian Lillard"
          ],
          [
           "Daniel Gafford"
          ],
          [
           "Dante Exum"
          ],
          [
           "Dario Saric"
          ],
          [
           "Darius Garland"
          ],
          [
           "David Roddy"
          ],
          [
           "Davion Mitchell"
          ],
          [
           "De'Aaron Fox"
          ],
          [
           "De'Andre Hunter"
          ],
          [
           "DeMar DeRozan"
          ],
          [
           "Dean Wade"
          ],
          [
           "Deandre Ayton"
          ],
          [
           "Dejounte Murray"
          ],
          [
           "Deni Avdija"
          ],
          [
           "Dennis Schroder"
          ],
          [
           "Dennis Smith"
          ],
          [
           "Dereck Lively II"
          ],
          [
           "Derrick Jones Jr."
          ],
          [
           "Derrick White"
          ],
          [
           "Desmond Bane"
          ],
          [
           "Devin Booker"
          ],
          [
           "Devin Vassell"
          ],
          [
           "Dillon Brooks"
          ],
          [
           "Domantas Sabonis"
          ],
          [
           "Donovan Mitchell"
          ],
          [
           "Donte DiVincenzo"
          ],
          [
           "Dorian Finney-Smith"
          ],
          [
           "Draymond Green"
          ],
          [
           "Drew Eubanks"
          ],
          [
           "Duncan Robinson"
          ],
          [
           "Duop Reath"
          ],
          [
           "Dyson Daniels"
          ],
          [
           "Eric Gordon"
          ],
          [
           "Evan Mobley"
          ],
          [
           "Franz Wagner"
          ],
          [
           "Fred VanVleet"
          ],
          [
           "GG Jackson"
          ],
          [
           "Gary Harris"
          ],
          [
           "Gary Trent Jr."
          ],
          [
           "Georges Niang"
          ],
          [
           "Giannis Antetokounmpo"
          ],
          [
           "Gordon Hay"
          ],
          [
           "Gradey Dick"
          ],
          [
           "Grant Williams"
          ],
          [
           "Grayson Allen"
          ],
          [
           "Harrison Barnes"
          ],
          [
           "Haywood Highsmith"
          ],
          [
           "Herbert Jones"
          ],
          [
           "Immanuel Quickley"
          ],
          [
           "Isaac Okoro"
          ],
          [
           "Isaiah Hartenstein"
          ],
          [
           "Isaiah Joe"
          ],
          [
           "Isaiah Stewart"
          ],
          [
           "Ivica Zubac"
          ],
          [
           "Jabari Smith Jr."
          ],
          [
           "Jabari Walker"
          ],
          [
           "Jaden Ivey"
          ],
          [
           "Jaden McDaniels"
          ],
          [
           "Jae Crowder"
          ],
          [
           "Jaime Jaquez Jr."
          ],
          [
           "Jakob Poeltl"
          ],
          [
           "Jalen Brunson"
          ],
          [
           "Jalen Duren"
          ],
          [
           "Jalen Green"
          ],
          [
           "Jalen Johnson"
          ],
          [
           "Jalen Suggs"
          ],
          [
           "Jalen Williams"
          ],
          [
           "Jamal Murray"
          ],
          [
           "James Harden"
          ],
          [
           "James Wiseman"
          ],
          [
           "Jaren Jackson Jr."
          ],
          [
           "Jarrett Allen"
          ],
          [
           "Jaylen Brown"
          ],
          [
           "Jayson Tatum"
          ],
          [
           "Jeff Green"
          ],
          [
           "Jerami Grant"
          ],
          [
           "Jeremy Sochan"
          ],
          [
           "Jimmy Butler"
          ],
          [
           "Joe Ingles"
          ],
          [
           "Joel Embiid"
          ],
          [
           "John Collins"
          ],
          [
           "John Konchar"
          ],
          [
           "Jonas Valanci"
          ],
          [
           "Jonathan Kuminga"
          ],
          [
           "Jordan Clarkson"
          ],
          [
           "Jordan Hawkins"
          ],
          [
           "Jordan Poole"
          ],
          [
           "Josh Giddey"
          ],
          [
           "Josh Green"
          ],
          [
           "Josh Hart"
          ],
          [
           "Josh Richardson"
          ],
          [
           "Jrue Holiday"
          ],
          [
           "Julian Champagnie"
          ],
          [
           "Julius Randle"
          ],
          [
           "Jusuf Nurkic"
          ],
          [
           "Karl-Anthony Towns"
          ],
          [
           "Kawhi Leonard"
          ],
          [
           "Keegan Murray"
          ],
          [
           "Keldon Johnson"
          ],
          [
           "Kelly Olynyk"
          ],
          [
           "Kelly Oubre Jr."
          ],
          [
           "Kentavious Caldwell-Pope"
          ],
          [
           "Kevin Durant"
          ],
          [
           "Kevin Huerter"
          ],
          [
           "Kevon Looney"
          ],
          [
           "Keyonte George"
          ],
          [
           "Khris Middleton"
          ],
          [
           "Klay Thompson"
          ],
          [
           "Kris Dunn"
          ],
          [
           "Kris Murray"
          ],
          [
           "Kristaps Porzingis"
          ],
          [
           "Kyle Anderson"
          ],
          [
           "Kyle Kuzma"
          ],
          [
           "Kyle Lowry"
          ],
          [
           "Kyrie Irving"
          ],
          [
           "Larry Nance Jr."
          ],
          [
           "Lauri Markkanen"
          ],
          [
           "LeBron James"
          ],
          [
           "Luguentz Dort"
          ],
          [
           "Luka Doncic"
          ],
          [
           "Malaki Branham"
          ],
          [
           "Malcolm Brogdon"
          ],
          [
           "Malik Beasley"
          ],
          [
           "Malik Monk"
          ],
          [
           "Marcus Sasser"
          ],
          [
           "Matisse Thybulle"
          ],
          [
           "Max Strus"
          ],
          [
           "Michael Porter Jr."
          ],
          [
           "Mikal Bridges"
          ],
          [
           "Mike Conley"
          ],
          [
           "Miles Bridges"
          ],
          [
           "Miles McBride"
          ],
          [
           "Moritz Wagner"
          ],
          [
           "Moses Moody"
          ],
          [
           "Myles Turner"
          ],
          [
           "Naji Marshall"
          ],
          [
           "Naz Reid"
          ],
          [
           "Nic Claxton"
          ],
          [
           "Nick Richards"
          ],
          [
           "Nickeil Alexander-Walker"
          ],
          [
           "Nicolas Batum"
          ],
          [
           "Nikola Jokic"
          ],
          [
           "Nikola Vucevic"
          ],
          [
           "Norman Powell"
          ],
          [
           "OG Anunoby"
          ],
          [
           "Obi Toppin"
          ],
          [
           "Ochai Agbaji"
          ],
          [
           "Onyeka Okongwu"
          ],
          [
           "P.J. Washington"
          ],
          [
           "Paolo Banchero"
          ],
          [
           "Pascal Siakam"
          ],
          [
           "Pat Connaughton"
          ],
          [
           "Patrick Beverley"
          ],
          [
           "Patrick Williams"
          ],
          [
           "Paul George"
          ],
          [
           "Paul Reed"
          ],
          [
           "Payton Pritchard"
          ],
          [
           "Peyton Watson"
          ],
          [
           "Precious Achiuwa"
          ],
          [
           "RJ Barrett"
          ],
          [
           "Reggie Jackson"
          ],
          [
           "Royce O'Neale"
          ],
          [
           "Rudy Gobert"
          ],
          [
           "Rui Hachimura"
          ],
          [
           "Russell Westbrook"
          ],
          [
           "Saddiq Bey"
          ],
          [
           "Sam Hauser"
          ],
          [
           "Sam Merrill"
          ],
          [
           "Santi Aldama"
          ],
          [
           "Scoot Henderson"
          ],
          [
           "Scottie Barnes"
          ],
          [
           "Shaedon Sharpe"
          ],
          [
           "Shai Gilgeous-Alexander"
          ],
          [
           "Simone Fontecchio"
          ],
          [
           "Spencer Dinwiddie"
          ],
          [
           "Stephen Curry"
          ],
          [
           "T.J. McConnell"
          ],
          [
           "Taurean Prince"
          ],
          [
           "Terance Mann"
          ],
          [
           "Terry Rozier"
          ],
          [
           "Tim Hardaway Jr."
          ],
          [
           "Tobias Harris"
          ],
          [
           "Toumani Camara"
          ],
          [
           "Trae Young"
          ],
          [
           "Trayce Jackson-Davis"
          ],
          [
           "Tre Jones"
          ],
          [
           "Trey Lyles"
          ],
          [
           "Trey Murphy III"
          ],
          [
           "Tyler Herro"
          ],
          [
           "Tyrese Haliburton"
          ],
          [
           "Tyrese Maxey"
          ],
          [
           "Tyus Jones"
          ],
          [
           "Vasilije Micic"
          ],
          [
           "Victor Wembanyama"
          ],
          [
           "Vince Williams Jr."
          ],
          [
           "Walker Kessler"
          ],
          [
           "Wendell Carter Jr."
          ],
          [
           "Zach Collins"
          ],
          [
           "Zion Williamson"
          ]
         ],
         "hovertemplate": "PCA1=%{x}<br>PCA2=%{y}<br>Name=%{customdata[0]}<br>Cluster=%{marker.color}<extra></extra>",
         "legendgroup": "",
         "marker": {
          "color": [
           2,
           4,
           1,
           1,
           1,
           4,
           4,
           5,
           2,
           7,
           6,
           9,
           9,
           0,
           1,
           5,
           3,
           8,
           0,
           1,
           5,
           9,
           1,
           2,
           9,
           9,
           0,
           9,
           3,
           9,
           8,
           9,
           4,
           0,
           3,
           1,
           0,
           4,
           0,
           9,
           7,
           1,
           2,
           0,
           1,
           6,
           0,
           0,
           3,
           7,
           0,
           3,
           6,
           9,
           9,
           3,
           1,
           4,
           3,
           1,
           3,
           7,
           2,
           3,
           9,
           0,
           9,
           6,
           1,
           0,
           0,
           3,
           0,
           1,
           5,
           3,
           4,
           7,
           2,
           6,
           4,
           1,
           1,
           7,
           2,
           2,
           0,
           1,
           7,
           4,
           7,
           5,
           9,
           7,
           1,
           7,
           1,
           1,
           1,
           0,
           1,
           6,
           4,
           8,
           6,
           1,
           1,
           9,
           1,
           7,
           1,
           2,
           3,
           6,
           0,
           8,
           9,
           3,
           3,
           3,
           6,
           2,
           6,
           9,
           3,
           1,
           9,
           1,
           5,
           4,
           5,
           8,
           7,
           2,
           2,
           0,
           4,
           0,
           9,
           7,
           1,
           4,
           4,
           7,
           5,
           2,
           2,
           3,
           1,
           4,
           9,
           1,
           4,
           3,
           4,
           6,
           0,
           3,
           4,
           9,
           1,
           2,
           2,
           9,
           4,
           3,
           8,
           9,
           5,
           7,
           3,
           4,
           0,
           7,
           0,
           0,
           7,
           4,
           1,
           9,
           0,
           9,
           4,
           8,
           1,
           2,
           1,
           8,
           6,
           6,
           7,
           7,
           5,
           2,
           4,
           1,
           8,
           1,
           8,
           1,
           5,
           2,
           7,
           4,
           1,
           0,
           8,
           4,
           1,
           8,
           9,
           0,
           7,
           6,
           1,
           9,
           1,
           7,
           4,
           1,
           0,
           9,
           9,
           3,
           7,
           0,
           0,
           3,
           7,
           1,
           0,
           4,
           9,
           1,
           3,
           6,
           9,
           7,
           4,
           0,
           3,
           3,
           0,
           0,
           5,
           4,
           6,
           8,
           2,
           5
          ],
          "coloraxis": "coloraxis",
          "symbol": "circle"
         },
         "mode": "markers",
         "name": "",
         "orientation": "v",
         "showlegend": false,
         "type": "scatter",
         "x": [
          -1.763330318257862,
          1.3789205708423995,
          -1.9344166174160546,
          -1.7479749179458617,
          -1.8719496357113994,
          1.145614751658919,
          -0.5162964256325151,
          0.011609302812961759,
          -2.020466413367738,
          -1.3350609363090886,
          -4.935058007593241,
          1.5525565968642925,
          -0.679151553657809,
          4.532504327888081,
          -2.3571773941490357,
          -0.9354921600014532,
          3.671826669245418,
          -3.548875032090111,
          2.3936026615578503,
          -0.754497197872273,
          0.17850797175357905,
          0.33236558993452747,
          -2.970410309987943,
          -0.46449536951843606,
          0.24641686306749888,
          -0.3956967259391796,
          2.555787343232413,
          0.039284020399301636,
          3.9775255814943513,
          0.8798542453244855,
          -2.844281094049069,
          -0.18291247686856552,
          0.5356919929672932,
          3.0521103272067616,
          4.328395518021927,
          -1.1428651367398466,
          3.3694198924734162,
          -0.11455989400135094,
          2.217877604780657,
          1.659363772869855,
          -1.2774515602787746,
          -1.4245939514710138,
          -1.3848716691618657,
          5.256152445756349,
          -1.7663132025736403,
          -4.273592926359073,
          1.8212892311021471,
          2.442546740049337,
          3.479519189070572,
          -1.0240595956895373,
          3.227690056645928,
          4.6315331759862355,
          -4.219367361575241,
          0.4185836326572572,
          -0.1490783308193822,
          4.108603717600077,
          -2.7146080096033165,
          -0.04814150824041829,
          3.9615188372925543,
          -0.8290430904053917,
          3.705919176141558,
          -2.7202070852502684,
          -1.1354127027442211,
          3.53238422649213,
          -0.5701178459324395,
          2.6982544948995058,
          0.95914097393656,
          -5.3299373096862155,
          -3.4205747608374635,
          1.8280948947510423,
          3.0829972976424225,
          5.439597440783712,
          2.196396523891814,
          -0.9599622608850532,
          -0.29056827866040286,
          4.191195847567549,
          -0.02370240968206659,
          -2.8544518466267976,
          -0.7023571833237284,
          -3.321153641621373,
          0.06974392748021867,
          -1.8890276255360825,
          -1.3785341699550722,
          -0.9491970980556023,
          -2.215790771185016,
          0.29838270212949664,
          4.174170283535878,
          -1.4140607227760729,
          -1.5991077110665837,
          0.5036814685609616,
          -1.7913070234889197,
          0.8176927647464671,
          0.32577642093248194,
          -1.2598823965859687,
          -0.9530828837355587,
          -0.796711888284844,
          -2.238679448983925,
          -2.069091102296898,
          -2.201568502529193,
          3.3253453025169626,
          -2.7981768954025443,
          -2.931590649898152,
          0.2939367058823228,
          -3.4752013202625474,
          -3.8313685282425425,
          -1.330634157642929,
          -2.986066830370976,
          0.9508843795874455,
          -2.2235727368836864,
          -1.8868406566287872,
          -1.2100190588896291,
          -2.5905169620270416,
          6.004921961544844,
          -3.368267652677643,
          2.3802547126476425,
          -1.5181379488710736,
          -0.28176220143134023,
          2.6506184313650256,
          4.91775108139384,
          4.395113259932731,
          -3.7335663234002467,
          -0.5906144879863614,
          -2.5609780037494847,
          1.4044349344724196,
          3.8743241040863885,
          -2.4698786758719287,
          0.6036389950952308,
          -1.6991432850958743,
          2.15664759728836,
          0.12623154644608492,
          3.958893402881193,
          -2.497666349941603,
          -2.311933492287316,
          -1.5214519164565492,
          -0.8226982203680939,
          2.8383531885319533,
          0.4180263620673664,
          2.7573526419402117,
          0.537336098308356,
          -2.2421356223844344,
          -0.9450799989321825,
          0.21764910943517296,
          1.2892031704425408,
          -1.8637259415528997,
          0.9668999686928924,
          -1.852100964649981,
          -0.1147956801875797,
          3.03077310241761,
          -0.978155715856449,
          -0.5404509669976483,
          -0.2814861209098678,
          -1.4076268036964579,
          -0.3559933316559606,
          3.6943839111142673,
          0.24115084463522804,
          -2.8938263518859957,
          2.2275411547105133,
          3.4120445729751943,
          1.4442133341655874,
          0.042295959914109185,
          -3.487623604010425,
          -1.0561757899105362,
          0.06290318350172075,
          1.579721271545737,
          1.3337174137638834,
          4.787481112188039,
          -2.6188271663758433,
          -0.46597565283826764,
          2.6966746058294464,
          -1.4740208940939943,
          5.531366023947291,
          0.173711542083197,
          3.148659842876004,
          -1.004958783886934,
          3.3569692799303823,
          3.1500429354657253,
          -2.95668669234767,
          -0.26871182068172167,
          -1.046865613153509,
          1.424189368650816,
          2.6994749648607157,
          0.5154056842060213,
          0.36815834531497454,
          -2.4851332363325893,
          -1.7033995968992826,
          -1.6924301686578116,
          -1.4777768781908975,
          -2.6197792593099742,
          -3.7493081540586384,
          -4.6172575519979056,
          -1.076004501226415,
          -2.279716526874284,
          1.746708872878042,
          -1.277294379607522,
          -0.5084748000983572,
          -2.212033189634943,
          -2.4971591313588815,
          -2.841636167428647,
          -4.045951740243614,
          -1.7674590674447788,
          2.1062012331493323,
          0.4053835211719761,
          -1.3786255578403703,
          1.1765901744639071,
          -1.2991151364614846,
          2.693347893071683,
          -2.267466476308536,
          2.0134665480521785,
          -2.7799249303071156,
          -3.2900256276588773,
          -0.3511871662015901,
          2.2520701264983,
          -0.7192647597112756,
          -5.423932363807155,
          -1.8751255519386847,
          1.4586428646867853,
          -2.206288484330395,
          -1.3255803538596875,
          0.603028001030511,
          -2.103868533992231,
          2.7893340809061273,
          1.1363651650270037,
          0.6072738324858047,
          5.469982057235484,
          -1.834010919487878,
          1.6463928949191655,
          4.64095264175981,
          4.738144593590173,
          -2.266471209882571,
          -1.8935024625213006,
          2.9761074465531894,
          0.7196795430113826,
          0.5408530792619597,
          -3.427554944370849,
          7.110426173154702,
          -3.9453425522190413,
          1.331790068029291,
          -2.3687705500945975,
          -0.5733937869456006,
          3.4946294998082923,
          5.576820009186633,
          3.846270710111164,
          3.1434074172290694,
          1.8449939530412323,
          -0.28291747011428914,
          -0.6705427484070803,
          -5.272400480420947,
          -2.6766064169198076,
          -1.0142580021799943,
          0.015217315739983774
         ],
         "xaxis": "x",
         "y": [
          2.399865120292065,
          -1.871515303302674,
          -1.687961538122068,
          -1.1276346393679746,
          -1.2310531154849378,
          -2.0396562553002915,
          -2.1516140184530665,
          4.669319547190142,
          2.1372366408345074,
          -3.275035761688455,
          4.897078118070945,
          -0.45392941971589135,
          -0.121608424552216,
          -0.48563832557906955,
          -1.2186560827446016,
          4.813836928920762,
          1.4698994327456967,
          0.39321809121261353,
          -0.4603461899132817,
          -1.5104189061197466,
          5.959228331376047,
          -0.700394613022933,
          -1.5699840534277665,
          2.143064399649189,
          -0.5171586111902395,
          -0.763062703587146,
          0.03467111612759714,
          -0.910308523734155,
          1.7635923963279978,
          -0.523088205110128,
          1.210117554727718,
          -0.7029074132756922,
          -2.4786916700523896,
          -0.9401373241193822,
          1.3253607383801913,
          -1.5259305291772904,
          0.22854893900607282,
          -1.9133081889158035,
          -1.8787666601597846,
          0.12769371504996663,
          -2.3045149765260313,
          -1.2872087306457654,
          1.6055686264522375,
          -1.6989758794872265,
          -1.2358593076546391,
          4.4327258403957295,
          -1.4454418081034113,
          -0.2878095392724406,
          0.6924501676624334,
          -2.375697224147334,
          -0.7952647365602723,
          0.42128103730359157,
          3.7380564432286625,
          -0.8673589142446718,
          0.33055368068735974,
          0.22170314969220994,
          -1.327553431495521,
          -2.490775775551848,
          1.0034171186466359,
          -0.7353101856861426,
          2.060793922469462,
          -3.7545432987701286,
          3.789160407534562,
          0.4584767584694365,
          0.16858003536003574,
          -0.9946359820245351,
          -0.6650740310304643,
          3.7940651914999663,
          -2.0113424729601843,
          -1.2672427317983814,
          -0.2838686483415208,
          1.3571769643793565,
          -0.4477395512582067,
          -1.6293620700221794,
          4.298407496207105,
          1.0695146774515316,
          -2.5461323785626777,
          -2.8483047382863558,
          1.2727126759839997,
          3.0611789505603837,
          -1.7538416002479058,
          0.03872129821444445,
          -0.8422295057202436,
          -3.3114192481315543,
          3.1580471317719168,
          1.7607689142604,
          -1.6511269283147079,
          -1.4998759498724041,
          -3.2363861749435108,
          -1.9150908030267473,
          -2.755735105926373,
          5.5432506896200255,
          -0.6351393060177186,
          -2.6410340434337622,
          -0.9364187970651592,
          -3.125169812324172,
          -1.6304904289724678,
          -1.8458005286478567,
          -1.8128780896175656,
          -0.42570771695673154,
          -1.4414707192711578,
          4.397777788745064,
          -3.898017419572586,
          0.137547178575739,
          4.328383874769257,
          -0.887562185898159,
          -0.9064194633407716,
          -0.25401839292762596,
          -1.2585340351160377,
          -3.374032145381281,
          0.2880754210304181,
          2.993036882810844,
          1.0026379837319075,
          3.2791094790048576,
          -0.7079797495353652,
          0.4676323465661572,
          -0.811806405834557,
          1.3746920014472341,
          0.42826253262315855,
          0.4393630351203302,
          3.2910314406711048,
          3.2939553859627373,
          4.4854666308958,
          1.4352775392078678,
          2.008066713010481,
          -0.912804039706736,
          0.23601117253177742,
          -0.14333543497988102,
          2.7464200267431274,
          -1.6854571841634267,
          7.092928262755779,
          0.2792893049934292,
          -2.660288082029756,
          3.0388923693365784,
          1.8433821702321815,
          0.16705154929703614,
          -2.9106931650840657,
          -1.1395358796748776,
          0.19811234648123624,
          -2.4225691882129925,
          -1.1457521728598088,
          -2.3224419082343837,
          -1.2099797377792862,
          -3.2276231178067882,
          3.236890910120514,
          3.753018758410763,
          2.6694756407447437,
          2.5096103058178545,
          -1.2472534639607744,
          -1.2615636402678934,
          0.9893839455442783,
          -0.3293164151979947,
          -1.9382220161314734,
          3.1006524824710198,
          -1.3364494635881696,
          3.444511652759227,
          -1.259361461911016,
          0.7209585919884692,
          -2.2870450389339174,
          -0.19899437803368386,
          -1.5045435381393968,
          2.9286873730611096,
          2.3427533350361887,
          0.5531456185275244,
          -3.341073964006715,
          0.6005288289119992,
          1.7185321883089426,
          0.5541539503849158,
          3.638839538324004,
          -2.968097361468179,
          3.3273909335899488,
          -1.887735514287637,
          -0.11590545507573334,
          -3.7668520702229316,
          -0.6242191305221507,
          -1.4463653987226095,
          -3.745692580420019,
          -2.088617750007148,
          -1.3988151936940634,
          -0.6890983023062599,
          -2.3022949808636266,
          -0.4015959181600812,
          -2.442021827202504,
          1.861404177901872,
          -1.7242218999340044,
          2.2156843216057176,
          -0.9904608051490403,
          0.30174607412170024,
          3.894216203834033,
          2.9121192212140894,
          -2.675292230034017,
          -3.280501483246242,
          5.471992222534534,
          2.0205012938167046,
          -1.7957820194834824,
          -0.7105562675728142,
          -0.019471052411111255,
          -2.124924299670963,
          1.8074784535000805,
          -0.9996281959229113,
          2.934781872171093,
          2.9549330774430587,
          -3.0501664928277568,
          -1.8783606518501526,
          -0.88997196414173,
          0.5353306537555049,
          2.0734524034224417,
          -2.4139018436303545,
          -0.6944531410880872,
          1.0862994972873767,
          0.5022701881748666,
          -0.42774035816215755,
          -3.4232254035408523,
          5.054125888875146,
          0.05146588907957567,
          0.3269223736552794,
          -1.9441441006339995,
          -3.5883972884022977,
          -4.249255241580447,
          -1.6340283633377652,
          -0.2127821030115417,
          1.663410504070025,
          -0.6217160851165954,
          3.347041939449217,
          -2.2740622689988355,
          -1.4048111346073275,
          -1.2772408991028517,
          2.2306940757424227,
          -3.2603138535826073,
          -1.739537093500103,
          -0.7134788450740822,
          -2.7919807018327685,
          1.4014513011239669,
          -1.1414846220643082,
          0.3853718872865027,
          2.8804866008785783,
          -0.18010432363908174,
          -2.3073094562419985,
          -1.847037725503779,
          -0.7219395427362325,
          0.6415289678343398,
          0.5474710967527527,
          -0.809814162990178,
          -0.7281569485583533,
          4.460228028752657,
          -1.7773756426885707,
          3.7148845744710903,
          1.539932915470581,
          2.477938164420892,
          5.1168071232140315
         ],
         "yaxis": "y"
        }
       ],
       "layout": {
        "coloraxis": {
         "colorbar": {
          "title": {
           "text": "Cluster"
          }
         },
         "colorscale": [
          [
           0,
           "#0d0887"
          ],
          [
           0.1111111111111111,
           "#46039f"
          ],
          [
           0.2222222222222222,
           "#7201a8"
          ],
          [
           0.3333333333333333,
           "#9c179e"
          ],
          [
           0.4444444444444444,
           "#bd3786"
          ],
          [
           0.5555555555555556,
           "#d8576b"
          ],
          [
           0.6666666666666666,
           "#ed7953"
          ],
          [
           0.7777777777777778,
           "#fb9f3a"
          ],
          [
           0.8888888888888888,
           "#fdca26"
          ],
          [
           1,
           "#f0f921"
          ]
         ]
        },
        "legend": {
         "tracegroupgap": 0
        },
        "template": {
         "data": {
          "bar": [
           {
            "error_x": {
             "color": "#2a3f5f"
            },
            "error_y": {
             "color": "#2a3f5f"
            },
            "marker": {
             "line": {
              "color": "#E5ECF6",
              "width": 0.5
             },
             "pattern": {
              "fillmode": "overlay",
              "size": 10,
              "solidity": 0.2
             }
            },
            "type": "bar"
           }
          ],
          "barpolar": [
           {
            "marker": {
             "line": {
              "color": "#E5ECF6",
              "width": 0.5
             },
             "pattern": {
              "fillmode": "overlay",
              "size": 10,
              "solidity": 0.2
             }
            },
            "type": "barpolar"
           }
          ],
          "carpet": [
           {
            "aaxis": {
             "endlinecolor": "#2a3f5f",
             "gridcolor": "white",
             "linecolor": "white",
             "minorgridcolor": "white",
             "startlinecolor": "#2a3f5f"
            },
            "baxis": {
             "endlinecolor": "#2a3f5f",
             "gridcolor": "white",
             "linecolor": "white",
             "minorgridcolor": "white",
             "startlinecolor": "#2a3f5f"
            },
            "type": "carpet"
           }
          ],
          "choropleth": [
           {
            "colorbar": {
             "outlinewidth": 0,
             "ticks": ""
            },
            "type": "choropleth"
           }
          ],
          "contour": [
           {
            "colorbar": {
             "outlinewidth": 0,
             "ticks": ""
            },
            "colorscale": [
             [
              0,
              "#0d0887"
             ],
             [
              0.1111111111111111,
              "#46039f"
             ],
             [
              0.2222222222222222,
              "#7201a8"
             ],
             [
              0.3333333333333333,
              "#9c179e"
             ],
             [
              0.4444444444444444,
              "#bd3786"
             ],
             [
              0.5555555555555556,
              "#d8576b"
             ],
             [
              0.6666666666666666,
              "#ed7953"
             ],
             [
              0.7777777777777778,
              "#fb9f3a"
             ],
             [
              0.8888888888888888,
              "#fdca26"
             ],
             [
              1,
              "#f0f921"
             ]
            ],
            "type": "contour"
           }
          ],
          "contourcarpet": [
           {
            "colorbar": {
             "outlinewidth": 0,
             "ticks": ""
            },
            "type": "contourcarpet"
           }
          ],
          "heatmap": [
           {
            "colorbar": {
             "outlinewidth": 0,
             "ticks": ""
            },
            "colorscale": [
             [
              0,
              "#0d0887"
             ],
             [
              0.1111111111111111,
              "#46039f"
             ],
             [
              0.2222222222222222,
              "#7201a8"
             ],
             [
              0.3333333333333333,
              "#9c179e"
             ],
             [
              0.4444444444444444,
              "#bd3786"
             ],
             [
              0.5555555555555556,
              "#d8576b"
             ],
             [
              0.6666666666666666,
              "#ed7953"
             ],
             [
              0.7777777777777778,
              "#fb9f3a"
             ],
             [
              0.8888888888888888,
              "#fdca26"
             ],
             [
              1,
              "#f0f921"
             ]
            ],
            "type": "heatmap"
           }
          ],
          "heatmapgl": [
           {
            "colorbar": {
             "outlinewidth": 0,
             "ticks": ""
            },
            "colorscale": [
             [
              0,
              "#0d0887"
             ],
             [
              0.1111111111111111,
              "#46039f"
             ],
             [
              0.2222222222222222,
              "#7201a8"
             ],
             [
              0.3333333333333333,
              "#9c179e"
             ],
             [
              0.4444444444444444,
              "#bd3786"
             ],
             [
              0.5555555555555556,
              "#d8576b"
             ],
             [
              0.6666666666666666,
              "#ed7953"
             ],
             [
              0.7777777777777778,
              "#fb9f3a"
             ],
             [
              0.8888888888888888,
              "#fdca26"
             ],
             [
              1,
              "#f0f921"
             ]
            ],
            "type": "heatmapgl"
           }
          ],
          "histogram": [
           {
            "marker": {
             "pattern": {
              "fillmode": "overlay",
              "size": 10,
              "solidity": 0.2
             }
            },
            "type": "histogram"
           }
          ],
          "histogram2d": [
           {
            "colorbar": {
             "outlinewidth": 0,
             "ticks": ""
            },
            "colorscale": [
             [
              0,
              "#0d0887"
             ],
             [
              0.1111111111111111,
              "#46039f"
             ],
             [
              0.2222222222222222,
              "#7201a8"
             ],
             [
              0.3333333333333333,
              "#9c179e"
             ],
             [
              0.4444444444444444,
              "#bd3786"
             ],
             [
              0.5555555555555556,
              "#d8576b"
             ],
             [
              0.6666666666666666,
              "#ed7953"
             ],
             [
              0.7777777777777778,
              "#fb9f3a"
             ],
             [
              0.8888888888888888,
              "#fdca26"
             ],
             [
              1,
              "#f0f921"
             ]
            ],
            "type": "histogram2d"
           }
          ],
          "histogram2dcontour": [
           {
            "colorbar": {
             "outlinewidth": 0,
             "ticks": ""
            },
            "colorscale": [
             [
              0,
              "#0d0887"
             ],
             [
              0.1111111111111111,
              "#46039f"
             ],
             [
              0.2222222222222222,
              "#7201a8"
             ],
             [
              0.3333333333333333,
              "#9c179e"
             ],
             [
              0.4444444444444444,
              "#bd3786"
             ],
             [
              0.5555555555555556,
              "#d8576b"
             ],
             [
              0.6666666666666666,
              "#ed7953"
             ],
             [
              0.7777777777777778,
              "#fb9f3a"
             ],
             [
              0.8888888888888888,
              "#fdca26"
             ],
             [
              1,
              "#f0f921"
             ]
            ],
            "type": "histogram2dcontour"
           }
          ],
          "mesh3d": [
           {
            "colorbar": {
             "outlinewidth": 0,
             "ticks": ""
            },
            "type": "mesh3d"
           }
          ],
          "parcoords": [
           {
            "line": {
             "colorbar": {
              "outlinewidth": 0,
              "ticks": ""
             }
            },
            "type": "parcoords"
           }
          ],
          "pie": [
           {
            "automargin": true,
            "type": "pie"
           }
          ],
          "scatter": [
           {
            "marker": {
             "colorbar": {
              "outlinewidth": 0,
              "ticks": ""
             }
            },
            "type": "scatter"
           }
          ],
          "scatter3d": [
           {
            "line": {
             "colorbar": {
              "outlinewidth": 0,
              "ticks": ""
             }
            },
            "marker": {
             "colorbar": {
              "outlinewidth": 0,
              "ticks": ""
             }
            },
            "type": "scatter3d"
           }
          ],
          "scattercarpet": [
           {
            "marker": {
             "colorbar": {
              "outlinewidth": 0,
              "ticks": ""
             }
            },
            "type": "scattercarpet"
           }
          ],
          "scattergeo": [
           {
            "marker": {
             "colorbar": {
              "outlinewidth": 0,
              "ticks": ""
             }
            },
            "type": "scattergeo"
           }
          ],
          "scattergl": [
           {
            "marker": {
             "colorbar": {
              "outlinewidth": 0,
              "ticks": ""
             }
            },
            "type": "scattergl"
           }
          ],
          "scattermapbox": [
           {
            "marker": {
             "colorbar": {
              "outlinewidth": 0,
              "ticks": ""
             }
            },
            "type": "scattermapbox"
           }
          ],
          "scatterpolar": [
           {
            "marker": {
             "colorbar": {
              "outlinewidth": 0,
              "ticks": ""
             }
            },
            "type": "scatterpolar"
           }
          ],
          "scatterpolargl": [
           {
            "marker": {
             "colorbar": {
              "outlinewidth": 0,
              "ticks": ""
             }
            },
            "type": "scatterpolargl"
           }
          ],
          "scatterternary": [
           {
            "marker": {
             "colorbar": {
              "outlinewidth": 0,
              "ticks": ""
             }
            },
            "type": "scatterternary"
           }
          ],
          "surface": [
           {
            "colorbar": {
             "outlinewidth": 0,
             "ticks": ""
            },
            "colorscale": [
             [
              0,
              "#0d0887"
             ],
             [
              0.1111111111111111,
              "#46039f"
             ],
             [
              0.2222222222222222,
              "#7201a8"
             ],
             [
              0.3333333333333333,
              "#9c179e"
             ],
             [
              0.4444444444444444,
              "#bd3786"
             ],
             [
              0.5555555555555556,
              "#d8576b"
             ],
             [
              0.6666666666666666,
              "#ed7953"
             ],
             [
              0.7777777777777778,
              "#fb9f3a"
             ],
             [
              0.8888888888888888,
              "#fdca26"
             ],
             [
              1,
              "#f0f921"
             ]
            ],
            "type": "surface"
           }
          ],
          "table": [
           {
            "cells": {
             "fill": {
              "color": "#EBF0F8"
             },
             "line": {
              "color": "white"
             }
            },
            "header": {
             "fill": {
              "color": "#C8D4E3"
             },
             "line": {
              "color": "white"
             }
            },
            "type": "table"
           }
          ]
         },
         "layout": {
          "annotationdefaults": {
           "arrowcolor": "#2a3f5f",
           "arrowhead": 0,
           "arrowwidth": 1
          },
          "autotypenumbers": "strict",
          "coloraxis": {
           "colorbar": {
            "outlinewidth": 0,
            "ticks": ""
           }
          },
          "colorscale": {
           "diverging": [
            [
             0,
             "#8e0152"
            ],
            [
             0.1,
             "#c51b7d"
            ],
            [
             0.2,
             "#de77ae"
            ],
            [
             0.3,
             "#f1b6da"
            ],
            [
             0.4,
             "#fde0ef"
            ],
            [
             0.5,
             "#f7f7f7"
            ],
            [
             0.6,
             "#e6f5d0"
            ],
            [
             0.7,
             "#b8e186"
            ],
            [
             0.8,
             "#7fbc41"
            ],
            [
             0.9,
             "#4d9221"
            ],
            [
             1,
             "#276419"
            ]
           ],
           "sequential": [
            [
             0,
             "#0d0887"
            ],
            [
             0.1111111111111111,
             "#46039f"
            ],
            [
             0.2222222222222222,
             "#7201a8"
            ],
            [
             0.3333333333333333,
             "#9c179e"
            ],
            [
             0.4444444444444444,
             "#bd3786"
            ],
            [
             0.5555555555555556,
             "#d8576b"
            ],
            [
             0.6666666666666666,
             "#ed7953"
            ],
            [
             0.7777777777777778,
             "#fb9f3a"
            ],
            [
             0.8888888888888888,
             "#fdca26"
            ],
            [
             1,
             "#f0f921"
            ]
           ],
           "sequentialminus": [
            [
             0,
             "#0d0887"
            ],
            [
             0.1111111111111111,
             "#46039f"
            ],
            [
             0.2222222222222222,
             "#7201a8"
            ],
            [
             0.3333333333333333,
             "#9c179e"
            ],
            [
             0.4444444444444444,
             "#bd3786"
            ],
            [
             0.5555555555555556,
             "#d8576b"
            ],
            [
             0.6666666666666666,
             "#ed7953"
            ],
            [
             0.7777777777777778,
             "#fb9f3a"
            ],
            [
             0.8888888888888888,
             "#fdca26"
            ],
            [
             1,
             "#f0f921"
            ]
           ]
          },
          "colorway": [
           "#636efa",
           "#EF553B",
           "#00cc96",
           "#ab63fa",
           "#FFA15A",
           "#19d3f3",
           "#FF6692",
           "#B6E880",
           "#FF97FF",
           "#FECB52"
          ],
          "font": {
           "color": "#2a3f5f"
          },
          "geo": {
           "bgcolor": "white",
           "lakecolor": "white",
           "landcolor": "#E5ECF6",
           "showlakes": true,
           "showland": true,
           "subunitcolor": "white"
          },
          "hoverlabel": {
           "align": "left"
          },
          "hovermode": "closest",
          "mapbox": {
           "style": "light"
          },
          "paper_bgcolor": "white",
          "plot_bgcolor": "#E5ECF6",
          "polar": {
           "angularaxis": {
            "gridcolor": "white",
            "linecolor": "white",
            "ticks": ""
           },
           "bgcolor": "#E5ECF6",
           "radialaxis": {
            "gridcolor": "white",
            "linecolor": "white",
            "ticks": ""
           }
          },
          "scene": {
           "xaxis": {
            "backgroundcolor": "#E5ECF6",
            "gridcolor": "white",
            "gridwidth": 2,
            "linecolor": "white",
            "showbackground": true,
            "ticks": "",
            "zerolinecolor": "white"
           },
           "yaxis": {
            "backgroundcolor": "#E5ECF6",
            "gridcolor": "white",
            "gridwidth": 2,
            "linecolor": "white",
            "showbackground": true,
            "ticks": "",
            "zerolinecolor": "white"
           },
           "zaxis": {
            "backgroundcolor": "#E5ECF6",
            "gridcolor": "white",
            "gridwidth": 2,
            "linecolor": "white",
            "showbackground": true,
            "ticks": "",
            "zerolinecolor": "white"
           }
          },
          "shapedefaults": {
           "line": {
            "color": "#2a3f5f"
           }
          },
          "ternary": {
           "aaxis": {
            "gridcolor": "white",
            "linecolor": "white",
            "ticks": ""
           },
           "baxis": {
            "gridcolor": "white",
            "linecolor": "white",
            "ticks": ""
           },
           "bgcolor": "#E5ECF6",
           "caxis": {
            "gridcolor": "white",
            "linecolor": "white",
            "ticks": ""
           }
          },
          "title": {
           "x": 0.05
          },
          "xaxis": {
           "automargin": true,
           "gridcolor": "white",
           "linecolor": "white",
           "ticks": "",
           "title": {
            "standoff": 15
           },
           "zerolinecolor": "white",
           "zerolinewidth": 2
          },
          "yaxis": {
           "automargin": true,
           "gridcolor": "white",
           "linecolor": "white",
           "ticks": "",
           "title": {
            "standoff": 15
           },
           "zerolinecolor": "white",
           "zerolinewidth": 2
          }
         }
        },
        "title": {
         "text": "PCA and KMeans Clustering"
        },
        "xaxis": {
         "anchor": "y",
         "domain": [
          0,
          1
         ],
         "title": {
          "text": "PCA1"
         }
        },
        "yaxis": {
         "anchor": "x",
         "domain": [
          0,
          1
         ],
         "title": {
          "text": "PCA2"
         }
        }
       }
      }
     },
     "metadata": {},
     "output_type": "display_data"
    }
   ],
   "source": [
    "#Run the PCA clustering with two components so we can visualize the clusters in a scatterplot\n",
    "df_new_PCA = scaled_df.copy()\n",
    "pca = PCA(n_components=2)\n",
    "pca_result = pca.fit_transform(df_new_PCA)\n",
    "\n",
    "kmeans = KMeans(n_clusters=10, random_state=1)\n",
    "clusters = kmeans.fit_predict(pca_result) #Fit and predict with the PCA data \n",
    "\n",
    "pca_df = pd.DataFrame(data=pca_result, columns=['PCA1', 'PCA2'])\n",
    "pca_df['Cluster'] = clusters\n",
    "pca_df['Name'] = dfPlayerCol['Name']\n",
    "\n",
    "fig = px.scatter(pca_df, x='PCA1', y='PCA2', color='Cluster', title='PCA and KMeans Clustering', hover_data={'Name': True}) #Visualize the clusters in a scatter plot\n",
    "fig.show()\n"
   ]
  },
  {
   "cell_type": "markdown",
   "metadata": {},
   "source": [
    "To evaluate the model, we will use silhouette score and calinski scores. We will find those scores for a range of k (# of clusters) as well to better determine the ideal number of clusters. "
   ]
  },
  {
   "cell_type": "code",
   "execution_count": 19,
   "metadata": {},
   "outputs": [
    {
     "name": "stdout",
     "output_type": "stream",
     "text": [
      "Number of clusters: 2, Silhouette Score: 0.3837614575147478\n",
      "Number of clusters: 3, Silhouette Score: 0.47332853358236504\n",
      "Number of clusters: 4, Silhouette Score: 0.3801078770502058\n",
      "Number of clusters: 5, Silhouette Score: 0.3754252395374997\n",
      "Number of clusters: 6, Silhouette Score: 0.3459453485259662\n",
      "Number of clusters: 7, Silhouette Score: 0.356358133124799\n",
      "Number of clusters: 8, Silhouette Score: 0.36177408584528303\n",
      "Number of clusters: 9, Silhouette Score: 0.3769600621920923\n",
      "Number of clusters: 10, Silhouette Score: 0.3726339769747353\n",
      "Number of clusters: 11, Silhouette Score: 0.37326883256853516\n",
      "Number of clusters: 12, Silhouette Score: 0.3493004020515458\n",
      "Number of clusters: 13, Silhouette Score: 0.3596568888529649\n",
      "Number of clusters: 14, Silhouette Score: 0.35600010133551746\n",
      "Number of clusters: 15, Silhouette Score: 0.3513338921216665\n",
      "Number of clusters: 16, Silhouette Score: 0.35054270014701255\n",
      "Number of clusters: 17, Silhouette Score: 0.35310524136668237\n",
      "Number of clusters: 18, Silhouette Score: 0.3519055146880604\n",
      "Number of clusters: 19, Silhouette Score: 0.3459397331219142\n"
     ]
    },
    {
     "data": {
      "image/png": "[encoded data removed]",
      "text/plain": [
       "<Figure size 720x432 with 1 Axes>"
      ]
     },
     "metadata": {
      "needs_background": "light"
     },
     "output_type": "display_data"
    }
   ],
   "source": [
    "#Calculate the silhouette score, add them to a list, print out the silhouette score for each k value, then graph on a line chart. \n",
    "silhouette_scores = []\n",
    "\n",
    "for k in range(2, 20): #Calculate the silhouette score for each number of clusters and append it to a list for visualization later\n",
    "    kmeans = KMeans(n_clusters=k, random_state=1)\n",
    "    cluster_labels = kmeans.fit_predict(pca_result)\n",
    "    silhouette_avg = silhouette_score(pca_result, cluster_labels)\n",
    "    silhouette_scores.append(silhouette_avg)\n",
    "    \n",
    "    print(f\"Number of clusters: {k}, Silhouette Score: {silhouette_avg}\")\n",
    "\n",
    "#Visualize the silhouette scores for different number of clusters\n",
    "plt.figure(figsize=(10, 6))\n",
    "plt.plot(range(2, 20), silhouette_scores, marker='o')\n",
    "plt.title(\"Silhouette Scores for Different Numbers of Clusters\")\n",
    "plt.xlabel(\"Number of Clusters\")\n",
    "plt.ylabel(\"Silhouette Score\")\n",
    "plt.xticks(range(2, 20))\n",
    "plt.grid(True)\n",
    "plt.show()"
   ]
  },
  {
   "cell_type": "markdown",
   "metadata": {},
   "source": [
    "Based on the chart, 9 seems to be the ideal number of clusters since it has the highest score for clusters > 4"
   ]
  },
  {
   "cell_type": "code",
   "execution_count": 20,
   "metadata": {},
   "outputs": [
    {
     "name": "stdout",
     "output_type": "stream",
     "text": [
      "Number of clusters: 2, Calinski-Harabasz Score: 160.45286110724953\n",
      "Number of clusters: 3, Calinski-Harabasz Score: 262.53435748965524\n",
      "Number of clusters: 4, Calinski-Harabasz Score: 236.9700678123423\n",
      "Number of clusters: 5, Calinski-Harabasz Score: 236.03930159805435\n",
      "Number of clusters: 6, Calinski-Harabasz Score: 227.70520301438606\n",
      "Number of clusters: 7, Calinski-Harabasz Score: 232.68853783725052\n",
      "Number of clusters: 8, Calinski-Harabasz Score: 232.73843643785364\n",
      "Number of clusters: 9, Calinski-Harabasz Score: 242.19988274747485\n",
      "Number of clusters: 10, Calinski-Harabasz Score: 235.07438329607018\n",
      "Number of clusters: 11, Calinski-Harabasz Score: 237.10228361479136\n",
      "Number of clusters: 12, Calinski-Harabasz Score: 224.9295191502722\n",
      "Number of clusters: 13, Calinski-Harabasz Score: 225.12167127659842\n",
      "Number of clusters: 14, Calinski-Harabasz Score: 224.6151257509182\n",
      "Number of clusters: 15, Calinski-Harabasz Score: 219.2231967836283\n",
      "Number of clusters: 16, Calinski-Harabasz Score: 225.58462472117836\n",
      "Number of clusters: 17, Calinski-Harabasz Score: 218.34363195118476\n",
      "Number of clusters: 18, Calinski-Harabasz Score: 222.97562911731467\n",
      "Number of clusters: 19, Calinski-Harabasz Score: 223.41223111707518\n"
     ]
    },
    {
     "data": {
      "image/png": "[encoded data removed]",
      "text/plain": [
       "<Figure size 720x360 with 1 Axes>"
      ]
     },
     "metadata": {
      "needs_background": "light"
     },
     "output_type": "display_data"
    }
   ],
   "source": [
    "#Calculate the calinski score, add them to a list, print out the calinski score for each k value, then graph on a line chart. \n",
    "calinski_scores = []\n",
    "\n",
    "for k in range(2, 20): #Calculate the calinski score for each number of clusters and append it to a list for visualization later\n",
    "    kmeans = KMeans(n_clusters=k, random_state=1)\n",
    "    cluster_labels = kmeans.fit_predict(pca_result)\n",
    "\n",
    "    calinski_score = calinski_harabasz_score(pca_result, cluster_labels)\n",
    "    calinski_scores.append(calinski_score)\n",
    "\n",
    "    print(f\"Number of clusters: {k}, Calinski-Harabasz Score: {calinski_score}\")\n",
    "\n",
    "#Visualize the calinski scores for different number of clusters\n",
    "fig, ax = plt.subplots(figsize=(10, 5))\n",
    "ax.plot(range(2, 20), calinski_scores, 'o-')\n",
    "ax.set_xlabel('# of Clusters')\n",
    "ax.set_ylabel('Calinski-Harabasz Score')\n",
    "ax.grid(True)\n",
    "plt.show()"
   ]
  },
  {
   "cell_type": "markdown",
   "metadata": {},
   "source": [
    "Once again, 9 clusters seems to be the ideal number of clusters since it has the highest calinski score for more than 3 clusters. Let's run the PCA and kmeans clustering again with 9 clusters. "
   ]
  },
  {
   "cell_type": "code",
   "execution_count": 21,
   "metadata": {},
   "outputs": [
    {
     "data": {
      "application/vnd.plotly.v1+json": {
       "config": {
        "plotlyServerURL": "https://plot.ly"
       },
       "data": [
        {
         "customdata": [
          [
           "Aaron Gordon"
          ],
          [
           "Aaron Holiday"
          ],
          [
           "Aaron Nesmith"
          ],
          [
           "Aaron Wiggins"
          ],
          [
           "Al Horford"
          ],
          [
           "Alec Burks"
          ],
          [
           "Alex Caruso"
          ],
          [
           "Alperen Sengun"
          ],
          [
           "Amen Thompson"
          ],
          [
           "Amir Coffey"
          ],
          [
           "Andre Drummond"
          ],
          [
           "Andrew Nembhard"
          ],
          [
           "Andrew Wiggins"
          ],
          [
           "Anfernee Simons"
          ],
          [
           "Anthony Black"
          ],
          [
           "Anthony Davis"
          ],
          [
           "Anthony Edwards"
          ],
          [
           "Ausar Thompson"
          ],
          [
           "Austin Reaves"
          ],
          [
           "Ayo Dosunmu"
          ],
          [
           "Bam Adebayo"
          ],
          [
           "Bennedict Mathurin"
          ],
          [
           "Bilal Coulibaly"
          ],
          [
           "Bobby Portis"
          ],
          [
           "Bogdan Bogdanovic"
          ],
          [
           "Bojan Bogdanovic"
          ],
          [
           "Bradley Beal"
          ],
          [
           "Brandin Podziemski"
          ],
          [
           "Brandon Ingram"
          ],
          [
           "Brandon Miller"
          ],
          [
           "Brook Lopez"
          ],
          [
           "Bruce Brown"
          ],
          [
           "Buddy Hield"
          ],
          [
           "CJ McCollum"
          ],
          [
           "Cade Cunningham"
          ],
          [
           "Caleb Martin"
          ],
          [
           "Cam Thomas"
          ],
          [
           "Cameron Johnson"
          ],
          [
           "Cameron Payne"
          ],
          [
           "Caris LeVert"
          ],
          [
           "Cason Wallace"
          ],
          [
           "Cedi O"
          ],
          [
           "Chet Holmgren"
          ],
          [
           "Chris Paul"
          ],
          [
           "Christian Braun"
          ],
          [
           "Clint Capela"
          ],
          [
           "Coby White"
          ],
          [
           "Cole Anthony"
          ],
          [
           "Collin Sexton"
          ],
          [
           "Corey Kispert"
          ],
          [
           "D'Angelo Russell"
          ],
          [
           "Damian Lillard"
          ],
          [
           "Daniel Gafford"
          ],
          [
           "Dante Exum"
          ],
          [
           "Dario Saric"
          ],
          [
           "Darius Garland"
          ],
          [
           "David Roddy"
          ],
          [
           "Davion Mitchell"
          ],
          [
           "De'Aaron Fox"
          ],
          [
           "De'Andre Hunter"
          ],
          [
           "DeMar DeRozan"
          ],
          [
           "Dean Wade"
          ],
          [
           "Deandre Ayton"
          ],
          [
           "Dejounte Murray"
          ],
          [
           "Deni Avdija"
          ],
          [
           "Dennis Schroder"
          ],
          [
           "Dennis Smith"
          ],
          [
           "Dereck Lively II"
          ],
          [
           "Derrick Jones Jr."
          ],
          [
           "Derrick White"
          ],
          [
           "Desmond Bane"
          ],
          [
           "Devin Booker"
          ],
          [
           "Devin Vassell"
          ],
          [
           "Dillon Brooks"
          ],
          [
           "Domantas Sabonis"
          ],
          [
           "Donovan Mitchell"
          ],
          [
           "Donte DiVincenzo"
          ],
          [
           "Dorian Finney-Smith"
          ],
          [
           "Draymond Green"
          ],
          [
           "Drew Eubanks"
          ],
          [
           "Duncan Robinson"
          ],
          [
           "Duop Reath"
          ],
          [
           "Dyson Daniels"
          ],
          [
           "Eric Gordon"
          ],
          [
           "Evan Mobley"
          ],
          [
           "Franz Wagner"
          ],
          [
           "Fred VanVleet"
          ],
          [
           "GG Jackson"
          ],
          [
           "Gary Harris"
          ],
          [
           "Gary Trent Jr."
          ],
          [
           "Georges Niang"
          ],
          [
           "Giannis Antetokounmpo"
          ],
          [
           "Gordon Hay"
          ],
          [
           "Gradey Dick"
          ],
          [
           "Grant Williams"
          ],
          [
           "Grayson Allen"
          ],
          [
           "Harrison Barnes"
          ],
          [
           "Haywood Highsmith"
          ],
          [
           "Herbert Jones"
          ],
          [
           "Immanuel Quickley"
          ],
          [
           "Isaac Okoro"
          ],
          [
           "Isaiah Hartenstein"
          ],
          [
           "Isaiah Joe"
          ],
          [
           "Isaiah Stewart"
          ],
          [
           "Ivica Zubac"
          ],
          [
           "Jabari Smith Jr."
          ],
          [
           "Jabari Walker"
          ],
          [
           "Jaden Ivey"
          ],
          [
           "Jaden McDaniels"
          ],
          [
           "Jae Crowder"
          ],
          [
           "Jaime Jaquez Jr."
          ],
          [
           "Jakob Poeltl"
          ],
          [
           "Jalen Brunson"
          ],
          [
           "Jalen Duren"
          ],
          [
           "Jalen Green"
          ],
          [
           "Jalen Johnson"
          ],
          [
           "Jalen Suggs"
          ],
          [
           "Jalen Williams"
          ],
          [
           "Jamal Murray"
          ],
          [
           "James Harden"
          ],
          [
           "James Wiseman"
          ],
          [
           "Jaren Jackson Jr."
          ],
          [
           "Jarrett Allen"
          ],
          [
           "Jaylen Brown"
          ],
          [
           "Jayson Tatum"
          ],
          [
           "Jeff Green"
          ],
          [
           "Jerami Grant"
          ],
          [
           "Jeremy Sochan"
          ],
          [
           "Jimmy Butler"
          ],
          [
           "Joe Ingles"
          ],
          [
           "Joel Embiid"
          ],
          [
           "John Collins"
          ],
          [
           "John Konchar"
          ],
          [
           "Jonas Valanci"
          ],
          [
           "Jonathan Kuminga"
          ],
          [
           "Jordan Clarkson"
          ],
          [
           "Jordan Hawkins"
          ],
          [
           "Jordan Poole"
          ],
          [
           "Josh Giddey"
          ],
          [
           "Josh Green"
          ],
          [
           "Josh Hart"
          ],
          [
           "Josh Richardson"
          ],
          [
           "Jrue Holiday"
          ],
          [
           "Julian Champagnie"
          ],
          [
           "Julius Randle"
          ],
          [
           "Jusuf Nurkic"
          ],
          [
           "Karl-Anthony Towns"
          ],
          [
           "Kawhi Leonard"
          ],
          [
           "Keegan Murray"
          ],
          [
           "Keldon Johnson"
          ],
          [
           "Kelly Olynyk"
          ],
          [
           "Kelly Oubre Jr."
          ],
          [
           "Kentavious Caldwell-Pope"
          ],
          [
           "Kevin Durant"
          ],
          [
           "Kevin Huerter"
          ],
          [
           "Kevon Looney"
          ],
          [
           "Keyonte George"
          ],
          [
           "Khris Middleton"
          ],
          [
           "Klay Thompson"
          ],
          [
           "Kris Dunn"
          ],
          [
           "Kris Murray"
          ],
          [
           "Kristaps Porzingis"
          ],
          [
           "Kyle Anderson"
          ],
          [
           "Kyle Kuzma"
          ],
          [
           "Kyle Lowry"
          ],
          [
           "Kyrie Irving"
          ],
          [
           "Larry Nance Jr."
          ],
          [
           "Lauri Markkanen"
          ],
          [
           "LeBron James"
          ],
          [
           "Luguentz Dort"
          ],
          [
           "Luka Doncic"
          ],
          [
           "Malaki Branham"
          ],
          [
           "Malcolm Brogdon"
          ],
          [
           "Malik Beasley"
          ],
          [
           "Malik Monk"
          ],
          [
           "Marcus Sasser"
          ],
          [
           "Matisse Thybulle"
          ],
          [
           "Max Strus"
          ],
          [
           "Michael Porter Jr."
          ],
          [
           "Mikal Bridges"
          ],
          [
           "Mike Conley"
          ],
          [
           "Miles Bridges"
          ],
          [
           "Miles McBride"
          ],
          [
           "Moritz Wagner"
          ],
          [
           "Moses Moody"
          ],
          [
           "Myles Turner"
          ],
          [
           "Naji Marshall"
          ],
          [
           "Naz Reid"
          ],
          [
           "Nic Claxton"
          ],
          [
           "Nick Richards"
          ],
          [
           "Nickeil Alexander-Walker"
          ],
          [
           "Nicolas Batum"
          ],
          [
           "Nikola Jokic"
          ],
          [
           "Nikola Vucevic"
          ],
          [
           "Norman Powell"
          ],
          [
           "OG Anunoby"
          ],
          [
           "Obi Toppin"
          ],
          [
           "Ochai Agbaji"
          ],
          [
           "Onyeka Okongwu"
          ],
          [
           "P.J. Washington"
          ],
          [
           "Paolo Banchero"
          ],
          [
           "Pascal Siakam"
          ],
          [
           "Pat Connaughton"
          ],
          [
           "Patrick Beverley"
          ],
          [
           "Patrick Williams"
          ],
          [
           "Paul George"
          ],
          [
           "Paul Reed"
          ],
          [
           "Payton Pritchard"
          ],
          [
           "Peyton Watson"
          ],
          [
           "Precious Achiuwa"
          ],
          [
           "RJ Barrett"
          ],
          [
           "Reggie Jackson"
          ],
          [
           "Royce O'Neale"
          ],
          [
           "Rudy Gobert"
          ],
          [
           "Rui Hachimura"
          ],
          [
           "Russell Westbrook"
          ],
          [
           "Saddiq Bey"
          ],
          [
           "Sam Hauser"
          ],
          [
           "Sam Merrill"
          ],
          [
           "Santi Aldama"
          ],
          [
           "Scoot Henderson"
          ],
          [
           "Scottie Barnes"
          ],
          [
           "Shaedon Sharpe"
          ],
          [
           "Shai Gilgeous-Alexander"
          ],
          [
           "Simone Fontecchio"
          ],
          [
           "Spencer Dinwiddie"
          ],
          [
           "Stephen Curry"
          ],
          [
           "T.J. McConnell"
          ],
          [
           "Taurean Prince"
          ],
          [
           "Terance Mann"
          ],
          [
           "Terry Rozier"
          ],
          [
           "Tim Hardaway Jr."
          ],
          [
           "Tobias Harris"
          ],
          [
           "Toumani Camara"
          ],
          [
           "Trae Young"
          ],
          [
           "Trayce Jackson-Davis"
          ],
          [
           "Tre Jones"
          ],
          [
           "Trey Lyles"
          ],
          [
           "Trey Murphy III"
          ],
          [
           "Tyler Herro"
          ],
          [
           "Tyrese Haliburton"
          ],
          [
           "Tyrese Maxey"
          ],
          [
           "Tyus Jones"
          ],
          [
           "Vasilije Micic"
          ],
          [
           "Victor Wembanyama"
          ],
          [
           "Vince Williams Jr."
          ],
          [
           "Walker Kessler"
          ],
          [
           "Wendell Carter Jr."
          ],
          [
           "Zach Collins"
          ],
          [
           "Zion Williamson"
          ]
         ],
         "hovertemplate": "PCA1=%{x}<br>PCA2=%{y}<br>Name=%{customdata[0]}<br>Cluster=%{marker.color}<extra></extra>",
         "legendgroup": "",
         "marker": {
          "color": [
           3,
           1,
           0,
           0,
           0,
           1,
           1,
           5,
           3,
           4,
           6,
           8,
           8,
           7,
           0,
           5,
           2,
           0,
           7,
           1,
           5,
           8,
           0,
           3,
           8,
           8,
           7,
           8,
           2,
           8,
           3,
           8,
           1,
           7,
           2,
           0,
           7,
           1,
           7,
           8,
           4,
           0,
           3,
           7,
           0,
           6,
           7,
           7,
           2,
           4,
           7,
           2,
           6,
           8,
           8,
           2,
           0,
           1,
           2,
           0,
           2,
           4,
           3,
           2,
           8,
           7,
           8,
           6,
           0,
           7,
           7,
           2,
           7,
           0,
           5,
           2,
           1,
           4,
           3,
           6,
           1,
           0,
           0,
           4,
           3,
           8,
           7,
           0,
           4,
           1,
           4,
           5,
           8,
           4,
           0,
           4,
           0,
           0,
           0,
           7,
           0,
           6,
           1,
           0,
           6,
           0,
           0,
           8,
           0,
           4,
           0,
           3,
           2,
           6,
           7,
           0,
           8,
           2,
           2,
           2,
           6,
           3,
           6,
           8,
           2,
           0,
           8,
           0,
           5,
           1,
           5,
           0,
           4,
           3,
           3,
           7,
           1,
           7,
           8,
           4,
           0,
           1,
           1,
           4,
           5,
           3,
           3,
           2,
           0,
           1,
           8,
           0,
           1,
           2,
           1,
           6,
           7,
           2,
           1,
           8,
           0,
           3,
           3,
           8,
           1,
           2,
           3,
           8,
           5,
           4,
           2,
           1,
           7,
           4,
           7,
           7,
           4,
           1,
           0,
           8,
           7,
           8,
           1,
           3,
           0,
           3,
           0,
           0,
           6,
           6,
           4,
           4,
           5,
           3,
           1,
           0,
           0,
           0,
           6,
           0,
           5,
           5,
           4,
           1,
           0,
           7,
           3,
           1,
           0,
           3,
           8,
           7,
           4,
           6,
           0,
           8,
           0,
           4,
           1,
           0,
           7,
           8,
           8,
           2,
           4,
           7,
           7,
           2,
           4,
           0,
           7,
           1,
           8,
           0,
           2,
           6,
           8,
           4,
           1,
           7,
           2,
           2,
           7,
           7,
           5,
           1,
           6,
           3,
           3,
           5
          ],
          "coloraxis": "coloraxis",
          "symbol": "circle"
         },
         "mode": "markers",
         "name": "",
         "orientation": "v",
         "showlegend": false,
         "type": "scatter",
         "x": [
          -1.763330318257862,
          1.3789205708423995,
          -1.9344166174160546,
          -1.7479749179458617,
          -1.8719496357113994,
          1.145614751658919,
          -0.5162964256325151,
          0.011609302812961759,
          -2.020466413367738,
          -1.3350609363090886,
          -4.935058007593241,
          1.5525565968642925,
          -0.679151553657809,
          4.532504327888081,
          -2.3571773941490357,
          -0.9354921600014532,
          3.671826669245418,
          -3.548875032090111,
          2.3936026615578503,
          -0.754497197872273,
          0.17850797175357905,
          0.33236558993452747,
          -2.970410309987943,
          -0.46449536951843606,
          0.24641686306749888,
          -0.3956967259391796,
          2.555787343232413,
          0.039284020399301636,
          3.9775255814943513,
          0.8798542453244855,
          -2.844281094049069,
          -0.18291247686856552,
          0.5356919929672932,
          3.0521103272067616,
          4.328395518021927,
          -1.1428651367398466,
          3.3694198924734162,
          -0.11455989400135094,
          2.217877604780657,
          1.659363772869855,
          -1.2774515602787746,
          -1.4245939514710138,
          -1.3848716691618657,
          5.256152445756349,
          -1.7663132025736403,
          -4.273592926359073,
          1.8212892311021471,
          2.442546740049337,
          3.479519189070572,
          -1.0240595956895373,
          3.227690056645928,
          4.6315331759862355,
          -4.219367361575241,
          0.4185836326572572,
          -0.1490783308193822,
          4.108603717600077,
          -2.7146080096033165,
          -0.04814150824041829,
          3.9615188372925543,
          -0.8290430904053917,
          3.705919176141558,
          -2.7202070852502684,
          -1.1354127027442211,
          3.53238422649213,
          -0.5701178459324395,
          2.6982544948995058,
          0.95914097393656,
          -5.3299373096862155,
          -3.4205747608374635,
          1.8280948947510423,
          3.0829972976424225,
          5.439597440783712,
          2.196396523891814,
          -0.9599622608850532,
          -0.29056827866040286,
          4.191195847567549,
          -0.02370240968206659,
          -2.8544518466267976,
          -0.7023571833237284,
          -3.321153641621373,
          0.06974392748021867,
          -1.8890276255360825,
          -1.3785341699550722,
          -0.9491970980556023,
          -2.215790771185016,
          0.29838270212949664,
          4.174170283535878,
          -1.4140607227760729,
          -1.5991077110665837,
          0.5036814685609616,
          -1.7913070234889197,
          0.8176927647464671,
          0.32577642093248194,
          -1.2598823965859687,
          -0.9530828837355587,
          -0.796711888284844,
          -2.238679448983925,
          -2.069091102296898,
          -2.201568502529193,
          3.3253453025169626,
          -2.7981768954025443,
          -2.931590649898152,
          0.2939367058823228,
          -3.4752013202625474,
          -3.8313685282425425,
          -1.330634157642929,
          -2.986066830370976,
          0.9508843795874455,
          -2.2235727368836864,
          -1.8868406566287872,
          -1.2100190588896291,
          -2.5905169620270416,
          6.004921961544844,
          -3.368267652677643,
          2.3802547126476425,
          -1.5181379488710736,
          -0.28176220143134023,
          2.6506184313650256,
          4.91775108139384,
          4.395113259932731,
          -3.7335663234002467,
          -0.5906144879863614,
          -2.5609780037494847,
          1.4044349344724196,
          3.8743241040863885,
          -2.4698786758719287,
          0.6036389950952308,
          -1.6991432850958743,
          2.15664759728836,
          0.12623154644608492,
          3.958893402881193,
          -2.497666349941603,
          -2.311933492287316,
          -1.5214519164565492,
          -0.8226982203680939,
          2.8383531885319533,
          0.4180263620673664,
          2.7573526419402117,
          0.537336098308356,
          -2.2421356223844344,
          -0.9450799989321825,
          0.21764910943517296,
          1.2892031704425408,
          -1.8637259415528997,
          0.9668999686928924,
          -1.852100964649981,
          -0.1147956801875797,
          3.03077310241761,
          -0.978155715856449,
          -0.5404509669976483,
          -0.2814861209098678,
          -1.4076268036964579,
          -0.3559933316559606,
          3.6943839111142673,
          0.24115084463522804,
          -2.8938263518859957,
          2.2275411547105133,
          3.4120445729751943,
          1.4442133341655874,
          0.042295959914109185,
          -3.487623604010425,
          -1.0561757899105362,
          0.06290318350172075,
          1.579721271545737,
          1.3337174137638834,
          4.787481112188039,
          -2.6188271663758433,
          -0.46597565283826764,
          2.6966746058294464,
          -1.4740208940939943,
          5.531366023947291,
          0.173711542083197,
          3.148659842876004,
          -1.004958783886934,
          3.3569692799303823,
          3.1500429354657253,
          -2.95668669234767,
          -0.26871182068172167,
          -1.046865613153509,
          1.424189368650816,
          2.6994749648607157,
          0.5154056842060213,
          0.36815834531497454,
          -2.4851332363325893,
          -1.7033995968992826,
          -1.6924301686578116,
          -1.4777768781908975,
          -2.6197792593099742,
          -3.7493081540586384,
          -4.6172575519979056,
          -1.076004501226415,
          -2.279716526874284,
          1.746708872878042,
          -1.277294379607522,
          -0.5084748000983572,
          -2.212033189634943,
          -2.4971591313588815,
          -2.841636167428647,
          -4.045951740243614,
          -1.7674590674447788,
          2.1062012331493323,
          0.4053835211719761,
          -1.3786255578403703,
          1.1765901744639071,
          -1.2991151364614846,
          2.693347893071683,
          -2.267466476308536,
          2.0134665480521785,
          -2.7799249303071156,
          -3.2900256276588773,
          -0.3511871662015901,
          2.2520701264983,
          -0.7192647597112756,
          -5.423932363807155,
          -1.8751255519386847,
          1.4586428646867853,
          -2.206288484330395,
          -1.3255803538596875,
          0.603028001030511,
          -2.103868533992231,
          2.7893340809061273,
          1.1363651650270037,
          0.6072738324858047,
          5.469982057235484,
          -1.834010919487878,
          1.6463928949191655,
          4.64095264175981,
          4.738144593590173,
          -2.266471209882571,
          -1.8935024625213006,
          2.9761074465531894,
          0.7196795430113826,
          0.5408530792619597,
          -3.427554944370849,
          7.110426173154702,
          -3.9453425522190413,
          1.331790068029291,
          -2.3687705500945975,
          -0.5733937869456006,
          3.4946294998082923,
          5.576820009186633,
          3.846270710111164,
          3.1434074172290694,
          1.8449939530412323,
          -0.28291747011428914,
          -0.6705427484070803,
          -5.272400480420947,
          -2.6766064169198076,
          -1.0142580021799943,
          0.015217315739983774
         ],
         "xaxis": "x",
         "y": [
          2.399865120292065,
          -1.871515303302674,
          -1.687961538122068,
          -1.1276346393679746,
          -1.2310531154849378,
          -2.0396562553002915,
          -2.1516140184530665,
          4.669319547190142,
          2.1372366408345074,
          -3.275035761688455,
          4.897078118070945,
          -0.45392941971589135,
          -0.121608424552216,
          -0.48563832557906955,
          -1.2186560827446016,
          4.813836928920762,
          1.4698994327456967,
          0.39321809121261353,
          -0.4603461899132817,
          -1.5104189061197466,
          5.959228331376047,
          -0.700394613022933,
          -1.5699840534277665,
          2.143064399649189,
          -0.5171586111902395,
          -0.763062703587146,
          0.03467111612759714,
          -0.910308523734155,
          1.7635923963279978,
          -0.523088205110128,
          1.210117554727718,
          -0.7029074132756922,
          -2.4786916700523896,
          -0.9401373241193822,
          1.3253607383801913,
          -1.5259305291772904,
          0.22854893900607282,
          -1.9133081889158035,
          -1.8787666601597846,
          0.12769371504996663,
          -2.3045149765260313,
          -1.2872087306457654,
          1.6055686264522375,
          -1.6989758794872265,
          -1.2358593076546391,
          4.4327258403957295,
          -1.4454418081034113,
          -0.2878095392724406,
          0.6924501676624334,
          -2.375697224147334,
          -0.7952647365602723,
          0.42128103730359157,
          3.7380564432286625,
          -0.8673589142446718,
          0.33055368068735974,
          0.22170314969220994,
          -1.327553431495521,
          -2.490775775551848,
          1.0034171186466359,
          -0.7353101856861426,
          2.060793922469462,
          -3.7545432987701286,
          3.789160407534562,
          0.4584767584694365,
          0.16858003536003574,
          -0.9946359820245351,
          -0.6650740310304643,
          3.7940651914999663,
          -2.0113424729601843,
          -1.2672427317983814,
          -0.2838686483415208,
          1.3571769643793565,
          -0.4477395512582067,
          -1.6293620700221794,
          4.298407496207105,
          1.0695146774515316,
          -2.5461323785626777,
          -2.8483047382863558,
          1.2727126759839997,
          3.0611789505603837,
          -1.7538416002479058,
          0.03872129821444445,
          -0.8422295057202436,
          -3.3114192481315543,
          3.1580471317719168,
          1.7607689142604,
          -1.6511269283147079,
          -1.4998759498724041,
          -3.2363861749435108,
          -1.9150908030267473,
          -2.755735105926373,
          5.5432506896200255,
          -0.6351393060177186,
          -2.6410340434337622,
          -0.9364187970651592,
          -3.125169812324172,
          -1.6304904289724678,
          -1.8458005286478567,
          -1.8128780896175656,
          -0.42570771695673154,
          -1.4414707192711578,
          4.397777788745064,
          -3.898017419572586,
          0.137547178575739,
          4.328383874769257,
          -0.887562185898159,
          -0.9064194633407716,
          -0.25401839292762596,
          -1.2585340351160377,
          -3.374032145381281,
          0.2880754210304181,
          2.993036882810844,
          1.0026379837319075,
          3.2791094790048576,
          -0.7079797495353652,
          0.4676323465661572,
          -0.811806405834557,
          1.3746920014472341,
          0.42826253262315855,
          0.4393630351203302,
          3.2910314406711048,
          3.2939553859627373,
          4.4854666308958,
          1.4352775392078678,
          2.008066713010481,
          -0.912804039706736,
          0.23601117253177742,
          -0.14333543497988102,
          2.7464200267431274,
          -1.6854571841634267,
          7.092928262755779,
          0.2792893049934292,
          -2.660288082029756,
          3.0388923693365784,
          1.8433821702321815,
          0.16705154929703614,
          -2.9106931650840657,
          -1.1395358796748776,
          0.19811234648123624,
          -2.4225691882129925,
          -1.1457521728598088,
          -2.3224419082343837,
          -1.2099797377792862,
          -3.2276231178067882,
          3.236890910120514,
          3.753018758410763,
          2.6694756407447437,
          2.5096103058178545,
          -1.2472534639607744,
          -1.2615636402678934,
          0.9893839455442783,
          -0.3293164151979947,
          -1.9382220161314734,
          3.1006524824710198,
          -1.3364494635881696,
          3.444511652759227,
          -1.259361461911016,
          0.7209585919884692,
          -2.2870450389339174,
          -0.19899437803368386,
          -1.5045435381393968,
          2.9286873730611096,
          2.3427533350361887,
          0.5531456185275244,
          -3.341073964006715,
          0.6005288289119992,
          1.7185321883089426,
          0.5541539503849158,
          3.638839538324004,
          -2.968097361468179,
          3.3273909335899488,
          -1.887735514287637,
          -0.11590545507573334,
          -3.7668520702229316,
          -0.6242191305221507,
          -1.4463653987226095,
          -3.745692580420019,
          -2.088617750007148,
          -1.3988151936940634,
          -0.6890983023062599,
          -2.3022949808636266,
          -0.4015959181600812,
          -2.442021827202504,
          1.861404177901872,
          -1.7242218999340044,
          2.2156843216057176,
          -0.9904608051490403,
          0.30174607412170024,
          3.894216203834033,
          2.9121192212140894,
          -2.675292230034017,
          -3.280501483246242,
          5.471992222534534,
          2.0205012938167046,
          -1.7957820194834824,
          -0.7105562675728142,
          -0.019471052411111255,
          -2.124924299670963,
          1.8074784535000805,
          -0.9996281959229113,
          2.934781872171093,
          2.9549330774430587,
          -3.0501664928277568,
          -1.8783606518501526,
          -0.88997196414173,
          0.5353306537555049,
          2.0734524034224417,
          -2.4139018436303545,
          -0.6944531410880872,
          1.0862994972873767,
          0.5022701881748666,
          -0.42774035816215755,
          -3.4232254035408523,
          5.054125888875146,
          0.05146588907957567,
          0.3269223736552794,
          -1.9441441006339995,
          -3.5883972884022977,
          -4.249255241580447,
          -1.6340283633377652,
          -0.2127821030115417,
          1.663410504070025,
          -0.6217160851165954,
          3.347041939449217,
          -2.2740622689988355,
          -1.4048111346073275,
          -1.2772408991028517,
          2.2306940757424227,
          -3.2603138535826073,
          -1.739537093500103,
          -0.7134788450740822,
          -2.7919807018327685,
          1.4014513011239669,
          -1.1414846220643082,
          0.3853718872865027,
          2.8804866008785783,
          -0.18010432363908174,
          -2.3073094562419985,
          -1.847037725503779,
          -0.7219395427362325,
          0.6415289678343398,
          0.5474710967527527,
          -0.809814162990178,
          -0.7281569485583533,
          4.460228028752657,
          -1.7773756426885707,
          3.7148845744710903,
          1.539932915470581,
          2.477938164420892,
          5.1168071232140315
         ],
         "yaxis": "y"
        }
       ],
       "layout": {
        "coloraxis": {
         "colorbar": {
          "title": {
           "text": "Cluster"
          }
         },
         "colorscale": [
          [
           0,
           "#0d0887"
          ],
          [
           0.1111111111111111,
           "#46039f"
          ],
          [
           0.2222222222222222,
           "#7201a8"
          ],
          [
           0.3333333333333333,
           "#9c179e"
          ],
          [
           0.4444444444444444,
           "#bd3786"
          ],
          [
           0.5555555555555556,
           "#d8576b"
          ],
          [
           0.6666666666666666,
           "#ed7953"
          ],
          [
           0.7777777777777778,
           "#fb9f3a"
          ],
          [
           0.8888888888888888,
           "#fdca26"
          ],
          [
           1,
           "#f0f921"
          ]
         ]
        },
        "legend": {
         "tracegroupgap": 0
        },
        "template": {
         "data": {
          "bar": [
           {
            "error_x": {
             "color": "#2a3f5f"
            },
            "error_y": {
             "color": "#2a3f5f"
            },
            "marker": {
             "line": {
              "color": "#E5ECF6",
              "width": 0.5
             },
             "pattern": {
              "fillmode": "overlay",
              "size": 10,
              "solidity": 0.2
             }
            },
            "type": "bar"
           }
          ],
          "barpolar": [
           {
            "marker": {
             "line": {
              "color": "#E5ECF6",
              "width": 0.5
             },
             "pattern": {
              "fillmode": "overlay",
              "size": 10,
              "solidity": 0.2
             }
            },
            "type": "barpolar"
           }
          ],
          "carpet": [
           {
            "aaxis": {
             "endlinecolor": "#2a3f5f",
             "gridcolor": "white",
             "linecolor": "white",
             "minorgridcolor": "white",
             "startlinecolor": "#2a3f5f"
            },
            "baxis": {
             "endlinecolor": "#2a3f5f",
             "gridcolor": "white",
             "linecolor": "white",
             "minorgridcolor": "white",
             "startlinecolor": "#2a3f5f"
            },
            "type": "carpet"
           }
          ],
          "choropleth": [
           {
            "colorbar": {
             "outlinewidth": 0,
             "ticks": ""
            },
            "type": "choropleth"
           }
          ],
          "contour": [
           {
            "colorbar": {
             "outlinewidth": 0,
             "ticks": ""
            },
            "colorscale": [
             [
              0,
              "#0d0887"
             ],
             [
              0.1111111111111111,
              "#46039f"
             ],
             [
              0.2222222222222222,
              "#7201a8"
             ],
             [
              0.3333333333333333,
              "#9c179e"
             ],
             [
              0.4444444444444444,
              "#bd3786"
             ],
             [
              0.5555555555555556,
              "#d8576b"
             ],
             [
              0.6666666666666666,
              "#ed7953"
             ],
             [
              0.7777777777777778,
              "#fb9f3a"
             ],
             [
              0.8888888888888888,
              "#fdca26"
             ],
             [
              1,
              "#f0f921"
             ]
            ],
            "type": "contour"
           }
          ],
          "contourcarpet": [
           {
            "colorbar": {
             "outlinewidth": 0,
             "ticks": ""
            },
            "type": "contourcarpet"
           }
          ],
          "heatmap": [
           {
            "colorbar": {
             "outlinewidth": 0,
             "ticks": ""
            },
            "colorscale": [
             [
              0,
              "#0d0887"
             ],
             [
              0.1111111111111111,
              "#46039f"
             ],
             [
              0.2222222222222222,
              "#7201a8"
             ],
             [
              0.3333333333333333,
              "#9c179e"
             ],
             [
              0.4444444444444444,
              "#bd3786"
             ],
             [
              0.5555555555555556,
              "#d8576b"
             ],
             [
              0.6666666666666666,
              "#ed7953"
             ],
             [
              0.7777777777777778,
              "#fb9f3a"
             ],
             [
              0.8888888888888888,
              "#fdca26"
             ],
             [
              1,
              "#f0f921"
             ]
            ],
            "type": "heatmap"
           }
          ],
          "heatmapgl": [
           {
            "colorbar": {
             "outlinewidth": 0,
             "ticks": ""
            },
            "colorscale": [
             [
              0,
              "#0d0887"
             ],
             [
              0.1111111111111111,
              "#46039f"
             ],
             [
              0.2222222222222222,
              "#7201a8"
             ],
             [
              0.3333333333333333,
              "#9c179e"
             ],
             [
              0.4444444444444444,
              "#bd3786"
             ],
             [
              0.5555555555555556,
              "#d8576b"
             ],
             [
              0.6666666666666666,
              "#ed7953"
             ],
             [
              0.7777777777777778,
              "#fb9f3a"
             ],
             [
              0.8888888888888888,
              "#fdca26"
             ],
             [
              1,
              "#f0f921"
             ]
            ],
            "type": "heatmapgl"
           }
          ],
          "histogram": [
           {
            "marker": {
             "pattern": {
              "fillmode": "overlay",
              "size": 10,
              "solidity": 0.2
             }
            },
            "type": "histogram"
           }
          ],
          "histogram2d": [
           {
            "colorbar": {
             "outlinewidth": 0,
             "ticks": ""
            },
            "colorscale": [
             [
              0,
              "#0d0887"
             ],
             [
              0.1111111111111111,
              "#46039f"
             ],
             [
              0.2222222222222222,
              "#7201a8"
             ],
             [
              0.3333333333333333,
              "#9c179e"
             ],
             [
              0.4444444444444444,
              "#bd3786"
             ],
             [
              0.5555555555555556,
              "#d8576b"
             ],
             [
              0.6666666666666666,
              "#ed7953"
             ],
             [
              0.7777777777777778,
              "#fb9f3a"
             ],
             [
              0.8888888888888888,
              "#fdca26"
             ],
             [
              1,
              "#f0f921"
             ]
            ],
            "type": "histogram2d"
           }
          ],
          "histogram2dcontour": [
           {
            "colorbar": {
             "outlinewidth": 0,
             "ticks": ""
            },
            "colorscale": [
             [
              0,
              "#0d0887"
             ],
             [
              0.1111111111111111,
              "#46039f"
             ],
             [
              0.2222222222222222,
              "#7201a8"
             ],
             [
              0.3333333333333333,
              "#9c179e"
             ],
             [
              0.4444444444444444,
              "#bd3786"
             ],
             [
              0.5555555555555556,
              "#d8576b"
             ],
             [
              0.6666666666666666,
              "#ed7953"
             ],
             [
              0.7777777777777778,
              "#fb9f3a"
             ],
             [
              0.8888888888888888,
              "#fdca26"
             ],
             [
              1,
              "#f0f921"
             ]
            ],
            "type": "histogram2dcontour"
           }
          ],
          "mesh3d": [
           {
            "colorbar": {
             "outlinewidth": 0,
             "ticks": ""
            },
            "type": "mesh3d"
           }
          ],
          "parcoords": [
           {
            "line": {
             "colorbar": {
              "outlinewidth": 0,
              "ticks": ""
             }
            },
            "type": "parcoords"
           }
          ],
          "pie": [
           {
            "automargin": true,
            "type": "pie"
           }
          ],
          "scatter": [
           {
            "marker": {
             "colorbar": {
              "outlinewidth": 0,
              "ticks": ""
             }
            },
            "type": "scatter"
           }
          ],
          "scatter3d": [
           {
            "line": {
             "colorbar": {
              "outlinewidth": 0,
              "ticks": ""
             }
            },
            "marker": {
             "colorbar": {
              "outlinewidth": 0,
              "ticks": ""
             }
            },
            "type": "scatter3d"
           }
          ],
          "scattercarpet": [
           {
            "marker": {
             "colorbar": {
              "outlinewidth": 0,
              "ticks": ""
             }
            },
            "type": "scattercarpet"
           }
          ],
          "scattergeo": [
           {
            "marker": {
             "colorbar": {
              "outlinewidth": 0,
              "ticks": ""
             }
            },
            "type": "scattergeo"
           }
          ],
          "scattergl": [
           {
            "marker": {
             "colorbar": {
              "outlinewidth": 0,
              "ticks": ""
             }
            },
            "type": "scattergl"
           }
          ],
          "scattermapbox": [
           {
            "marker": {
             "colorbar": {
              "outlinewidth": 0,
              "ticks": ""
             }
            },
            "type": "scattermapbox"
           }
          ],
          "scatterpolar": [
           {
            "marker": {
             "colorbar": {
              "outlinewidth": 0,
              "ticks": ""
             }
            },
            "type": "scatterpolar"
           }
          ],
          "scatterpolargl": [
           {
            "marker": {
             "colorbar": {
              "outlinewidth": 0,
              "ticks": ""
             }
            },
            "type": "scatterpolargl"
           }
          ],
          "scatterternary": [
           {
            "marker": {
             "colorbar": {
              "outlinewidth": 0,
              "ticks": ""
             }
            },
            "type": "scatterternary"
           }
          ],
          "surface": [
           {
            "colorbar": {
             "outlinewidth": 0,
             "ticks": ""
            },
            "colorscale": [
             [
              0,
              "#0d0887"
             ],
             [
              0.1111111111111111,
              "#46039f"
             ],
             [
              0.2222222222222222,
              "#7201a8"
             ],
             [
              0.3333333333333333,
              "#9c179e"
             ],
             [
              0.4444444444444444,
              "#bd3786"
             ],
             [
              0.5555555555555556,
              "#d8576b"
             ],
             [
              0.6666666666666666,
              "#ed7953"
             ],
             [
              0.7777777777777778,
              "#fb9f3a"
             ],
             [
              0.8888888888888888,
              "#fdca26"
             ],
             [
              1,
              "#f0f921"
             ]
            ],
            "type": "surface"
           }
          ],
          "table": [
           {
            "cells": {
             "fill": {
              "color": "#EBF0F8"
             },
             "line": {
              "color": "white"
             }
            },
            "header": {
             "fill": {
              "color": "#C8D4E3"
             },
             "line": {
              "color": "white"
             }
            },
            "type": "table"
           }
          ]
         },
         "layout": {
          "annotationdefaults": {
           "arrowcolor": "#2a3f5f",
           "arrowhead": 0,
           "arrowwidth": 1
          },
          "autotypenumbers": "strict",
          "coloraxis": {
           "colorbar": {
            "outlinewidth": 0,
            "ticks": ""
           }
          },
          "colorscale": {
           "diverging": [
            [
             0,
             "#8e0152"
            ],
            [
             0.1,
             "#c51b7d"
            ],
            [
             0.2,
             "#de77ae"
            ],
            [
             0.3,
             "#f1b6da"
            ],
            [
             0.4,
             "#fde0ef"
            ],
            [
             0.5,
             "#f7f7f7"
            ],
            [
             0.6,
             "#e6f5d0"
            ],
            [
             0.7,
             "#b8e186"
            ],
            [
             0.8,
             "#7fbc41"
            ],
            [
             0.9,
             "#4d9221"
            ],
            [
             1,
             "#276419"
            ]
           ],
           "sequential": [
            [
             0,
             "#0d0887"
            ],
            [
             0.1111111111111111,
             "#46039f"
            ],
            [
             0.2222222222222222,
             "#7201a8"
            ],
            [
             0.3333333333333333,
             "#9c179e"
            ],
            [
             0.4444444444444444,
             "#bd3786"
            ],
            [
             0.5555555555555556,
             "#d8576b"
            ],
            [
             0.6666666666666666,
             "#ed7953"
            ],
            [
             0.7777777777777778,
             "#fb9f3a"
            ],
            [
             0.8888888888888888,
             "#fdca26"
            ],
            [
             1,
             "#f0f921"
            ]
           ],
           "sequentialminus": [
            [
             0,
             "#0d0887"
            ],
            [
             0.1111111111111111,
             "#46039f"
            ],
            [
             0.2222222222222222,
             "#7201a8"
            ],
            [
             0.3333333333333333,
             "#9c179e"
            ],
            [
             0.4444444444444444,
             "#bd3786"
            ],
            [
             0.5555555555555556,
             "#d8576b"
            ],
            [
             0.6666666666666666,
             "#ed7953"
            ],
            [
             0.7777777777777778,
             "#fb9f3a"
            ],
            [
             0.8888888888888888,
             "#fdca26"
            ],
            [
             1,
             "#f0f921"
            ]
           ]
          },
          "colorway": [
           "#636efa",
           "#EF553B",
           "#00cc96",
           "#ab63fa",
           "#FFA15A",
           "#19d3f3",
           "#FF6692",
           "#B6E880",
           "#FF97FF",
           "#FECB52"
          ],
          "font": {
           "color": "#2a3f5f"
          },
          "geo": {
           "bgcolor": "white",
           "lakecolor": "white",
           "landcolor": "#E5ECF6",
           "showlakes": true,
           "showland": true,
           "subunitcolor": "white"
          },
          "hoverlabel": {
           "align": "left"
          },
          "hovermode": "closest",
          "mapbox": {
           "style": "light"
          },
          "paper_bgcolor": "white",
          "plot_bgcolor": "#E5ECF6",
          "polar": {
           "angularaxis": {
            "gridcolor": "white",
            "linecolor": "white",
            "ticks": ""
           },
           "bgcolor": "#E5ECF6",
           "radialaxis": {
            "gridcolor": "white",
            "linecolor": "white",
            "ticks": ""
           }
          },
          "scene": {
           "xaxis": {
            "backgroundcolor": "#E5ECF6",
            "gridcolor": "white",
            "gridwidth": 2,
            "linecolor": "white",
            "showbackground": true,
            "ticks": "",
            "zerolinecolor": "white"
           },
           "yaxis": {
            "backgroundcolor": "#E5ECF6",
            "gridcolor": "white",
            "gridwidth": 2,
            "linecolor": "white",
            "showbackground": true,
            "ticks": "",
            "zerolinecolor": "white"
           },
           "zaxis": {
            "backgroundcolor": "#E5ECF6",
            "gridcolor": "white",
            "gridwidth": 2,
            "linecolor": "white",
            "showbackground": true,
            "ticks": "",
            "zerolinecolor": "white"
           }
          },
          "shapedefaults": {
           "line": {
            "color": "#2a3f5f"
           }
          },
          "ternary": {
           "aaxis": {
            "gridcolor": "white",
            "linecolor": "white",
            "ticks": ""
           },
           "baxis": {
            "gridcolor": "white",
            "linecolor": "white",
            "ticks": ""
           },
           "bgcolor": "#E5ECF6",
           "caxis": {
            "gridcolor": "white",
            "linecolor": "white",
            "ticks": ""
           }
          },
          "title": {
           "x": 0.05
          },
          "xaxis": {
           "automargin": true,
           "gridcolor": "white",
           "linecolor": "white",
           "ticks": "",
           "title": {
            "standoff": 15
           },
           "zerolinecolor": "white",
           "zerolinewidth": 2
          },
          "yaxis": {
           "automargin": true,
           "gridcolor": "white",
           "linecolor": "white",
           "ticks": "",
           "title": {
            "standoff": 15
           },
           "zerolinecolor": "white",
           "zerolinewidth": 2
          }
         }
        },
        "title": {
         "text": "PCA and KMeans Clustering"
        },
        "xaxis": {
         "anchor": "y",
         "domain": [
          0,
          1
         ],
         "title": {
          "text": "PCA1"
         }
        },
        "yaxis": {
         "anchor": "x",
         "domain": [
          0,
          1
         ],
         "title": {
          "text": "PCA2"
         }
        }
       }
      }
     },
     "metadata": {},
     "output_type": "display_data"
    }
   ],
   "source": [
    "#Create a new model with 9 clusters\n",
    "kmeans = KMeans(n_clusters=9, random_state=1)\n",
    "clusters = kmeans.fit_predict(pca_result)\n",
    "\n",
    "pca_df = pd.DataFrame(data=pca_result, columns=['PCA1', 'PCA2'])\n",
    "pca_df['Cluster'] = clusters\n",
    "pca_df['Name'] = dfPlayerCol['Name']\n",
    "\n",
    "fig = px.scatter(pca_df, x='PCA1', y='PCA2', color='Cluster', title='PCA and KMeans Clustering', hover_data={'Name': True}) #Plot the new model in a scatter plot\n",
    "fig.show()"
   ]
  },
  {
   "cell_type": "code",
   "execution_count": 22,
   "metadata": {},
   "outputs": [
    {
     "name": "stdout",
     "output_type": "stream",
     "text": [
      "|     | name                     |   Cluster |\n",
      "|----:|:-------------------------|----------:|\n",
      "|  59 | De'Andre Hunter          |         0 |\n",
      "| 105 | Jabari Smith Jr.         |         0 |\n",
      "|  35 | Caleb Martin             |         0 |\n",
      "| 199 | P.J. Washington          |         0 |\n",
      "| 197 | Ochai Agbaji             |         0 |\n",
      "|  41 | Cedi O                   |         0 |\n",
      "| 195 | OG Anunoby               |         0 |\n",
      "|  44 | Christian Braun          |         0 |\n",
      "| 103 | Isaiah Stewart           |         0 |\n",
      "| 187 | Naz Reid                 |         0 |\n",
      "| 186 | Naji Marshall            |         0 |\n",
      "| 100 | Isaac Okoro              |         0 |\n",
      "| 184 | Moses Moody              |         0 |\n",
      "| 204 | Patrick Williams         |         0 |\n",
      "|  98 | Herbert Jones            |         0 |\n",
      "|  97 | Haywood Highsmith        |         0 |\n",
      "|  56 | David Roddy              |         0 |\n",
      "|  96 | Harrison Barnes          |         0 |\n",
      "| 140 | Josh Hart                |         0 |\n",
      "|  94 | Grant Williams           |         0 |\n",
      "|  68 | Derrick Jones Jr.        |         0 |\n",
      "|  87 | GG Jackson               |         0 |\n",
      "| 148 | Keegan Murray            |         0 |\n",
      "| 160 | Kris Murray              |         0 |\n",
      "|  73 | Dillon Brooks            |         0 |\n",
      "| 151 | Kelly Oubre Jr.          |         0 |\n",
      "|  82 | Dyson Daniels            |         0 |\n",
      "| 178 | Michael Porter Jr.       |         0 |\n",
      "| 106 | Jabari Walker            |         0 |\n",
      "| 196 | Obi Toppin               |         0 |\n",
      "|  81 | Duop Reath               |         0 |\n",
      "| 115 | Jalen Johnson            |         0 |\n",
      "| 125 | Jeff Green               |         0 |\n",
      "| 208 | Peyton Watson            |         0 |\n",
      "| 233 | Toumani Camara           |         0 |\n",
      "|  14 | Anthony Black            |         0 |\n",
      "| 127 | Jeremy Sochan            |         0 |\n",
      "|  17 | Ausar Thompson           |         0 |\n",
      "| 229 | Terance Mann             |         0 |\n",
      "| 110 | Jaime Jaquez Jr.         |         0 |\n",
      "|   3 | Aaron Wiggins            |         0 |\n",
      "|   4 | Al Horford               |         0 |\n",
      "|   2 | Aaron Nesmith            |         0 |\n",
      "| 219 | Santi Aldama             |         0 |\n",
      "| 131 | John Collins             |         0 |\n",
      "| 108 | Jaden McDaniels          |         0 |\n",
      "| 214 | Rui Hachimura            |         0 |\n",
      "|  22 | Bilal Coulibaly          |         0 |\n",
      "| 216 | Saddiq Bey               |         0 |\n",
      "| 158 | Klay Thompson            |         1 |\n",
      "|   1 | Aaron Holiday            |         1 |\n",
      "| 142 | Jrue Holiday             |         1 |\n",
      "|  89 | Gary Trent Jr.           |         1 |\n",
      "|   6 | Alex Caruso              |         1 |\n",
      "|   5 | Alec Burks               |         1 |\n",
      "| 154 | Kevin Huerter            |         1 |\n",
      "| 149 | Keldon Johnson           |         1 |\n",
      "| 152 | Kentavious Caldwell-Pope |         1 |\n",
      "|  76 | Donte DiVincenzo         |         1 |\n",
      "| 141 | Josh Richardson          |         1 |\n",
      "| 164 | Kyle Lowry               |         1 |\n",
      "| 171 | Malaki Branham           |         1 |\n",
      "| 207 | Payton Pritchard         |         1 |\n",
      "| 245 | Vince Williams Jr.       |         1 |\n",
      "|  32 | Buddy Hield              |         1 |\n",
      "| 203 | Patrick Beverley         |         1 |\n",
      "|  37 | Cameron Johnson          |         1 |\n",
      "| 218 | Sam Merrill              |         1 |\n",
      "|  80 | Duncan Robinson          |         1 |\n",
      "| 129 | Joe Ingles               |         1 |\n",
      "| 194 | Norman Powell            |         1 |\n",
      "| 177 | Max Strus                |         1 |\n",
      "|  19 | Ayo Dosunmu              |         1 |\n",
      "| 231 | Tim Hardaway Jr.         |         1 |\n",
      "| 136 | Jordan Hawkins           |         1 |\n",
      "| 182 | Miles McBride            |         1 |\n",
      "| 238 | Trey Murphy III          |         1 |\n",
      "|  57 | Davion Mitchell          |         1 |\n",
      "| 102 | Isaiah Joe               |         1 |\n",
      "| 117 | Jalen Williams           |         2 |\n",
      "| 147 | Kawhi Leonard            |         2 |\n",
      "| 112 | Jalen Brunson            |         2 |\n",
      "| 124 | Jayson Tatum             |         2 |\n",
      "| 157 | Khris Middleton          |         2 |\n",
      "| 241 | Tyrese Maxey             |         2 |\n",
      "| 240 | Tyrese Haliburton        |         2 |\n",
      "| 234 | Trae Young               |         2 |\n",
      "|  16 | Anthony Edwards          |         2 |\n",
      "| 227 | T.J. McConnell           |         2 |\n",
      "| 223 | Shai Gilgeous-Alexander  |         2 |\n",
      "|  28 | Brandon Ingram           |         2 |\n",
      "|  34 | Cade Cunningham          |         2 |\n",
      "|  48 | Collin Sexton            |         2 |\n",
      "| 153 | Kevin Durant             |         2 |\n",
      "|  51 | Damian Lillard           |         2 |\n",
      "|  55 | Darius Garland           |         2 |\n",
      "| 119 | James Harden             |         2 |\n",
      "| 118 | Jamal Murray             |         2 |\n",
      "|  60 | DeMar DeRozan            |         2 |\n",
      "|  63 | Dejounte Murray          |         2 |\n",
      "| 170 | Luka Doncic              |         2 |\n",
      "|  75 | Donovan Mitchell         |         2 |\n",
      "|  71 | Devin Booker             |         2 |\n",
      "|  58 | De'Aaron Fox             |         2 |\n",
      "| 165 | Kyrie Irving             |         2 |\n",
      "| 247 | Wendell Carter Jr.       |         3 |\n",
      "| 121 | Jaren Jackson Jr.        |         3 |\n",
      "| 248 | Zach Collins             |         3 |\n",
      "| 161 | Kristaps Porzingis       |         3 |\n",
      "| 162 | Kyle Anderson            |         3 |\n",
      "| 209 | Precious Achiuwa         |         3 |\n",
      "| 146 | Karl-Anthony Towns       |         3 |\n",
      "| 206 | Paul Reed                |         3 |\n",
      "| 145 | Jusuf Nurkic             |         3 |\n",
      "| 133 | Jonas Valanci            |         3 |\n",
      "| 193 | Nikola Vucevic           |         3 |\n",
      "| 185 | Myles Turner             |         3 |\n",
      "| 183 | Moritz Wagner            |         3 |\n",
      "| 166 | Larry Nance Jr.          |         3 |\n",
      "| 134 | Jonathan Kuminga         |         3 |\n",
      "|   0 | Aaron Gordon             |         3 |\n",
      "|  62 | Deandre Ayton            |         3 |\n",
      "|   8 | Amen Thompson            |         3 |\n",
      "|  30 | Brook Lopez              |         3 |\n",
      "| 111 | Jakob Poeltl             |         3 |\n",
      "|  42 | Chet Holmgren            |         3 |\n",
      "|  78 | Draymond Green           |         3 |\n",
      "|  23 | Bobby Portis             |         3 |\n",
      "|  84 | Evan Mobley              |         3 |\n",
      "|  49 | Corey Kispert            |         4 |\n",
      "|  90 | Georges Niang            |         4 |\n",
      "|  88 | Gary Harris              |         4 |\n",
      "| 191 | Nicolas Batum            |         4 |\n",
      "| 190 | Nickeil Alexander-Walker |         4 |\n",
      "|  40 | Cason Wallace            |         4 |\n",
      "|  61 | Dean Wade                |         4 |\n",
      "| 176 | Matisse Thybulle         |         4 |\n",
      "|  77 | Dorian Finney-Smith      |         4 |\n",
      "| 173 | Malik Beasley            |         4 |\n",
      "|  83 | Eric Gordon              |         4 |\n",
      "| 143 | Julian Champagnie        |         4 |\n",
      "|  93 | Gradey Dick              |         4 |\n",
      "| 132 | John Konchar             |         4 |\n",
      "|  95 | Grayson Allen            |         4 |\n",
      "| 139 | Josh Green               |         4 |\n",
      "| 202 | Pat Connaughton          |         4 |\n",
      "| 212 | Royce O'Neale            |         4 |\n",
      "| 217 | Sam Hauser               |         4 |\n",
      "| 224 | Simone Fontecchio        |         4 |\n",
      "| 169 | Luguentz Dort            |         4 |\n",
      "|   9 | Amir Coffey              |         4 |\n",
      "| 228 | Taurean Prince           |         4 |\n",
      "| 109 | Jae Crowder              |         4 |\n",
      "| 237 | Trey Lyles               |         4 |\n",
      "|   7 | Alperen Sengun           |         5 |\n",
      "| 244 | Victor Wembanyama        |         5 |\n",
      "| 201 | Pascal Siakam            |         5 |\n",
      "|  20 | Bam Adebayo              |         5 |\n",
      "| 192 | Nikola Jokic             |         5 |\n",
      "| 200 | Paolo Banchero           |         5 |\n",
      "|  15 | Anthony Davis            |         5 |\n",
      "| 168 | LeBron James             |         5 |\n",
      "| 249 | Zion Williamson          |         5 |\n",
      "| 144 | Julius Randle            |         5 |\n",
      "|  91 | Giannis Antetokounmpo    |         5 |\n",
      "| 130 | Joel Embiid              |         5 |\n",
      "|  74 | Domantas Sabonis         |         5 |\n",
      "| 128 | Jimmy Butler             |         5 |\n",
      "| 235 | Trayce Jackson-Davis     |         6 |\n",
      "| 104 | Ivica Zubac              |         6 |\n",
      "|  45 | Clint Capela             |         6 |\n",
      "|  79 | Drew Eubanks             |         6 |\n",
      "| 189 | Nick Richards            |         6 |\n",
      "| 188 | Nic Claxton              |         6 |\n",
      "| 120 | James Wiseman            |         6 |\n",
      "|  52 | Daniel Gafford           |         6 |\n",
      "|  10 | Andre Drummond           |         6 |\n",
      "| 198 | Onyeka Okongwu           |         6 |\n",
      "| 113 | Jalen Duren              |         6 |\n",
      "| 101 | Isaiah Hartenstein       |         6 |\n",
      "|  67 | Dereck Lively II         |         6 |\n",
      "| 155 | Kevon Looney             |         6 |\n",
      "| 122 | Jarrett Allen            |         6 |\n",
      "| 246 | Walker Kessler           |         6 |\n",
      "| 213 | Rudy Gobert              |         6 |\n",
      "|  36 | Cam Thomas               |         7 |\n",
      "| 226 | Stephen Curry            |         7 |\n",
      "|  33 | CJ McCollum              |         7 |\n",
      "| 205 | Paul George              |         7 |\n",
      "| 220 | Scoot Henderson          |         7 |\n",
      "|  99 | Immanuel Quickley        |         7 |\n",
      "|  69 | Derrick White            |         7 |\n",
      "| 137 | Jordan Poole             |         7 |\n",
      "| 135 | Jordan Clarkson          |         7 |\n",
      "|  13 | Anfernee Simons          |         7 |\n",
      "| 230 | Terry Rozier             |         7 |\n",
      "|  26 | Bradley Beal             |         7 |\n",
      "| 211 | Reggie Jackson           |         7 |\n",
      "|  18 | Austin Reaves            |         7 |\n",
      "|  43 | Chris Paul               |         7 |\n",
      "| 225 | Spencer Dinwiddie        |         7 |\n",
      "| 243 | Vasilije Micic           |         7 |\n",
      "| 174 | Malik Monk               |         7 |\n",
      "| 175 | Marcus Sasser            |         7 |\n",
      "| 156 | Keyonte George           |         7 |\n",
      "|  38 | Cameron Payne            |         7 |\n",
      "| 242 | Tyus Jones               |         7 |\n",
      "| 180 | Mike Conley              |         7 |\n",
      "|  72 | Devin Vassell            |         7 |\n",
      "|  50 | D'Angelo Russell         |         7 |\n",
      "|  70 | Desmond Bane             |         7 |\n",
      "|  47 | Cole Anthony             |         7 |\n",
      "|  46 | Coby White               |         7 |\n",
      "| 239 | Tyler Herro              |         7 |\n",
      "|  86 | Fred VanVleet            |         7 |\n",
      "|  65 | Dennis Schroder          |         7 |\n",
      "| 172 | Malcolm Brogdon          |         7 |\n",
      "| 114 | Jalen Green              |         7 |\n",
      "| 107 | Jaden Ivey               |         8 |\n",
      "| 236 | Tre Jones                |         8 |\n",
      "| 232 | Tobias Harris            |         8 |\n",
      "|  12 | Andrew Wiggins           |         8 |\n",
      "|  11 | Andrew Nembhard          |         8 |\n",
      "| 126 | Jerami Grant             |         8 |\n",
      "| 123 | Jaylen Brown             |         8 |\n",
      "| 163 | Kyle Kuzma               |         8 |\n",
      "|  31 | Bruce Brown              |         8 |\n",
      "| 222 | Shaedon Sharpe           |         8 |\n",
      "|  66 | Dennis Smith             |         8 |\n",
      "| 167 | Lauri Markkanen          |         8 |\n",
      "|  64 | Deni Avdija              |         8 |\n",
      "| 159 | Kris Dunn                |         8 |\n",
      "|  54 | Dario Saric              |         8 |\n",
      "| 179 | Mikal Bridges            |         8 |\n",
      "| 181 | Miles Bridges            |         8 |\n",
      "|  53 | Dante Exum               |         8 |\n",
      "| 150 | Kelly Olynyk             |         8 |\n",
      "|  21 | Bennedict Mathurin       |         8 |\n",
      "|  85 | Franz Wagner             |         8 |\n",
      "|  92 | Gordon Hay               |         8 |\n",
      "| 138 | Josh Giddey              |         8 |\n",
      "|  29 | Brandon Miller           |         8 |\n",
      "|  27 | Brandin Podziemski       |         8 |\n",
      "| 210 | RJ Barrett               |         8 |\n",
      "| 215 | Russell Westbrook        |         8 |\n",
      "|  25 | Bojan Bogdanovic         |         8 |\n",
      "|  24 | Bogdan Bogdanovic        |         8 |\n",
      "| 221 | Scottie Barnes           |         8 |\n",
      "|  39 | Caris LeVert             |         8 |\n",
      "| 116 | Jalen Suggs              |         8 |\n"
     ]
    }
   ],
   "source": [
    "#Create a new dataframe to see which cluster each player is put in\n",
    "new_df_cluster = pd.DataFrame()\n",
    "dfPlayerCol = scaled_df.reset_index()\n",
    "new_df_cluster['name'] = dfPlayerCol['Name']\n",
    "new_df_cluster['Cluster'] = clusters\n",
    "new_cluster_sorted= new_df_cluster.sort_values(by='Cluster', ascending=True)\n",
    "\n",
    "print(new_cluster_sorted.to_markdown())"
   ]
  },
  {
   "cell_type": "markdown",
   "metadata": {},
   "source": [
    "To find out which players are the most similar to each other, we will use euclidean distance.  "
   ]
  },
  {
   "cell_type": "code",
   "execution_count": 23,
   "metadata": {},
   "outputs": [
    {
     "data": {
      "text/plain": [
       "['Paolo Banchero',\n",
       " 'Jimmy Butler',\n",
       " 'Kevin Durant',\n",
       " 'Kawhi Leonard',\n",
       " 'Julius Randle',\n",
       " 'DeMar DeRozan',\n",
       " 'Jayson Tatum',\n",
       " 'Nikola Jokic',\n",
       " 'Jalen Williams',\n",
       " 'Brandon Ingram']"
      ]
     },
     "execution_count": 23,
     "metadata": {},
     "output_type": "execute_result"
    }
   ],
   "source": [
    "#Create a function where you can enter a player name and it will output the 10 players with the highest similarity\n",
    "def similar_players(player_name):\n",
    "    player_pca1 = pca_df[pca_df['Name'] == player_name]['PCA1'].values[0] #Get the player's PCA1 value\n",
    "    player_pca2 = pca_df[pca_df['Name'] == player_name]['PCA2'].values[0] #Get the player's PCA2 value\n",
    "\n",
    "    # Calculate the distance of all players from the specified player\n",
    "    pca_df['Distance'] = np.sqrt((pca_df['PCA1'] - player_pca1)**2 + (pca_df['PCA2'] - player_pca2)**2)\n",
    "\n",
    "    # Exclude the specified player and sort by distance\n",
    "    closest_players = pca_df[pca_df['Name'] != player_name].sort_values(by='Distance')\n",
    "\n",
    "    # Get the list of closest player names\n",
    "    closest_players_list = closest_players['Name'].tolist()\n",
    "\n",
    "    # Return the top N closest players\n",
    "    return closest_players_list[:10]\n",
    "\n",
    "similar_players('LeBron James')"
   ]
  }
 ],
 "metadata": {
  "kernelspec": {
   "display_name": "Python 3",
   "language": "python",
   "name": "python3"
  },
  "language_info": {
   "codemirror_mode": {
    "name": "ipython",
    "version": 3
   },
   "file_extension": ".py",
   "mimetype": "text/x-python",
   "name": "python",
   "nbconvert_exporter": "python",
   "pygments_lexer": "ipython3",
   "version": "3.9.12"
  },
  "orig_nbformat": 4
 },
 "nbformat": 4,
 "nbformat_minor": 2
}
